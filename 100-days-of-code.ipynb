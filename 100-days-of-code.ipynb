{
 "cells": [
  {
   "cell_type": "code",
   "execution_count": 1,
   "id": "849a0b3a",
   "metadata": {
    "_cell_guid": "b1076dfc-b9ad-4769-8c92-a6c4dae69d19",
    "_uuid": "8f2839f25d086af736a60e9eeb907d3b93b6e0e5",
    "execution": {
     "iopub.execute_input": "2022-06-01T18:37:20.469447Z",
     "iopub.status.busy": "2022-06-01T18:37:20.468673Z",
     "iopub.status.idle": "2022-06-01T18:37:20.478795Z",
     "shell.execute_reply": "2022-06-01T18:37:20.478022Z"
    },
    "papermill": {
     "duration": 0.01843,
     "end_time": "2022-06-01T18:37:20.481164",
     "exception": false,
     "start_time": "2022-06-01T18:37:20.462734",
     "status": "completed"
    },
    "tags": []
   },
   "outputs": [],
   "source": [
    "# This Python 3 environment comes with many helpful analytics libraries installed\n",
    "# It is defined by the kaggle/python Docker image: https://github.com/kaggle/docker-python\n",
    "# For example, here's several helpful packages to load\n",
    "\n",
    "import numpy as np # linear algebra\n",
    "import pandas as pd # data processing, CSV file I/O (e.g. pd.read_csv)\n",
    "\n",
    "# Input data files are available in the read-only \"../input/\" directory\n",
    "# For example, running this (by clicking run or pressing Shift+Enter) will list all files under the input directory\n",
    "\n",
    "import os\n",
    "for dirname, _, filenames in os.walk('/kaggle/input'):\n",
    "    for filename in filenames:\n",
    "        print(os.path.join(dirname, filename))\n",
    "\n",
    "# You can write up to 20GB to the current directory (/kaggle/working/) that gets preserved as output when you create a version using \"Save & Run All\" \n",
    "# You can also write temporary files to /kaggle/temp/, but they won't be saved outside of the current session"
   ]
  },
  {
   "cell_type": "code",
   "execution_count": 2,
   "id": "e25761bc",
   "metadata": {
    "execution": {
     "iopub.execute_input": "2022-06-01T18:37:20.492618Z",
     "iopub.status.busy": "2022-06-01T18:37:20.491785Z",
     "iopub.status.idle": "2022-06-01T18:37:20.496663Z",
     "shell.execute_reply": "2022-06-01T18:37:20.495969Z"
    },
    "papermill": {
     "duration": 0.011675,
     "end_time": "2022-06-01T18:37:20.498986",
     "exception": false,
     "start_time": "2022-06-01T18:37:20.487311",
     "status": "completed"
    },
    "tags": []
   },
   "outputs": [
    {
     "name": "stdout",
     "output_type": "stream",
     "text": [
      "8\n"
     ]
    }
   ],
   "source": [
    "print(len(\"95637+12\"))"
   ]
  },
  {
   "cell_type": "code",
   "execution_count": 3,
   "id": "f7fa7470",
   "metadata": {
    "execution": {
     "iopub.execute_input": "2022-06-01T18:37:20.507741Z",
     "iopub.status.busy": "2022-06-01T18:37:20.507093Z",
     "iopub.status.idle": "2022-06-01T18:37:20.513351Z",
     "shell.execute_reply": "2022-06-01T18:37:20.512279Z"
    },
    "papermill": {
     "duration": 0.013042,
     "end_time": "2022-06-01T18:37:20.515558",
     "exception": false,
     "start_time": "2022-06-01T18:37:20.502516",
     "status": "completed"
    },
    "tags": []
   },
   "outputs": [
    {
     "name": "stdout",
     "output_type": "stream",
     "text": [
      "B\n"
     ]
    }
   ],
   "source": [
    "score = 67\n",
    "if score < 80 and score > 70:\n",
    "    print('A')\n",
    "elif score < 90 or score > 80:\n",
    "    print('B')\n",
    "elif score > 60:\n",
    "    print('C')\n",
    "else:\n",
    "    print('D')"
   ]
  },
  {
   "cell_type": "code",
   "execution_count": 4,
   "id": "860b67f7",
   "metadata": {
    "execution": {
     "iopub.execute_input": "2022-06-01T18:37:20.524280Z",
     "iopub.status.busy": "2022-06-01T18:37:20.523864Z",
     "iopub.status.idle": "2022-06-01T18:37:20.530014Z",
     "shell.execute_reply": "2022-06-01T18:37:20.528894Z"
    },
    "papermill": {
     "duration": 0.013768,
     "end_time": "2022-06-01T18:37:20.532942",
     "exception": false,
     "start_time": "2022-06-01T18:37:20.519174",
     "status": "completed"
    },
    "tags": []
   },
   "outputs": [
    {
     "name": "stdout",
     "output_type": "stream",
     "text": [
      "15\n"
     ]
    }
   ],
   "source": [
    "def outer_function(a,b):\n",
    "    def inner_function(c,d):\n",
    "        return c+d\n",
    "    return inner_function(a,b)\n",
    "\n",
    "result = outer_function(5,10)\n",
    "print(result)"
   ]
  },
  {
   "cell_type": "code",
   "execution_count": 5,
   "id": "3bae10d1",
   "metadata": {
    "execution": {
     "iopub.execute_input": "2022-06-01T18:37:20.542584Z",
     "iopub.status.busy": "2022-06-01T18:37:20.541815Z",
     "iopub.status.idle": "2022-06-01T18:37:20.547130Z",
     "shell.execute_reply": "2022-06-01T18:37:20.546090Z"
    },
    "papermill": {
     "duration": 0.011843,
     "end_time": "2022-06-01T18:37:20.549161",
     "exception": false,
     "start_time": "2022-06-01T18:37:20.537318",
     "status": "completed"
    },
    "tags": []
   },
   "outputs": [],
   "source": [
    "def foo(a, b=4, c=6):\n",
    "    print(a,b,c)"
   ]
  },
  {
   "cell_type": "code",
   "execution_count": 6,
   "id": "4365ee3f",
   "metadata": {
    "execution": {
     "iopub.execute_input": "2022-06-01T18:37:20.557588Z",
     "iopub.status.busy": "2022-06-01T18:37:20.557227Z",
     "iopub.status.idle": "2022-06-01T18:37:20.561995Z",
     "shell.execute_reply": "2022-06-01T18:37:20.560909Z"
    },
    "papermill": {
     "duration": 0.012473,
     "end_time": "2022-06-01T18:37:20.564994",
     "exception": false,
     "start_time": "2022-06-01T18:37:20.552521",
     "status": "completed"
    },
    "tags": []
   },
   "outputs": [
    {
     "name": "stdout",
     "output_type": "stream",
     "text": [
      "20 4 12\n"
     ]
    }
   ],
   "source": [
    "foo(20, c=12)"
   ]
  },
  {
   "cell_type": "code",
   "execution_count": 7,
   "id": "4f547744",
   "metadata": {
    "execution": {
     "iopub.execute_input": "2022-06-01T18:37:20.574772Z",
     "iopub.status.busy": "2022-06-01T18:37:20.574401Z",
     "iopub.status.idle": "2022-06-01T18:37:20.578384Z",
     "shell.execute_reply": "2022-06-01T18:37:20.577549Z"
    },
    "papermill": {
     "duration": 0.010575,
     "end_time": "2022-06-01T18:37:20.580213",
     "exception": false,
     "start_time": "2022-06-01T18:37:20.569638",
     "status": "completed"
    },
    "tags": []
   },
   "outputs": [],
   "source": [
    "def all_aboard(a, *args, **kw):\n",
    "    print(a,args, kw)"
   ]
  },
  {
   "cell_type": "code",
   "execution_count": 8,
   "id": "7cc2fe1d",
   "metadata": {
    "execution": {
     "iopub.execute_input": "2022-06-01T18:37:20.588969Z",
     "iopub.status.busy": "2022-06-01T18:37:20.588103Z",
     "iopub.status.idle": "2022-06-01T18:37:20.593042Z",
     "shell.execute_reply": "2022-06-01T18:37:20.592288Z"
    },
    "papermill": {
     "duration": 0.011388,
     "end_time": "2022-06-01T18:37:20.595070",
     "exception": false,
     "start_time": "2022-06-01T18:37:20.583682",
     "status": "completed"
    },
    "tags": []
   },
   "outputs": [
    {
     "name": "stdout",
     "output_type": "stream",
     "text": [
      "4 (7, 3, 0) {'x': 10, 'y': 64}\n"
     ]
    }
   ],
   "source": [
    "all_aboard(4,7,3,0, x=10, y = 64)"
   ]
  },
  {
   "cell_type": "code",
   "execution_count": 9,
   "id": "4ed503eb",
   "metadata": {
    "execution": {
     "iopub.execute_input": "2022-06-01T18:37:20.604128Z",
     "iopub.status.busy": "2022-06-01T18:37:20.603438Z",
     "iopub.status.idle": "2022-06-01T18:37:20.608362Z",
     "shell.execute_reply": "2022-06-01T18:37:20.607403Z"
    },
    "papermill": {
     "duration": 0.011757,
     "end_time": "2022-06-01T18:37:20.610361",
     "exception": false,
     "start_time": "2022-06-01T18:37:20.598604",
     "status": "completed"
    },
    "tags": []
   },
   "outputs": [],
   "source": [
    "numbers = [1,1,2,3,5,8,13,21,34,55]\n",
    "result = [num + 3 for num in numbers if num % 2 == 0]"
   ]
  },
  {
   "cell_type": "code",
   "execution_count": 10,
   "id": "52552cb3",
   "metadata": {
    "execution": {
     "iopub.execute_input": "2022-06-01T18:37:20.619016Z",
     "iopub.status.busy": "2022-06-01T18:37:20.618332Z",
     "iopub.status.idle": "2022-06-01T18:37:20.623994Z",
     "shell.execute_reply": "2022-06-01T18:37:20.622913Z"
    },
    "papermill": {
     "duration": 0.012228,
     "end_time": "2022-06-01T18:37:20.626034",
     "exception": false,
     "start_time": "2022-06-01T18:37:20.613806",
     "status": "completed"
    },
    "tags": []
   },
   "outputs": [
    {
     "name": "stdout",
     "output_type": "stream",
     "text": [
      "[5, 11, 37]\n"
     ]
    }
   ],
   "source": [
    "print(result)"
   ]
  },
  {
   "cell_type": "code",
   "execution_count": 11,
   "id": "ee79c5b1",
   "metadata": {
    "execution": {
     "iopub.execute_input": "2022-06-01T18:37:20.634762Z",
     "iopub.status.busy": "2022-06-01T18:37:20.634376Z",
     "iopub.status.idle": "2022-06-01T18:37:20.638963Z",
     "shell.execute_reply": "2022-06-01T18:37:20.637989Z"
    },
    "papermill": {
     "duration": 0.0118,
     "end_time": "2022-06-01T18:37:20.641388",
     "exception": false,
     "start_time": "2022-06-01T18:37:20.629588",
     "status": "completed"
    },
    "tags": []
   },
   "outputs": [
    {
     "name": "stdout",
     "output_type": "stream",
     "text": [
      "Hello world\n"
     ]
    }
   ],
   "source": [
    "print('Hello world')"
   ]
  },
  {
   "cell_type": "code",
   "execution_count": null,
   "id": "9214c4fa",
   "metadata": {
    "papermill": {
     "duration": 0.003243,
     "end_time": "2022-06-01T18:37:20.648166",
     "exception": false,
     "start_time": "2022-06-01T18:37:20.644923",
     "status": "completed"
    },
    "tags": []
   },
   "outputs": [],
   "source": []
  }
 ],
 "metadata": {
  "kernelspec": {
   "display_name": "Python 3",
   "language": "python",
   "name": "python3"
  },
  "language_info": {
   "codemirror_mode": {
    "name": "ipython",
    "version": 3
   },
   "file_extension": ".py",
   "mimetype": "text/x-python",
   "name": "python",
   "nbconvert_exporter": "python",
   "pygments_lexer": "ipython3",
   "version": "3.7.12"
  },
  "papermill": {
   "default_parameters": {},
   "duration": 9.57914,
   "end_time": "2022-06-01T18:37:21.272172",
   "environment_variables": {},
   "exception": null,
   "input_path": "__notebook__.ipynb",
   "output_path": "__notebook__.ipynb",
   "parameters": {},
   "start_time": "2022-06-01T18:37:11.693032",
   "version": "2.3.4"
  }
 },
 "nbformat": 4,
 "nbformat_minor": 5
}
