{
 "cells": [
  {
   "cell_type": "code",
   "execution_count": 1,
   "id": "4a4d1118",
   "metadata": {
    "_cell_guid": "b1076dfc-b9ad-4769-8c92-a6c4dae69d19",
    "_uuid": "8f2839f25d086af736a60e9eeb907d3b93b6e0e5",
    "execution": {
     "iopub.execute_input": "2022-06-03T01:04:49.438155Z",
     "iopub.status.busy": "2022-06-03T01:04:49.437110Z",
     "iopub.status.idle": "2022-06-03T01:04:49.452425Z",
     "shell.execute_reply": "2022-06-03T01:04:49.451212Z"
    },
    "papermill": {
     "duration": 0.026023,
     "end_time": "2022-06-03T01:04:49.455160",
     "exception": false,
     "start_time": "2022-06-03T01:04:49.429137",
     "status": "completed"
    },
    "tags": []
   },
   "outputs": [],
   "source": [
    "# This Python 3 environment comes with many helpful analytics libraries installed\n",
    "# It is defined by the kaggle/python Docker image: https://github.com/kaggle/docker-python\n",
    "# For example, here's several helpful packages to load\n",
    "\n",
    "import numpy as np # linear algebra\n",
    "import pandas as pd # data processing, CSV file I/O (e.g. pd.read_csv)\n",
    "\n",
    "# Input data files are available in the read-only \"../input/\" directory\n",
    "# For example, running this (by clicking run or pressing Shift+Enter) will list all files under the input directory\n",
    "\n",
    "import os\n",
    "for dirname, _, filenames in os.walk('/kaggle/input'):\n",
    "    for filename in filenames:\n",
    "        print(os.path.join(dirname, filename))\n",
    "\n",
    "# You can write up to 20GB to the current directory (/kaggle/working/) that gets preserved as output when you create a version using \"Save & Run All\" \n",
    "# You can also write temporary files to /kaggle/temp/, but they won't be saved outside of the current session"
   ]
  },
  {
   "cell_type": "code",
   "execution_count": 2,
   "id": "f7eb551d",
   "metadata": {
    "execution": {
     "iopub.execute_input": "2022-06-03T01:04:49.469447Z",
     "iopub.status.busy": "2022-06-03T01:04:49.468960Z",
     "iopub.status.idle": "2022-06-03T01:04:49.473990Z",
     "shell.execute_reply": "2022-06-03T01:04:49.473286Z"
    },
    "papermill": {
     "duration": 0.015106,
     "end_time": "2022-06-03T01:04:49.478009",
     "exception": false,
     "start_time": "2022-06-03T01:04:49.462903",
     "status": "completed"
    },
    "tags": []
   },
   "outputs": [
    {
     "name": "stdout",
     "output_type": "stream",
     "text": [
      "8\n"
     ]
    }
   ],
   "source": [
    "print(len(\"95637+12\"))"
   ]
  },
  {
   "cell_type": "code",
   "execution_count": 3,
   "id": "4d3c4b23",
   "metadata": {
    "execution": {
     "iopub.execute_input": "2022-06-03T01:04:49.489653Z",
     "iopub.status.busy": "2022-06-03T01:04:49.488518Z",
     "iopub.status.idle": "2022-06-03T01:04:49.495366Z",
     "shell.execute_reply": "2022-06-03T01:04:49.494121Z"
    },
    "papermill": {
     "duration": 0.015166,
     "end_time": "2022-06-03T01:04:49.497861",
     "exception": false,
     "start_time": "2022-06-03T01:04:49.482695",
     "status": "completed"
    },
    "tags": []
   },
   "outputs": [
    {
     "name": "stdout",
     "output_type": "stream",
     "text": [
      "B\n"
     ]
    }
   ],
   "source": [
    "score = 67\n",
    "if score < 80 and score > 70:\n",
    "    print('A')\n",
    "elif score < 90 or score > 80:\n",
    "    print('B')\n",
    "elif score > 60:\n",
    "    print('C')\n",
    "else:\n",
    "    print('D')"
   ]
  },
  {
   "cell_type": "code",
   "execution_count": 4,
   "id": "4bb061b2",
   "metadata": {
    "execution": {
     "iopub.execute_input": "2022-06-03T01:04:49.508621Z",
     "iopub.status.busy": "2022-06-03T01:04:49.508000Z",
     "iopub.status.idle": "2022-06-03T01:04:49.513429Z",
     "shell.execute_reply": "2022-06-03T01:04:49.512475Z"
    },
    "papermill": {
     "duration": 0.013044,
     "end_time": "2022-06-03T01:04:49.515441",
     "exception": false,
     "start_time": "2022-06-03T01:04:49.502397",
     "status": "completed"
    },
    "tags": []
   },
   "outputs": [
    {
     "name": "stdout",
     "output_type": "stream",
     "text": [
      "15\n"
     ]
    }
   ],
   "source": [
    "def outer_function(a,b):\n",
    "    def inner_function(c,d):\n",
    "        return c+d\n",
    "    return inner_function(a,b)\n",
    "\n",
    "result = outer_function(5,10)\n",
    "print(result)"
   ]
  },
  {
   "cell_type": "code",
   "execution_count": 5,
   "id": "5fe53668",
   "metadata": {
    "execution": {
     "iopub.execute_input": "2022-06-03T01:04:49.526116Z",
     "iopub.status.busy": "2022-06-03T01:04:49.525356Z",
     "iopub.status.idle": "2022-06-03T01:04:49.529540Z",
     "shell.execute_reply": "2022-06-03T01:04:49.528749Z"
    },
    "papermill": {
     "duration": 0.01161,
     "end_time": "2022-06-03T01:04:49.531502",
     "exception": false,
     "start_time": "2022-06-03T01:04:49.519892",
     "status": "completed"
    },
    "tags": []
   },
   "outputs": [],
   "source": [
    "def foo(a, b=4, c=6):\n",
    "    print(a,b,c)"
   ]
  },
  {
   "cell_type": "code",
   "execution_count": 6,
   "id": "442cc96d",
   "metadata": {
    "execution": {
     "iopub.execute_input": "2022-06-03T01:04:49.542293Z",
     "iopub.status.busy": "2022-06-03T01:04:49.541724Z",
     "iopub.status.idle": "2022-06-03T01:04:49.546269Z",
     "shell.execute_reply": "2022-06-03T01:04:49.545305Z"
    },
    "papermill": {
     "duration": 0.012467,
     "end_time": "2022-06-03T01:04:49.548500",
     "exception": false,
     "start_time": "2022-06-03T01:04:49.536033",
     "status": "completed"
    },
    "tags": []
   },
   "outputs": [
    {
     "name": "stdout",
     "output_type": "stream",
     "text": [
      "20 4 12\n"
     ]
    }
   ],
   "source": [
    "foo(20, c=12)"
   ]
  },
  {
   "cell_type": "code",
   "execution_count": 7,
   "id": "91adcc93",
   "metadata": {
    "execution": {
     "iopub.execute_input": "2022-06-03T01:04:49.559769Z",
     "iopub.status.busy": "2022-06-03T01:04:49.559386Z",
     "iopub.status.idle": "2022-06-03T01:04:49.563801Z",
     "shell.execute_reply": "2022-06-03T01:04:49.563089Z"
    },
    "papermill": {
     "duration": 0.012415,
     "end_time": "2022-06-03T01:04:49.565801",
     "exception": false,
     "start_time": "2022-06-03T01:04:49.553386",
     "status": "completed"
    },
    "tags": []
   },
   "outputs": [],
   "source": [
    "def all_aboard(a, *args, **kw):\n",
    "    print(a,args, kw)"
   ]
  },
  {
   "cell_type": "code",
   "execution_count": 8,
   "id": "21d8c803",
   "metadata": {
    "execution": {
     "iopub.execute_input": "2022-06-03T01:04:49.577007Z",
     "iopub.status.busy": "2022-06-03T01:04:49.576389Z",
     "iopub.status.idle": "2022-06-03T01:04:49.581240Z",
     "shell.execute_reply": "2022-06-03T01:04:49.580150Z"
    },
    "papermill": {
     "duration": 0.012963,
     "end_time": "2022-06-03T01:04:49.583464",
     "exception": false,
     "start_time": "2022-06-03T01:04:49.570501",
     "status": "completed"
    },
    "tags": []
   },
   "outputs": [
    {
     "name": "stdout",
     "output_type": "stream",
     "text": [
      "4 (7, 3, 0) {'x': 10, 'y': 64}\n"
     ]
    }
   ],
   "source": [
    "all_aboard(4,7,3,0, x=10, y = 64)"
   ]
  },
  {
   "cell_type": "code",
   "execution_count": 9,
   "id": "f333ea43",
   "metadata": {
    "execution": {
     "iopub.execute_input": "2022-06-03T01:04:49.594305Z",
     "iopub.status.busy": "2022-06-03T01:04:49.593864Z",
     "iopub.status.idle": "2022-06-03T01:04:49.598853Z",
     "shell.execute_reply": "2022-06-03T01:04:49.598205Z"
    },
    "papermill": {
     "duration": 0.012461,
     "end_time": "2022-06-03T01:04:49.600617",
     "exception": false,
     "start_time": "2022-06-03T01:04:49.588156",
     "status": "completed"
    },
    "tags": []
   },
   "outputs": [],
   "source": [
    "numbers = [1,1,2,3,5,8,13,21,34,55]\n",
    "result = [num + 3 for num in numbers if num % 2 == 0]"
   ]
  },
  {
   "cell_type": "code",
   "execution_count": 10,
   "id": "39147803",
   "metadata": {
    "execution": {
     "iopub.execute_input": "2022-06-03T01:04:49.611944Z",
     "iopub.status.busy": "2022-06-03T01:04:49.611402Z",
     "iopub.status.idle": "2022-06-03T01:04:49.616103Z",
     "shell.execute_reply": "2022-06-03T01:04:49.614902Z"
    },
    "papermill": {
     "duration": 0.01273,
     "end_time": "2022-06-03T01:04:49.618166",
     "exception": false,
     "start_time": "2022-06-03T01:04:49.605436",
     "status": "completed"
    },
    "tags": []
   },
   "outputs": [
    {
     "name": "stdout",
     "output_type": "stream",
     "text": [
      "[5, 11, 37]\n"
     ]
    }
   ],
   "source": [
    "print(result)"
   ]
  },
  {
   "cell_type": "code",
   "execution_count": 11,
   "id": "39abc137",
   "metadata": {
    "execution": {
     "iopub.execute_input": "2022-06-03T01:04:49.629137Z",
     "iopub.status.busy": "2022-06-03T01:04:49.628729Z",
     "iopub.status.idle": "2022-06-03T01:04:49.633467Z",
     "shell.execute_reply": "2022-06-03T01:04:49.632557Z"
    },
    "papermill": {
     "duration": 0.012885,
     "end_time": "2022-06-03T01:04:49.635761",
     "exception": false,
     "start_time": "2022-06-03T01:04:49.622876",
     "status": "completed"
    },
    "tags": []
   },
   "outputs": [
    {
     "name": "stdout",
     "output_type": "stream",
     "text": [
      "Hello world\n"
     ]
    }
   ],
   "source": [
    "print('Hello world')"
   ]
  },
  {
   "cell_type": "code",
   "execution_count": null,
   "id": "cd7f04c2",
   "metadata": {
    "papermill": {
     "duration": 0.004589,
     "end_time": "2022-06-03T01:04:49.645097",
     "exception": false,
     "start_time": "2022-06-03T01:04:49.640508",
     "status": "completed"
    },
    "tags": []
   },
   "outputs": [],
   "source": []
  }
 ],
 "metadata": {
  "kernelspec": {
   "display_name": "Python 3",
   "language": "python",
   "name": "python3"
  },
  "language_info": {
   "codemirror_mode": {
    "name": "ipython",
    "version": 3
   },
   "file_extension": ".py",
   "mimetype": "text/x-python",
   "name": "python",
   "nbconvert_exporter": "python",
   "pygments_lexer": "ipython3",
   "version": "3.7.12"
  },
  "papermill": {
   "default_parameters": {},
   "duration": 11.388459,
   "end_time": "2022-06-03T01:04:50.372868",
   "environment_variables": {},
   "exception": null,
   "input_path": "__notebook__.ipynb",
   "output_path": "__notebook__.ipynb",
   "parameters": {},
   "start_time": "2022-06-03T01:04:38.984409",
   "version": "2.3.4"
  }
 },
 "nbformat": 4,
 "nbformat_minor": 5
}
