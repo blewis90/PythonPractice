{
 "cells": [
  {
   "cell_type": "code",
   "execution_count": 1,
   "id": "f23674f7",
   "metadata": {
    "_cell_guid": "b1076dfc-b9ad-4769-8c92-a6c4dae69d19",
    "_uuid": "8f2839f25d086af736a60e9eeb907d3b93b6e0e5",
    "execution": {
     "iopub.execute_input": "2022-04-21T17:46:26.924040Z",
     "iopub.status.busy": "2022-04-21T17:46:26.923275Z",
     "iopub.status.idle": "2022-04-21T17:46:26.936927Z",
     "shell.execute_reply": "2022-04-21T17:46:26.936362Z"
    },
    "papermill": {
     "duration": 0.02357,
     "end_time": "2022-04-21T17:46:26.938940",
     "exception": false,
     "start_time": "2022-04-21T17:46:26.915370",
     "status": "completed"
    },
    "tags": []
   },
   "outputs": [],
   "source": [
    "# This Python 3 environment comes with many helpful analytics libraries installed\n",
    "# It is defined by the kaggle/python Docker image: https://github.com/kaggle/docker-python\n",
    "# For example, here's several helpful packages to load\n",
    "\n",
    "import numpy as np # linear algebra\n",
    "import pandas as pd # data processing, CSV file I/O (e.g. pd.read_csv)\n",
    "\n",
    "# Input data files are available in the read-only \"../input/\" directory\n",
    "# For example, running this (by clicking run or pressing Shift+Enter) will list all files under the input directory\n",
    "\n",
    "import os\n",
    "for dirname, _, filenames in os.walk('/kaggle/input'):\n",
    "    for filename in filenames:\n",
    "        print(os.path.join(dirname, filename))\n",
    "\n",
    "# You can write up to 20GB to the current directory (/kaggle/working/) that gets preserved as output when you create a version using \"Save & Run All\" \n",
    "# You can also write temporary files to /kaggle/temp/, but they won't be saved outside of the current session"
   ]
  },
  {
   "cell_type": "code",
   "execution_count": 2,
   "id": "ae52242c",
   "metadata": {
    "execution": {
     "iopub.execute_input": "2022-04-21T17:46:26.947784Z",
     "iopub.status.busy": "2022-04-21T17:46:26.947282Z",
     "iopub.status.idle": "2022-04-21T17:46:26.951035Z",
     "shell.execute_reply": "2022-04-21T17:46:26.950526Z"
    },
    "papermill": {
     "duration": 0.009989,
     "end_time": "2022-04-21T17:46:26.952854",
     "exception": false,
     "start_time": "2022-04-21T17:46:26.942865",
     "status": "completed"
    },
    "tags": []
   },
   "outputs": [],
   "source": [
    "x = 5"
   ]
  }
 ],
 "metadata": {
  "kernelspec": {
   "display_name": "Python 3",
   "language": "python",
   "name": "python3"
  },
  "language_info": {
   "codemirror_mode": {
    "name": "ipython",
    "version": 3
   },
   "file_extension": ".py",
   "mimetype": "text/x-python",
   "name": "python",
   "nbconvert_exporter": "python",
   "pygments_lexer": "ipython3",
   "version": "3.7.12"
  },
  "papermill": {
   "default_parameters": {},
   "duration": 10.153102,
   "end_time": "2022-04-21T17:46:27.576645",
   "environment_variables": {},
   "exception": null,
   "input_path": "__notebook__.ipynb",
   "output_path": "__notebook__.ipynb",
   "parameters": {},
   "start_time": "2022-04-21T17:46:17.423543",
   "version": "2.3.4"
  }
 },
 "nbformat": 4,
 "nbformat_minor": 5
}
