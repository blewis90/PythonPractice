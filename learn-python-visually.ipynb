{
 "cells": [
  {
   "cell_type": "code",
   "execution_count": 1,
   "id": "205cc068",
   "metadata": {
    "_cell_guid": "b1076dfc-b9ad-4769-8c92-a6c4dae69d19",
    "_uuid": "8f2839f25d086af736a60e9eeb907d3b93b6e0e5",
    "execution": {
     "iopub.execute_input": "2022-04-21T17:45:01.525450Z",
     "iopub.status.busy": "2022-04-21T17:45:01.525113Z",
     "iopub.status.idle": "2022-04-21T17:45:01.537401Z",
     "shell.execute_reply": "2022-04-21T17:45:01.536462Z"
    },
    "papermill": {
     "duration": 0.020986,
     "end_time": "2022-04-21T17:45:01.539637",
     "exception": false,
     "start_time": "2022-04-21T17:45:01.518651",
     "status": "completed"
    },
    "tags": []
   },
   "outputs": [],
   "source": [
    "# This Python 3 environment comes with many helpful analytics libraries installed\n",
    "# It is defined by the kaggle/python Docker image: https://github.com/kaggle/docker-python\n",
    "# For example, here's several helpful packages to load\n",
    "\n",
    "import numpy as np # linear algebra\n",
    "import pandas as pd # data processing, CSV file I/O (e.g. pd.read_csv)\n",
    "\n",
    "# Input data files are available in the read-only \"../input/\" directory\n",
    "# For example, running this (by clicking run or pressing Shift+Enter) will list all files under the input directory\n",
    "\n",
    "import os\n",
    "for dirname, _, filenames in os.walk('/kaggle/input'):\n",
    "    for filename in filenames:\n",
    "        print(os.path.join(dirname, filename))\n",
    "\n",
    "# You can write up to 20GB to the current directory (/kaggle/working/) that gets preserved as output when you create a version using \"Save & Run All\" \n",
    "# You can also write temporary files to /kaggle/temp/, but they won't be saved outside of the current session"
   ]
  },
  {
   "cell_type": "code",
   "execution_count": 2,
   "id": "cc5a10c2",
   "metadata": {
    "execution": {
     "iopub.execute_input": "2022-04-21T17:45:01.548665Z",
     "iopub.status.busy": "2022-04-21T17:45:01.548383Z",
     "iopub.status.idle": "2022-04-21T17:45:01.552788Z",
     "shell.execute_reply": "2022-04-21T17:45:01.551941Z"
    },
    "papermill": {
     "duration": 0.011258,
     "end_time": "2022-04-21T17:45:01.554854",
     "exception": false,
     "start_time": "2022-04-21T17:45:01.543596",
     "status": "completed"
    },
    "tags": []
   },
   "outputs": [],
   "source": [
    "x = 3"
   ]
  }
 ],
 "metadata": {
  "kernelspec": {
   "display_name": "Python 3",
   "language": "python",
   "name": "python3"
  },
  "language_info": {
   "codemirror_mode": {
    "name": "ipython",
    "version": 3
   },
   "file_extension": ".py",
   "mimetype": "text/x-python",
   "name": "python",
   "nbconvert_exporter": "python",
   "pygments_lexer": "ipython3",
   "version": "3.7.12"
  },
  "papermill": {
   "default_parameters": {},
   "duration": 10.488342,
   "end_time": "2022-04-21T17:45:02.179296",
   "environment_variables": {},
   "exception": null,
   "input_path": "__notebook__.ipynb",
   "output_path": "__notebook__.ipynb",
   "parameters": {},
   "start_time": "2022-04-21T17:44:51.690954",
   "version": "2.3.4"
  }
 },
 "nbformat": 4,
 "nbformat_minor": 5
}
