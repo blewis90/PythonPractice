{
 "cells": [
  {
   "cell_type": "code",
   "execution_count": 1,
   "id": "12e429db",
   "metadata": {
    "_cell_guid": "b1076dfc-b9ad-4769-8c92-a6c4dae69d19",
    "_uuid": "8f2839f25d086af736a60e9eeb907d3b93b6e0e5",
    "execution": {
     "iopub.execute_input": "2022-03-23T20:37:17.797756Z",
     "iopub.status.busy": "2022-03-23T20:37:17.796077Z",
     "iopub.status.idle": "2022-03-23T20:37:17.817748Z",
     "shell.execute_reply": "2022-03-23T20:37:17.818334Z"
    },
    "papermill": {
     "duration": 0.050404,
     "end_time": "2022-03-23T20:37:17.818629",
     "exception": false,
     "start_time": "2022-03-23T20:37:17.768225",
     "status": "completed"
    },
    "tags": []
   },
   "outputs": [
    {
     "name": "stdout",
     "output_type": "stream",
     "text": [
      "/kaggle/input/insurancedata/insurance_data.csv\n"
     ]
    }
   ],
   "source": [
    "# This Python 3 environment comes with many helpful analytics libraries installed\n",
    "# It is defined by the kaggle/python Docker image: https://github.com/kaggle/docker-python\n",
    "# For example, here's several helpful packages to load\n",
    "\n",
    "import numpy as np # linear algebra\n",
    "import pandas as pd # data processing, CSV file I/O (e.g. pd.read_csv)\n",
    "\n",
    "# Input data files are available in the read-only \"../input/\" directory\n",
    "# For example, running this (by clicking run or pressing Shift+Enter) will list all files under the input directory\n",
    "\n",
    "import os\n",
    "for dirname, _, filenames in os.walk('/kaggle/input'):\n",
    "    for filename in filenames:\n",
    "        print(os.path.join(dirname, filename))\n",
    "\n",
    "# You can write up to 20GB to the current directory (/kaggle/working/) that gets preserved as output when you create a version using \"Save & Run All\" \n",
    "# You can also write temporary files to /kaggle/temp/, but they won't be saved outside of the current session"
   ]
  },
  {
   "cell_type": "code",
   "execution_count": 2,
   "id": "5bdf0e3a",
   "metadata": {
    "execution": {
     "iopub.execute_input": "2022-03-23T20:37:17.872304Z",
     "iopub.status.busy": "2022-03-23T20:37:17.870052Z",
     "iopub.status.idle": "2022-03-23T20:37:19.519177Z",
     "shell.execute_reply": "2022-03-23T20:37:19.518484Z",
     "shell.execute_reply.started": "2022-03-23T20:21:00.341921Z"
    },
    "papermill": {
     "duration": 1.678241,
     "end_time": "2022-03-23T20:37:19.519316",
     "exception": false,
     "start_time": "2022-03-23T20:37:17.841075",
     "status": "completed"
    },
    "tags": []
   },
   "outputs": [],
   "source": [
    "import pandas as pd\n",
    "from sklearn.datasets import load_iris\n",
    "iris = load_iris()"
   ]
  },
  {
   "cell_type": "code",
   "execution_count": 3,
   "id": "5c839067",
   "metadata": {
    "execution": {
     "iopub.execute_input": "2022-03-23T20:37:19.571464Z",
     "iopub.status.busy": "2022-03-23T20:37:19.570610Z",
     "iopub.status.idle": "2022-03-23T20:37:19.574631Z",
     "shell.execute_reply": "2022-03-23T20:37:19.575187Z",
     "shell.execute_reply.started": "2022-03-23T20:21:01.670463Z"
    },
    "papermill": {
     "duration": 0.035222,
     "end_time": "2022-03-23T20:37:19.575360",
     "exception": false,
     "start_time": "2022-03-23T20:37:19.540138",
     "status": "completed"
    },
    "tags": []
   },
   "outputs": [
    {
     "data": {
      "text/plain": [
       "['DESCR',\n",
       " 'data',\n",
       " 'data_module',\n",
       " 'feature_names',\n",
       " 'filename',\n",
       " 'frame',\n",
       " 'target',\n",
       " 'target_names']"
      ]
     },
     "execution_count": 3,
     "metadata": {},
     "output_type": "execute_result"
    }
   ],
   "source": [
    "dir(iris)"
   ]
  },
  {
   "cell_type": "code",
   "execution_count": 4,
   "id": "fba48405",
   "metadata": {
    "execution": {
     "iopub.execute_input": "2022-03-23T20:37:19.624564Z",
     "iopub.status.busy": "2022-03-23T20:37:19.623802Z",
     "iopub.status.idle": "2022-03-23T20:37:19.627327Z",
     "shell.execute_reply": "2022-03-23T20:37:19.626654Z",
     "shell.execute_reply.started": "2022-03-23T20:21:17.271839Z"
    },
    "papermill": {
     "duration": 0.030765,
     "end_time": "2022-03-23T20:37:19.627480",
     "exception": false,
     "start_time": "2022-03-23T20:37:19.596715",
     "status": "completed"
    },
    "tags": []
   },
   "outputs": [
    {
     "data": {
      "text/plain": [
       "['sepal length (cm)',\n",
       " 'sepal width (cm)',\n",
       " 'petal length (cm)',\n",
       " 'petal width (cm)']"
      ]
     },
     "execution_count": 4,
     "metadata": {},
     "output_type": "execute_result"
    }
   ],
   "source": [
    "iris.feature_names"
   ]
  },
  {
   "cell_type": "code",
   "execution_count": 5,
   "id": "afdc2cfa",
   "metadata": {
    "execution": {
     "iopub.execute_input": "2022-03-23T20:37:19.684335Z",
     "iopub.status.busy": "2022-03-23T20:37:19.676041Z",
     "iopub.status.idle": "2022-03-23T20:37:19.704857Z",
     "shell.execute_reply": "2022-03-23T20:37:19.705464Z",
     "shell.execute_reply.started": "2022-03-23T20:24:44.236410Z"
    },
    "papermill": {
     "duration": 0.055647,
     "end_time": "2022-03-23T20:37:19.705655",
     "exception": false,
     "start_time": "2022-03-23T20:37:19.650008",
     "status": "completed"
    },
    "tags": []
   },
   "outputs": [
    {
     "data": {
      "text/html": [
       "<div>\n",
       "<style scoped>\n",
       "    .dataframe tbody tr th:only-of-type {\n",
       "        vertical-align: middle;\n",
       "    }\n",
       "\n",
       "    .dataframe tbody tr th {\n",
       "        vertical-align: top;\n",
       "    }\n",
       "\n",
       "    .dataframe thead th {\n",
       "        text-align: right;\n",
       "    }\n",
       "</style>\n",
       "<table border=\"1\" class=\"dataframe\">\n",
       "  <thead>\n",
       "    <tr style=\"text-align: right;\">\n",
       "      <th></th>\n",
       "      <th>sepal length (cm)</th>\n",
       "      <th>sepal width (cm)</th>\n",
       "      <th>petal length (cm)</th>\n",
       "      <th>petal width (cm)</th>\n",
       "    </tr>\n",
       "  </thead>\n",
       "  <tbody>\n",
       "    <tr>\n",
       "      <th>0</th>\n",
       "      <td>5.1</td>\n",
       "      <td>3.5</td>\n",
       "      <td>1.4</td>\n",
       "      <td>0.2</td>\n",
       "    </tr>\n",
       "    <tr>\n",
       "      <th>1</th>\n",
       "      <td>4.9</td>\n",
       "      <td>3.0</td>\n",
       "      <td>1.4</td>\n",
       "      <td>0.2</td>\n",
       "    </tr>\n",
       "    <tr>\n",
       "      <th>2</th>\n",
       "      <td>4.7</td>\n",
       "      <td>3.2</td>\n",
       "      <td>1.3</td>\n",
       "      <td>0.2</td>\n",
       "    </tr>\n",
       "    <tr>\n",
       "      <th>3</th>\n",
       "      <td>4.6</td>\n",
       "      <td>3.1</td>\n",
       "      <td>1.5</td>\n",
       "      <td>0.2</td>\n",
       "    </tr>\n",
       "    <tr>\n",
       "      <th>4</th>\n",
       "      <td>5.0</td>\n",
       "      <td>3.6</td>\n",
       "      <td>1.4</td>\n",
       "      <td>0.2</td>\n",
       "    </tr>\n",
       "  </tbody>\n",
       "</table>\n",
       "</div>"
      ],
      "text/plain": [
       "   sepal length (cm)  sepal width (cm)  petal length (cm)  petal width (cm)\n",
       "0                5.1               3.5                1.4               0.2\n",
       "1                4.9               3.0                1.4               0.2\n",
       "2                4.7               3.2                1.3               0.2\n",
       "3                4.6               3.1                1.5               0.2\n",
       "4                5.0               3.6                1.4               0.2"
      ]
     },
     "execution_count": 5,
     "metadata": {},
     "output_type": "execute_result"
    }
   ],
   "source": [
    "df = pd.DataFrame(iris.data, columns =iris.feature_names)\n",
    "df.head()"
   ]
  },
  {
   "cell_type": "code",
   "execution_count": 6,
   "id": "ae8b8a2b",
   "metadata": {
    "execution": {
     "iopub.execute_input": "2022-03-23T20:37:19.758683Z",
     "iopub.status.busy": "2022-03-23T20:37:19.757908Z",
     "iopub.status.idle": "2022-03-23T20:37:19.776127Z",
     "shell.execute_reply": "2022-03-23T20:37:19.776669Z",
     "shell.execute_reply.started": "2022-03-23T20:25:01.766767Z"
    },
    "papermill": {
     "duration": 0.046127,
     "end_time": "2022-03-23T20:37:19.776847",
     "exception": false,
     "start_time": "2022-03-23T20:37:19.730720",
     "status": "completed"
    },
    "tags": []
   },
   "outputs": [
    {
     "data": {
      "text/html": [
       "<div>\n",
       "<style scoped>\n",
       "    .dataframe tbody tr th:only-of-type {\n",
       "        vertical-align: middle;\n",
       "    }\n",
       "\n",
       "    .dataframe tbody tr th {\n",
       "        vertical-align: top;\n",
       "    }\n",
       "\n",
       "    .dataframe thead th {\n",
       "        text-align: right;\n",
       "    }\n",
       "</style>\n",
       "<table border=\"1\" class=\"dataframe\">\n",
       "  <thead>\n",
       "    <tr style=\"text-align: right;\">\n",
       "      <th></th>\n",
       "      <th>sepal length (cm)</th>\n",
       "      <th>sepal width (cm)</th>\n",
       "      <th>petal length (cm)</th>\n",
       "      <th>petal width (cm)</th>\n",
       "      <th>target</th>\n",
       "    </tr>\n",
       "  </thead>\n",
       "  <tbody>\n",
       "    <tr>\n",
       "      <th>0</th>\n",
       "      <td>5.1</td>\n",
       "      <td>3.5</td>\n",
       "      <td>1.4</td>\n",
       "      <td>0.2</td>\n",
       "      <td>0</td>\n",
       "    </tr>\n",
       "    <tr>\n",
       "      <th>1</th>\n",
       "      <td>4.9</td>\n",
       "      <td>3.0</td>\n",
       "      <td>1.4</td>\n",
       "      <td>0.2</td>\n",
       "      <td>0</td>\n",
       "    </tr>\n",
       "    <tr>\n",
       "      <th>2</th>\n",
       "      <td>4.7</td>\n",
       "      <td>3.2</td>\n",
       "      <td>1.3</td>\n",
       "      <td>0.2</td>\n",
       "      <td>0</td>\n",
       "    </tr>\n",
       "    <tr>\n",
       "      <th>3</th>\n",
       "      <td>4.6</td>\n",
       "      <td>3.1</td>\n",
       "      <td>1.5</td>\n",
       "      <td>0.2</td>\n",
       "      <td>0</td>\n",
       "    </tr>\n",
       "    <tr>\n",
       "      <th>4</th>\n",
       "      <td>5.0</td>\n",
       "      <td>3.6</td>\n",
       "      <td>1.4</td>\n",
       "      <td>0.2</td>\n",
       "      <td>0</td>\n",
       "    </tr>\n",
       "  </tbody>\n",
       "</table>\n",
       "</div>"
      ],
      "text/plain": [
       "   sepal length (cm)  sepal width (cm)  petal length (cm)  petal width (cm)  \\\n",
       "0                5.1               3.5                1.4               0.2   \n",
       "1                4.9               3.0                1.4               0.2   \n",
       "2                4.7               3.2                1.3               0.2   \n",
       "3                4.6               3.1                1.5               0.2   \n",
       "4                5.0               3.6                1.4               0.2   \n",
       "\n",
       "   target  \n",
       "0       0  \n",
       "1       0  \n",
       "2       0  \n",
       "3       0  \n",
       "4       0  "
      ]
     },
     "execution_count": 6,
     "metadata": {},
     "output_type": "execute_result"
    }
   ],
   "source": [
    "df['target']=iris.target\n",
    "df.head()"
   ]
  },
  {
   "cell_type": "code",
   "execution_count": 7,
   "id": "557c3443",
   "metadata": {
    "execution": {
     "iopub.execute_input": "2022-03-23T20:37:19.828373Z",
     "iopub.status.busy": "2022-03-23T20:37:19.827623Z",
     "iopub.status.idle": "2022-03-23T20:37:19.832930Z",
     "shell.execute_reply": "2022-03-23T20:37:19.833539Z",
     "shell.execute_reply.started": "2022-03-23T20:25:10.959718Z"
    },
    "papermill": {
     "duration": 0.032943,
     "end_time": "2022-03-23T20:37:19.833722",
     "exception": false,
     "start_time": "2022-03-23T20:37:19.800779",
     "status": "completed"
    },
    "tags": []
   },
   "outputs": [
    {
     "data": {
      "text/plain": [
       "array(['setosa', 'versicolor', 'virginica'], dtype='<U10')"
      ]
     },
     "execution_count": 7,
     "metadata": {},
     "output_type": "execute_result"
    }
   ],
   "source": [
    "iris.target_names"
   ]
  },
  {
   "cell_type": "code",
   "execution_count": 8,
   "id": "55f1c1d5",
   "metadata": {
    "execution": {
     "iopub.execute_input": "2022-03-23T20:37:19.889628Z",
     "iopub.status.busy": "2022-03-23T20:37:19.888858Z",
     "iopub.status.idle": "2022-03-23T20:37:19.908768Z",
     "shell.execute_reply": "2022-03-23T20:37:19.909390Z",
     "shell.execute_reply.started": "2022-03-23T20:26:13.447130Z"
    },
    "papermill": {
     "duration": 0.049872,
     "end_time": "2022-03-23T20:37:19.909588",
     "exception": false,
     "start_time": "2022-03-23T20:37:19.859716",
     "status": "completed"
    },
    "tags": []
   },
   "outputs": [
    {
     "data": {
      "text/html": [
       "<div>\n",
       "<style scoped>\n",
       "    .dataframe tbody tr th:only-of-type {\n",
       "        vertical-align: middle;\n",
       "    }\n",
       "\n",
       "    .dataframe tbody tr th {\n",
       "        vertical-align: top;\n",
       "    }\n",
       "\n",
       "    .dataframe thead th {\n",
       "        text-align: right;\n",
       "    }\n",
       "</style>\n",
       "<table border=\"1\" class=\"dataframe\">\n",
       "  <thead>\n",
       "    <tr style=\"text-align: right;\">\n",
       "      <th></th>\n",
       "      <th>sepal length (cm)</th>\n",
       "      <th>sepal width (cm)</th>\n",
       "      <th>petal length (cm)</th>\n",
       "      <th>petal width (cm)</th>\n",
       "      <th>target</th>\n",
       "    </tr>\n",
       "  </thead>\n",
       "  <tbody>\n",
       "    <tr>\n",
       "      <th>100</th>\n",
       "      <td>6.3</td>\n",
       "      <td>3.3</td>\n",
       "      <td>6.0</td>\n",
       "      <td>2.5</td>\n",
       "      <td>2</td>\n",
       "    </tr>\n",
       "    <tr>\n",
       "      <th>101</th>\n",
       "      <td>5.8</td>\n",
       "      <td>2.7</td>\n",
       "      <td>5.1</td>\n",
       "      <td>1.9</td>\n",
       "      <td>2</td>\n",
       "    </tr>\n",
       "    <tr>\n",
       "      <th>102</th>\n",
       "      <td>7.1</td>\n",
       "      <td>3.0</td>\n",
       "      <td>5.9</td>\n",
       "      <td>2.1</td>\n",
       "      <td>2</td>\n",
       "    </tr>\n",
       "    <tr>\n",
       "      <th>103</th>\n",
       "      <td>6.3</td>\n",
       "      <td>2.9</td>\n",
       "      <td>5.6</td>\n",
       "      <td>1.8</td>\n",
       "      <td>2</td>\n",
       "    </tr>\n",
       "    <tr>\n",
       "      <th>104</th>\n",
       "      <td>6.5</td>\n",
       "      <td>3.0</td>\n",
       "      <td>5.8</td>\n",
       "      <td>2.2</td>\n",
       "      <td>2</td>\n",
       "    </tr>\n",
       "  </tbody>\n",
       "</table>\n",
       "</div>"
      ],
      "text/plain": [
       "     sepal length (cm)  sepal width (cm)  petal length (cm)  petal width (cm)  \\\n",
       "100                6.3               3.3                6.0               2.5   \n",
       "101                5.8               2.7                5.1               1.9   \n",
       "102                7.1               3.0                5.9               2.1   \n",
       "103                6.3               2.9                5.6               1.8   \n",
       "104                6.5               3.0                5.8               2.2   \n",
       "\n",
       "     target  \n",
       "100       2  \n",
       "101       2  \n",
       "102       2  \n",
       "103       2  \n",
       "104       2  "
      ]
     },
     "execution_count": 8,
     "metadata": {},
     "output_type": "execute_result"
    }
   ],
   "source": [
    "df[df.target ==2].head()"
   ]
  },
  {
   "cell_type": "code",
   "execution_count": 9,
   "id": "e5488209",
   "metadata": {
    "execution": {
     "iopub.execute_input": "2022-03-23T20:37:19.967310Z",
     "iopub.status.busy": "2022-03-23T20:37:19.966564Z",
     "iopub.status.idle": "2022-03-23T20:37:19.971879Z",
     "shell.execute_reply": "2022-03-23T20:37:19.972521Z",
     "shell.execute_reply.started": "2022-03-23T20:27:06.799989Z"
    },
    "papermill": {
     "duration": 0.03773,
     "end_time": "2022-03-23T20:37:19.972718",
     "exception": false,
     "start_time": "2022-03-23T20:37:19.934988",
     "status": "completed"
    },
    "tags": []
   },
   "outputs": [],
   "source": [
    "df['flower_name']= df.target.apply(lambda x: iris.target_names[x])"
   ]
  },
  {
   "cell_type": "code",
   "execution_count": 10,
   "id": "b068360e",
   "metadata": {
    "execution": {
     "iopub.execute_input": "2022-03-23T20:37:20.026378Z",
     "iopub.status.busy": "2022-03-23T20:37:20.025643Z",
     "iopub.status.idle": "2022-03-23T20:37:20.038683Z",
     "shell.execute_reply": "2022-03-23T20:37:20.039250Z",
     "shell.execute_reply.started": "2022-03-23T20:27:27.534792Z"
    },
    "papermill": {
     "duration": 0.041689,
     "end_time": "2022-03-23T20:37:20.039463",
     "exception": false,
     "start_time": "2022-03-23T20:37:19.997774",
     "status": "completed"
    },
    "tags": []
   },
   "outputs": [
    {
     "data": {
      "text/html": [
       "<div>\n",
       "<style scoped>\n",
       "    .dataframe tbody tr th:only-of-type {\n",
       "        vertical-align: middle;\n",
       "    }\n",
       "\n",
       "    .dataframe tbody tr th {\n",
       "        vertical-align: top;\n",
       "    }\n",
       "\n",
       "    .dataframe thead th {\n",
       "        text-align: right;\n",
       "    }\n",
       "</style>\n",
       "<table border=\"1\" class=\"dataframe\">\n",
       "  <thead>\n",
       "    <tr style=\"text-align: right;\">\n",
       "      <th></th>\n",
       "      <th>sepal length (cm)</th>\n",
       "      <th>sepal width (cm)</th>\n",
       "      <th>petal length (cm)</th>\n",
       "      <th>petal width (cm)</th>\n",
       "      <th>target</th>\n",
       "      <th>flower_name</th>\n",
       "    </tr>\n",
       "  </thead>\n",
       "  <tbody>\n",
       "    <tr>\n",
       "      <th>0</th>\n",
       "      <td>5.1</td>\n",
       "      <td>3.5</td>\n",
       "      <td>1.4</td>\n",
       "      <td>0.2</td>\n",
       "      <td>0</td>\n",
       "      <td>setosa</td>\n",
       "    </tr>\n",
       "    <tr>\n",
       "      <th>1</th>\n",
       "      <td>4.9</td>\n",
       "      <td>3.0</td>\n",
       "      <td>1.4</td>\n",
       "      <td>0.2</td>\n",
       "      <td>0</td>\n",
       "      <td>setosa</td>\n",
       "    </tr>\n",
       "    <tr>\n",
       "      <th>2</th>\n",
       "      <td>4.7</td>\n",
       "      <td>3.2</td>\n",
       "      <td>1.3</td>\n",
       "      <td>0.2</td>\n",
       "      <td>0</td>\n",
       "      <td>setosa</td>\n",
       "    </tr>\n",
       "    <tr>\n",
       "      <th>3</th>\n",
       "      <td>4.6</td>\n",
       "      <td>3.1</td>\n",
       "      <td>1.5</td>\n",
       "      <td>0.2</td>\n",
       "      <td>0</td>\n",
       "      <td>setosa</td>\n",
       "    </tr>\n",
       "    <tr>\n",
       "      <th>4</th>\n",
       "      <td>5.0</td>\n",
       "      <td>3.6</td>\n",
       "      <td>1.4</td>\n",
       "      <td>0.2</td>\n",
       "      <td>0</td>\n",
       "      <td>setosa</td>\n",
       "    </tr>\n",
       "  </tbody>\n",
       "</table>\n",
       "</div>"
      ],
      "text/plain": [
       "   sepal length (cm)  sepal width (cm)  petal length (cm)  petal width (cm)  \\\n",
       "0                5.1               3.5                1.4               0.2   \n",
       "1                4.9               3.0                1.4               0.2   \n",
       "2                4.7               3.2                1.3               0.2   \n",
       "3                4.6               3.1                1.5               0.2   \n",
       "4                5.0               3.6                1.4               0.2   \n",
       "\n",
       "   target flower_name  \n",
       "0       0      setosa  \n",
       "1       0      setosa  \n",
       "2       0      setosa  \n",
       "3       0      setosa  \n",
       "4       0      setosa  "
      ]
     },
     "execution_count": 10,
     "metadata": {},
     "output_type": "execute_result"
    }
   ],
   "source": [
    "df.head()"
   ]
  },
  {
   "cell_type": "code",
   "execution_count": 11,
   "id": "cb74c063",
   "metadata": {
    "execution": {
     "iopub.execute_input": "2022-03-23T20:37:20.097593Z",
     "iopub.status.busy": "2022-03-23T20:37:20.096895Z",
     "iopub.status.idle": "2022-03-23T20:37:20.102310Z",
     "shell.execute_reply": "2022-03-23T20:37:20.103062Z",
     "shell.execute_reply.started": "2022-03-23T20:28:23.344259Z"
    },
    "papermill": {
     "duration": 0.035929,
     "end_time": "2022-03-23T20:37:20.103260",
     "exception": false,
     "start_time": "2022-03-23T20:37:20.067331",
     "status": "completed"
    },
    "tags": []
   },
   "outputs": [],
   "source": [
    "from matplotlib import pyplot as plt\n",
    "%matplotlib inline"
   ]
  },
  {
   "cell_type": "code",
   "execution_count": 12,
   "id": "20446a11",
   "metadata": {
    "execution": {
     "iopub.execute_input": "2022-03-23T20:37:20.170980Z",
     "iopub.status.busy": "2022-03-23T20:37:20.170059Z",
     "iopub.status.idle": "2022-03-23T20:37:20.173928Z",
     "shell.execute_reply": "2022-03-23T20:37:20.174578Z",
     "shell.execute_reply.started": "2022-03-23T20:29:16.353494Z"
    },
    "papermill": {
     "duration": 0.043322,
     "end_time": "2022-03-23T20:37:20.174774",
     "exception": false,
     "start_time": "2022-03-23T20:37:20.131452",
     "status": "completed"
    },
    "tags": []
   },
   "outputs": [],
   "source": [
    "df0 = df[df.target == 0]\n",
    "df1 = df[df.target == 1]\n",
    "df2 = df[df.target == 2]"
   ]
  },
  {
   "cell_type": "code",
   "execution_count": 13,
   "id": "2fce5706",
   "metadata": {
    "execution": {
     "iopub.execute_input": "2022-03-23T20:37:20.231300Z",
     "iopub.status.busy": "2022-03-23T20:37:20.230566Z",
     "iopub.status.idle": "2022-03-23T20:37:20.510590Z",
     "shell.execute_reply": "2022-03-23T20:37:20.509795Z",
     "shell.execute_reply.started": "2022-03-23T20:35:42.049432Z"
    },
    "papermill": {
     "duration": 0.309965,
     "end_time": "2022-03-23T20:37:20.510752",
     "exception": false,
     "start_time": "2022-03-23T20:37:20.200787",
     "status": "completed"
    },
    "tags": []
   },
   "outputs": [
    {
     "data": {
      "text/plain": [
       "<matplotlib.collections.PathCollection at 0x7fd9b53551d0>"
      ]
     },
     "execution_count": 13,
     "metadata": {},
     "output_type": "execute_result"
    },
    {
     "data": {
      "image/png": "[encoded data removed]",
      "text/plain": [
       "<Figure size 432x288 with 1 Axes>"
      ]
     },
     "metadata": {
      "needs_background": "light"
     },
     "output_type": "display_data"
    }
   ],
   "source": [
    "\n",
    "plt.xlabel('sepal length(cm)')\n",
    "plt.ylabel('sepal width(cm)')\n",
    "plt.scatter(df0['sepal length (cm)'],df0['sepal width (cm)'], color = 'green', marker = '+')\n",
    "plt.scatter(df1['sepal length (cm)'],df1['sepal width (cm)'], color = 'blue', marker = '.')"
   ]
  },
  {
   "cell_type": "code",
   "execution_count": 14,
   "id": "9ecb8148",
   "metadata": {
    "execution": {
     "iopub.execute_input": "2022-03-23T20:37:20.596649Z",
     "iopub.status.busy": "2022-03-23T20:37:20.595885Z",
     "iopub.status.idle": "2022-03-23T20:37:20.763088Z",
     "shell.execute_reply": "2022-03-23T20:37:20.763640Z",
     "shell.execute_reply.started": "2022-03-23T20:36:46.887836Z"
    },
    "papermill": {
     "duration": 0.22502,
     "end_time": "2022-03-23T20:37:20.763839",
     "exception": false,
     "start_time": "2022-03-23T20:37:20.538819",
     "status": "completed"
    },
    "tags": []
   },
   "outputs": [
    {
     "data": {
      "text/plain": [
       "<matplotlib.collections.PathCollection at 0x7fd9b6ac3810>"
      ]
     },
     "execution_count": 14,
     "metadata": {},
     "output_type": "execute_result"
    },
    {
     "data": {
      "image/png": "[encoded data removed]",
      "text/plain": [
       "<Figure size 432x288 with 1 Axes>"
      ]
     },
     "metadata": {
      "needs_background": "light"
     },
     "output_type": "display_data"
    }
   ],
   "source": [
    "plt.xlabel('petal length(cm)')\n",
    "plt.ylabel('petal width(cm)')\n",
    "plt.scatter(df0['petal length (cm)'],df0['petal width (cm)'], color = 'green', marker = '+')\n",
    "plt.scatter(df1['petal length (cm)'],df1['petal width (cm)'], color = 'blue', marker = '.')"
   ]
  },
  {
   "cell_type": "code",
   "execution_count": null,
   "id": "62afcc39",
   "metadata": {
    "papermill": {
     "duration": 0.028272,
     "end_time": "2022-03-23T20:37:20.823590",
     "exception": false,
     "start_time": "2022-03-23T20:37:20.795318",
     "status": "completed"
    },
    "tags": []
   },
   "outputs": [],
   "source": []
  }
 ],
 "metadata": {
  "kernelspec": {
   "display_name": "Python 3",
   "language": "python",
   "name": "python3"
  },
  "language_info": {
   "codemirror_mode": {
    "name": "ipython",
    "version": 3
   },
   "file_extension": ".py",
   "mimetype": "text/x-python",
   "name": "python",
   "nbconvert_exporter": "python",
   "pygments_lexer": "ipython3",
   "version": "3.7.12"
  },
  "papermill": {
   "default_parameters": {},
   "duration": 17.498274,
   "end_time": "2022-03-23T20:37:21.967287",
   "environment_variables": {},
   "exception": null,
   "input_path": "__notebook__.ipynb",
   "output_path": "__notebook__.ipynb",
   "parameters": {},
   "start_time": "2022-03-23T20:37:04.469013",
   "version": "2.3.3"
  }
 },
 "nbformat": 4,
 "nbformat_minor": 5
}
