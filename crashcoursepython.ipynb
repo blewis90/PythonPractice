{
 "cells": [
  {
   "cell_type": "markdown",
   "id": "728383eb",
   "metadata": {
    "papermill": {
     "duration": 0.033495,
     "end_time": "2022-03-21T02:50:09.461407",
     "exception": false,
     "start_time": "2022-03-21T02:50:09.427912",
     "status": "completed"
    },
    "tags": []
   },
   "source": [
    "Simple Hello Message/ Getting started"
   ]
  },
  {
   "cell_type": "code",
   "execution_count": 1,
   "id": "b1487c45",
   "metadata": {
    "execution": {
     "iopub.execute_input": "2022-03-21T02:50:09.530613Z",
     "iopub.status.busy": "2022-03-21T02:50:09.529540Z",
     "iopub.status.idle": "2022-03-21T02:50:09.538978Z",
     "shell.execute_reply": "2022-03-21T02:50:09.539455Z",
     "shell.execute_reply.started": "2022-03-20T22:42:54.585765Z"
    },
    "papermill": {
     "duration": 0.046075,
     "end_time": "2022-03-21T02:50:09.539719",
     "exception": false,
     "start_time": "2022-03-21T02:50:09.493644",
     "status": "completed"
    },
    "tags": []
   },
   "outputs": [
    {
     "name": "stdout",
     "output_type": "stream",
     "text": [
      "Hello Python interpreter\n",
      "Hello Python World!\n",
      "Hello Python Crash Course world!\n"
     ]
    }
   ],
   "source": [
    "\n",
    "print(\"Hello Python interpreter\")\n",
    "message = \"Hello Python World!\"\n",
    "print(message)\n",
    "message = \"Hello Python Crash Course world!\"\n",
    "print(message)"
   ]
  },
  {
   "cell_type": "markdown",
   "id": "cddf6878",
   "metadata": {
    "papermill": {
     "duration": 0.03537,
     "end_time": "2022-03-21T02:50:09.608304",
     "exception": false,
     "start_time": "2022-03-21T02:50:09.572934",
     "status": "completed"
    },
    "tags": []
   },
   "source": [
    "Basic string commands"
   ]
  },
  {
   "cell_type": "code",
   "execution_count": 2,
   "id": "b0ddc956",
   "metadata": {
    "execution": {
     "iopub.execute_input": "2022-03-21T02:50:09.681414Z",
     "iopub.status.busy": "2022-03-21T02:50:09.680527Z",
     "iopub.status.idle": "2022-03-21T02:50:09.683854Z",
     "shell.execute_reply": "2022-03-21T02:50:09.684543Z",
     "shell.execute_reply.started": "2022-03-20T22:53:36.559707Z"
    },
    "papermill": {
     "duration": 0.043588,
     "end_time": "2022-03-21T02:50:09.684765",
     "exception": false,
     "start_time": "2022-03-21T02:50:09.641177",
     "status": "completed"
    },
    "tags": []
   },
   "outputs": [
    {
     "name": "stdout",
     "output_type": "stream",
     "text": [
      "Ada Lovelace\n",
      "ADA LOVELACE\n",
      "ada lovelace\n"
     ]
    }
   ],
   "source": [
    "name = \"ada lovelace\"\n",
    "print(name.title())\n",
    "print(name.upper())\n",
    "print(name.lower())"
   ]
  },
  {
   "cell_type": "markdown",
   "id": "9cd5bbdf",
   "metadata": {
    "papermill": {
     "duration": 0.033014,
     "end_time": "2022-03-21T02:50:09.753623",
     "exception": false,
     "start_time": "2022-03-21T02:50:09.720609",
     "status": "completed"
    },
    "tags": []
   },
   "source": [
    "F-String - Way to concatenate multiple variables"
   ]
  },
  {
   "cell_type": "code",
   "execution_count": 3,
   "id": "61e81f53",
   "metadata": {
    "execution": {
     "iopub.execute_input": "2022-03-21T02:50:09.824499Z",
     "iopub.status.busy": "2022-03-21T02:50:09.823834Z",
     "iopub.status.idle": "2022-03-21T02:50:09.826417Z",
     "shell.execute_reply": "2022-03-21T02:50:09.826842Z",
     "shell.execute_reply.started": "2022-03-20T22:55:23.691337Z"
    },
    "papermill": {
     "duration": 0.039719,
     "end_time": "2022-03-21T02:50:09.827013",
     "exception": false,
     "start_time": "2022-03-21T02:50:09.787294",
     "status": "completed"
    },
    "tags": []
   },
   "outputs": [
    {
     "name": "stdout",
     "output_type": "stream",
     "text": [
      "ada lovelace\n",
      "Hello, Ada Lovelace!\n"
     ]
    }
   ],
   "source": [
    "first_name = \"ada\"\n",
    "last_name = \"lovelace\"\n",
    "full_name = f\"{first_name} {last_name}\"\n",
    "print(full_name)\n",
    "print(f\"Hello, {full_name.title()}!\")"
   ]
  },
  {
   "cell_type": "code",
   "execution_count": 4,
   "id": "369f1b5c",
   "metadata": {
    "execution": {
     "iopub.execute_input": "2022-03-21T02:50:09.897355Z",
     "iopub.status.busy": "2022-03-21T02:50:09.896701Z",
     "iopub.status.idle": "2022-03-21T02:50:09.899324Z",
     "shell.execute_reply": "2022-03-21T02:50:09.899773Z",
     "shell.execute_reply.started": "2022-03-20T22:56:20.978913Z"
    },
    "papermill": {
     "duration": 0.040344,
     "end_time": "2022-03-21T02:50:09.899948",
     "exception": false,
     "start_time": "2022-03-21T02:50:09.859604",
     "status": "completed"
    },
    "tags": []
   },
   "outputs": [
    {
     "name": "stdout",
     "output_type": "stream",
     "text": [
      "ada lovelace\n",
      "Hello, Ada Lovelace!\n"
     ]
    }
   ],
   "source": [
    "first_name = \"ada\"\n",
    "last_name = \"lovelace\"\n",
    "full_name = f\"{first_name} {last_name}\"\n",
    "print(full_name)\n",
    "message = f\"Hello, {full_name.title()}!\"\n",
    "print(message)"
   ]
  },
  {
   "cell_type": "markdown",
   "id": "9684eff3",
   "metadata": {
    "papermill": {
     "duration": 0.034509,
     "end_time": "2022-03-21T02:50:09.969296",
     "exception": false,
     "start_time": "2022-03-21T02:50:09.934787",
     "status": "completed"
    },
    "tags": []
   },
   "source": [
    "How to add Whitespace to strings with Tabs or Newlines"
   ]
  },
  {
   "cell_type": "code",
   "execution_count": 5,
   "id": "7bc52ef0",
   "metadata": {
    "execution": {
     "iopub.execute_input": "2022-03-21T02:50:10.064345Z",
     "iopub.status.busy": "2022-03-21T02:50:10.063312Z",
     "iopub.status.idle": "2022-03-21T02:50:10.067869Z",
     "shell.execute_reply": "2022-03-21T02:50:10.068371Z",
     "shell.execute_reply.started": "2022-03-20T22:58:06.029247Z"
    },
    "papermill": {
     "duration": 0.052921,
     "end_time": "2022-03-21T02:50:10.068545",
     "exception": false,
     "start_time": "2022-03-21T02:50:10.015624",
     "status": "completed"
    },
    "tags": []
   },
   "outputs": [
    {
     "name": "stdout",
     "output_type": "stream",
     "text": [
      "Python\n",
      "\tPython\n"
     ]
    }
   ],
   "source": [
    "print(\"Python\")\n",
    "print(\"\\tPython\")"
   ]
  },
  {
   "cell_type": "code",
   "execution_count": 6,
   "id": "2594c34a",
   "metadata": {
    "execution": {
     "iopub.execute_input": "2022-03-21T02:50:10.151618Z",
     "iopub.status.busy": "2022-03-21T02:50:10.150956Z",
     "iopub.status.idle": "2022-03-21T02:50:10.155526Z",
     "shell.execute_reply": "2022-03-21T02:50:10.156003Z",
     "shell.execute_reply.started": "2022-03-20T22:58:49.214036Z"
    },
    "papermill": {
     "duration": 0.04168,
     "end_time": "2022-03-21T02:50:10.156209",
     "exception": false,
     "start_time": "2022-03-21T02:50:10.114529",
     "status": "completed"
    },
    "tags": []
   },
   "outputs": [
    {
     "name": "stdout",
     "output_type": "stream",
     "text": [
      "Languages:\n",
      "Python\n",
      "C\n",
      "Javascript\n"
     ]
    }
   ],
   "source": [
    "print(\"Languages:\\nPython\\nC\\nJavascript\")"
   ]
  },
  {
   "cell_type": "code",
   "execution_count": 7,
   "id": "3cd0ad9a",
   "metadata": {
    "execution": {
     "iopub.execute_input": "2022-03-21T02:50:10.237441Z",
     "iopub.status.busy": "2022-03-21T02:50:10.236789Z",
     "iopub.status.idle": "2022-03-21T02:50:10.241360Z",
     "shell.execute_reply": "2022-03-21T02:50:10.241792Z",
     "shell.execute_reply.started": "2022-03-20T22:59:42.110725Z"
    },
    "papermill": {
     "duration": 0.045657,
     "end_time": "2022-03-21T02:50:10.241985",
     "exception": false,
     "start_time": "2022-03-21T02:50:10.196328",
     "status": "completed"
    },
    "tags": []
   },
   "outputs": [
    {
     "name": "stdout",
     "output_type": "stream",
     "text": [
      "Languages:\n",
      "\tPython\n",
      "\tC\n",
      "\tJavascript\n"
     ]
    }
   ],
   "source": [
    "print(\"Languages:\\n\\tPython\\n\\tC\\n\\tJavascript\")"
   ]
  },
  {
   "cell_type": "markdown",
   "id": "55b617ff",
   "metadata": {
    "papermill": {
     "duration": 0.034444,
     "end_time": "2022-03-21T02:50:10.311704",
     "exception": false,
     "start_time": "2022-03-21T02:50:10.277260",
     "status": "completed"
    },
    "tags": []
   },
   "source": [
    "Removing Whitespace"
   ]
  },
  {
   "cell_type": "code",
   "execution_count": 8,
   "id": "f2b66ae9",
   "metadata": {
    "execution": {
     "iopub.execute_input": "2022-03-21T02:50:10.390651Z",
     "iopub.status.busy": "2022-03-21T02:50:10.389663Z",
     "iopub.status.idle": "2022-03-21T02:50:10.393647Z",
     "shell.execute_reply": "2022-03-21T02:50:10.394124Z",
     "shell.execute_reply.started": "2022-03-20T23:01:53.78281Z"
    },
    "papermill": {
     "duration": 0.048596,
     "end_time": "2022-03-21T02:50:10.394300",
     "exception": false,
     "start_time": "2022-03-21T02:50:10.345704",
     "status": "completed"
    },
    "tags": []
   },
   "outputs": [
    {
     "data": {
      "text/plain": [
       "'python'"
      ]
     },
     "execution_count": 8,
     "metadata": {},
     "output_type": "execute_result"
    }
   ],
   "source": [
    "favorite_language = \"python \"\n",
    "favorite_language\n",
    "favorite_language.rstrip()\n",
    "# right strip"
   ]
  },
  {
   "cell_type": "code",
   "execution_count": 9,
   "id": "2534f619",
   "metadata": {
    "execution": {
     "iopub.execute_input": "2022-03-21T02:50:10.472360Z",
     "iopub.status.busy": "2022-03-21T02:50:10.471479Z",
     "iopub.status.idle": "2022-03-21T02:50:10.475558Z",
     "shell.execute_reply": "2022-03-21T02:50:10.475038Z",
     "shell.execute_reply.started": "2022-03-20T23:02:37.05996Z"
    },
    "papermill": {
     "duration": 0.045879,
     "end_time": "2022-03-21T02:50:10.475693",
     "exception": false,
     "start_time": "2022-03-21T02:50:10.429814",
     "status": "completed"
    },
    "tags": []
   },
   "outputs": [
    {
     "data": {
      "text/plain": [
       "'python'"
      ]
     },
     "execution_count": 9,
     "metadata": {},
     "output_type": "execute_result"
    }
   ],
   "source": [
    "favorite_language = \" python \"\n",
    "favorite_language\n",
    "favorite_language.strip()\n",
    "# strip both sides"
   ]
  },
  {
   "cell_type": "markdown",
   "id": "b7a79b89",
   "metadata": {
    "papermill": {
     "duration": 0.03582,
     "end_time": "2022-03-21T02:50:10.549047",
     "exception": false,
     "start_time": "2022-03-21T02:50:10.513227",
     "status": "completed"
    },
    "tags": []
   },
   "source": [
    "Integers"
   ]
  },
  {
   "cell_type": "code",
   "execution_count": 10,
   "id": "db77fa92",
   "metadata": {
    "execution": {
     "iopub.execute_input": "2022-03-21T02:50:10.621958Z",
     "iopub.status.busy": "2022-03-21T02:50:10.621395Z",
     "iopub.status.idle": "2022-03-21T02:50:10.625419Z",
     "shell.execute_reply": "2022-03-21T02:50:10.625968Z",
     "shell.execute_reply.started": "2022-03-20T23:05:23.54621Z"
    },
    "papermill": {
     "duration": 0.042442,
     "end_time": "2022-03-21T02:50:10.626158",
     "exception": false,
     "start_time": "2022-03-21T02:50:10.583716",
     "status": "completed"
    },
    "tags": []
   },
   "outputs": [
    {
     "data": {
      "text/plain": [
       "5"
      ]
     },
     "execution_count": 10,
     "metadata": {},
     "output_type": "execute_result"
    }
   ],
   "source": [
    "2+3"
   ]
  },
  {
   "cell_type": "code",
   "execution_count": 11,
   "id": "d06f4edc",
   "metadata": {
    "execution": {
     "iopub.execute_input": "2022-03-21T02:50:10.698875Z",
     "iopub.status.busy": "2022-03-21T02:50:10.698190Z",
     "iopub.status.idle": "2022-03-21T02:50:10.702609Z",
     "shell.execute_reply": "2022-03-21T02:50:10.703192Z",
     "shell.execute_reply.started": "2022-03-20T23:05:29.47834Z"
    },
    "papermill": {
     "duration": 0.042712,
     "end_time": "2022-03-21T02:50:10.703364",
     "exception": false,
     "start_time": "2022-03-21T02:50:10.660652",
     "status": "completed"
    },
    "tags": []
   },
   "outputs": [
    {
     "data": {
      "text/plain": [
       "1"
      ]
     },
     "execution_count": 11,
     "metadata": {},
     "output_type": "execute_result"
    }
   ],
   "source": [
    "3 -2"
   ]
  },
  {
   "cell_type": "code",
   "execution_count": 12,
   "id": "04ee89af",
   "metadata": {
    "execution": {
     "iopub.execute_input": "2022-03-21T02:50:10.777413Z",
     "iopub.status.busy": "2022-03-21T02:50:10.776765Z",
     "iopub.status.idle": "2022-03-21T02:50:10.781343Z",
     "shell.execute_reply": "2022-03-21T02:50:10.781829Z",
     "shell.execute_reply.started": "2022-03-20T23:05:34.437171Z"
    },
    "papermill": {
     "duration": 0.042535,
     "end_time": "2022-03-21T02:50:10.782009",
     "exception": false,
     "start_time": "2022-03-21T02:50:10.739474",
     "status": "completed"
    },
    "tags": []
   },
   "outputs": [
    {
     "data": {
      "text/plain": [
       "6"
      ]
     },
     "execution_count": 12,
     "metadata": {},
     "output_type": "execute_result"
    }
   ],
   "source": [
    "2 * 3"
   ]
  },
  {
   "cell_type": "code",
   "execution_count": 13,
   "id": "17683380",
   "metadata": {
    "execution": {
     "iopub.execute_input": "2022-03-21T02:50:10.859097Z",
     "iopub.status.busy": "2022-03-21T02:50:10.858486Z",
     "iopub.status.idle": "2022-03-21T02:50:10.861559Z",
     "shell.execute_reply": "2022-03-21T02:50:10.861067Z",
     "shell.execute_reply.started": "2022-03-20T23:05:38.513282Z"
    },
    "papermill": {
     "duration": 0.044379,
     "end_time": "2022-03-21T02:50:10.861692",
     "exception": false,
     "start_time": "2022-03-21T02:50:10.817313",
     "status": "completed"
    },
    "tags": []
   },
   "outputs": [
    {
     "data": {
      "text/plain": [
       "1.5"
      ]
     },
     "execution_count": 13,
     "metadata": {},
     "output_type": "execute_result"
    }
   ],
   "source": [
    "3/2"
   ]
  },
  {
   "cell_type": "code",
   "execution_count": 14,
   "id": "1122ceae",
   "metadata": {
    "execution": {
     "iopub.execute_input": "2022-03-21T02:50:10.938045Z",
     "iopub.status.busy": "2022-03-21T02:50:10.937439Z",
     "iopub.status.idle": "2022-03-21T02:50:10.941577Z",
     "shell.execute_reply": "2022-03-21T02:50:10.942125Z",
     "shell.execute_reply.started": "2022-03-20T23:05:47.367053Z"
    },
    "papermill": {
     "duration": 0.044152,
     "end_time": "2022-03-21T02:50:10.942295",
     "exception": false,
     "start_time": "2022-03-21T02:50:10.898143",
     "status": "completed"
    },
    "tags": []
   },
   "outputs": [
    {
     "data": {
      "text/plain": [
       "9"
      ]
     },
     "execution_count": 14,
     "metadata": {},
     "output_type": "execute_result"
    }
   ],
   "source": [
    "3 **2"
   ]
  },
  {
   "cell_type": "code",
   "execution_count": 15,
   "id": "679fec0a",
   "metadata": {
    "execution": {
     "iopub.execute_input": "2022-03-21T02:50:11.018844Z",
     "iopub.status.busy": "2022-03-21T02:50:11.018240Z",
     "iopub.status.idle": "2022-03-21T02:50:11.023444Z",
     "shell.execute_reply": "2022-03-21T02:50:11.023842Z",
     "shell.execute_reply.started": "2022-03-20T23:06:02.274379Z"
    },
    "papermill": {
     "duration": 0.046006,
     "end_time": "2022-03-21T02:50:11.024029",
     "exception": false,
     "start_time": "2022-03-21T02:50:10.978023",
     "status": "completed"
    },
    "tags": []
   },
   "outputs": [
    {
     "data": {
      "text/plain": [
       "14"
      ]
     },
     "execution_count": 15,
     "metadata": {},
     "output_type": "execute_result"
    }
   ],
   "source": [
    "2 + 3*4"
   ]
  },
  {
   "cell_type": "code",
   "execution_count": 16,
   "id": "a7590df7",
   "metadata": {
    "execution": {
     "iopub.execute_input": "2022-03-21T02:50:11.102895Z",
     "iopub.status.busy": "2022-03-21T02:50:11.101888Z",
     "iopub.status.idle": "2022-03-21T02:50:11.105299Z",
     "shell.execute_reply": "2022-03-21T02:50:11.105782Z",
     "shell.execute_reply.started": "2022-03-20T23:06:20.162287Z"
    },
    "papermill": {
     "duration": 0.045833,
     "end_time": "2022-03-21T02:50:11.106102",
     "exception": false,
     "start_time": "2022-03-21T02:50:11.060269",
     "status": "completed"
    },
    "tags": []
   },
   "outputs": [
    {
     "data": {
      "text/plain": [
       "14"
      ]
     },
     "execution_count": 16,
     "metadata": {},
     "output_type": "execute_result"
    }
   ],
   "source": [
    "(2+3 * 4)"
   ]
  },
  {
   "cell_type": "code",
   "execution_count": 17,
   "id": "376b14b7",
   "metadata": {
    "execution": {
     "iopub.execute_input": "2022-03-21T02:50:11.184635Z",
     "iopub.status.busy": "2022-03-21T02:50:11.183658Z",
     "iopub.status.idle": "2022-03-21T02:50:11.189830Z",
     "shell.execute_reply": "2022-03-21T02:50:11.189207Z",
     "shell.execute_reply.started": "2022-03-20T23:06:49.606291Z"
    },
    "papermill": {
     "duration": 0.045956,
     "end_time": "2022-03-21T02:50:11.189973",
     "exception": false,
     "start_time": "2022-03-21T02:50:11.144017",
     "status": "completed"
    },
    "tags": []
   },
   "outputs": [
    {
     "data": {
      "text/plain": [
       "0.2"
      ]
     },
     "execution_count": 17,
     "metadata": {},
     "output_type": "execute_result"
    }
   ],
   "source": [
    "0.1 + 0.1"
   ]
  },
  {
   "cell_type": "code",
   "execution_count": 18,
   "id": "936ada0e",
   "metadata": {
    "execution": {
     "iopub.execute_input": "2022-03-21T02:50:11.268760Z",
     "iopub.status.busy": "2022-03-21T02:50:11.268152Z",
     "iopub.status.idle": "2022-03-21T02:50:11.270478Z",
     "shell.execute_reply": "2022-03-21T02:50:11.270989Z",
     "shell.execute_reply.started": "2022-03-20T23:06:54.586338Z"
    },
    "papermill": {
     "duration": 0.044287,
     "end_time": "2022-03-21T02:50:11.271168",
     "exception": false,
     "start_time": "2022-03-21T02:50:11.226881",
     "status": "completed"
    },
    "tags": []
   },
   "outputs": [
    {
     "data": {
      "text/plain": [
       "0.4"
      ]
     },
     "execution_count": 18,
     "metadata": {},
     "output_type": "execute_result"
    }
   ],
   "source": [
    "0.2 + 0.2"
   ]
  },
  {
   "cell_type": "code",
   "execution_count": 19,
   "id": "19f20506",
   "metadata": {
    "execution": {
     "iopub.execute_input": "2022-03-21T02:50:11.350612Z",
     "iopub.status.busy": "2022-03-21T02:50:11.349763Z",
     "iopub.status.idle": "2022-03-21T02:50:11.353150Z",
     "shell.execute_reply": "2022-03-21T02:50:11.353545Z",
     "shell.execute_reply.started": "2022-03-20T23:07:01.256757Z"
    },
    "papermill": {
     "duration": 0.045609,
     "end_time": "2022-03-21T02:50:11.353709",
     "exception": false,
     "start_time": "2022-03-21T02:50:11.308100",
     "status": "completed"
    },
    "tags": []
   },
   "outputs": [
    {
     "data": {
      "text/plain": [
       "0.2"
      ]
     },
     "execution_count": 19,
     "metadata": {},
     "output_type": "execute_result"
    }
   ],
   "source": [
    "2 * 0.1"
   ]
  },
  {
   "cell_type": "code",
   "execution_count": 20,
   "id": "6502e5bf",
   "metadata": {
    "execution": {
     "iopub.execute_input": "2022-03-21T02:50:11.436609Z",
     "iopub.status.busy": "2022-03-21T02:50:11.435502Z",
     "iopub.status.idle": "2022-03-21T02:50:11.439615Z",
     "shell.execute_reply": "2022-03-21T02:50:11.438970Z",
     "shell.execute_reply.started": "2022-03-20T23:07:10.196255Z"
    },
    "papermill": {
     "duration": 0.047889,
     "end_time": "2022-03-21T02:50:11.439758",
     "exception": false,
     "start_time": "2022-03-21T02:50:11.391869",
     "status": "completed"
    },
    "tags": []
   },
   "outputs": [
    {
     "data": {
      "text/plain": [
       "0.4"
      ]
     },
     "execution_count": 20,
     "metadata": {},
     "output_type": "execute_result"
    }
   ],
   "source": [
    "2* 0.2"
   ]
  },
  {
   "cell_type": "code",
   "execution_count": 21,
   "id": "f89028eb",
   "metadata": {
    "execution": {
     "iopub.execute_input": "2022-03-21T02:50:11.521786Z",
     "iopub.status.busy": "2022-03-21T02:50:11.520858Z",
     "iopub.status.idle": "2022-03-21T02:50:11.524059Z",
     "shell.execute_reply": "2022-03-21T02:50:11.524587Z",
     "shell.execute_reply.started": "2022-03-20T23:07:33.034775Z"
    },
    "papermill": {
     "duration": 0.046618,
     "end_time": "2022-03-21T02:50:11.524754",
     "exception": false,
     "start_time": "2022-03-21T02:50:11.478136",
     "status": "completed"
    },
    "tags": []
   },
   "outputs": [
    {
     "data": {
      "text/plain": [
       "2.0"
      ]
     },
     "execution_count": 21,
     "metadata": {},
     "output_type": "execute_result"
    }
   ],
   "source": [
    "4/ 2"
   ]
  },
  {
   "cell_type": "markdown",
   "id": "4d45ca2b",
   "metadata": {
    "papermill": {
     "duration": 0.037534,
     "end_time": "2022-03-21T02:50:11.600505",
     "exception": false,
     "start_time": "2022-03-21T02:50:11.562971",
     "status": "completed"
    },
    "tags": []
   },
   "source": [
    "Mulitple Assignments and others"
   ]
  },
  {
   "cell_type": "code",
   "execution_count": 22,
   "id": "2a4cef93",
   "metadata": {
    "execution": {
     "iopub.execute_input": "2022-03-21T02:50:11.684815Z",
     "iopub.status.busy": "2022-03-21T02:50:11.683861Z",
     "iopub.status.idle": "2022-03-21T02:50:11.687849Z",
     "shell.execute_reply": "2022-03-21T02:50:11.688422Z",
     "shell.execute_reply.started": "2022-03-20T23:08:31.197649Z"
    },
    "papermill": {
     "duration": 0.048405,
     "end_time": "2022-03-21T02:50:11.688592",
     "exception": false,
     "start_time": "2022-03-21T02:50:11.640187",
     "status": "completed"
    },
    "tags": []
   },
   "outputs": [],
   "source": [
    "x,y,z = 0,0,0"
   ]
  },
  {
   "cell_type": "code",
   "execution_count": 23,
   "id": "9dc13938",
   "metadata": {
    "execution": {
     "iopub.execute_input": "2022-03-21T02:50:11.769821Z",
     "iopub.status.busy": "2022-03-21T02:50:11.768825Z",
     "iopub.status.idle": "2022-03-21T02:50:11.772968Z",
     "shell.execute_reply": "2022-03-21T02:50:11.773576Z",
     "shell.execute_reply.started": "2022-03-20T23:08:53.704601Z"
    },
    "papermill": {
     "duration": 0.0469,
     "end_time": "2022-03-21T02:50:11.773760",
     "exception": false,
     "start_time": "2022-03-21T02:50:11.726860",
     "status": "completed"
    },
    "tags": []
   },
   "outputs": [],
   "source": [
    "MAX_CONNECTIONS = 5000"
   ]
  },
  {
   "cell_type": "code",
   "execution_count": 24,
   "id": "9eff23be",
   "metadata": {
    "execution": {
     "iopub.execute_input": "2022-03-21T02:50:11.854790Z",
     "iopub.status.busy": "2022-03-21T02:50:11.853782Z",
     "iopub.status.idle": "2022-03-21T02:50:11.857314Z",
     "shell.execute_reply": "2022-03-21T02:50:11.857846Z",
     "shell.execute_reply.started": "2022-03-20T23:09:59.637329Z"
    },
    "papermill": {
     "duration": 0.04549,
     "end_time": "2022-03-21T02:50:11.858016",
     "exception": false,
     "start_time": "2022-03-21T02:50:11.812526",
     "status": "completed"
    },
    "tags": []
   },
   "outputs": [],
   "source": [
    "###This is a comment"
   ]
  },
  {
   "cell_type": "code",
   "execution_count": 25,
   "id": "b9047c4d",
   "metadata": {
    "execution": {
     "iopub.execute_input": "2022-03-21T02:50:11.941302Z",
     "iopub.status.busy": "2022-03-21T02:50:11.940368Z",
     "iopub.status.idle": "2022-03-21T02:50:11.947483Z",
     "shell.execute_reply": "2022-03-21T02:50:11.947891Z",
     "shell.execute_reply.started": "2022-03-20T23:10:03.902779Z"
    },
    "papermill": {
     "duration": 0.049066,
     "end_time": "2022-03-21T02:50:11.948061",
     "exception": false,
     "start_time": "2022-03-21T02:50:11.898995",
     "status": "completed"
    },
    "tags": []
   },
   "outputs": [
    {
     "name": "stdout",
     "output_type": "stream",
     "text": [
      "The Zen of Python, by Tim Peters\n",
      "\n",
      "Beautiful is better than ugly.\n",
      "Explicit is better than implicit.\n",
      "Simple is better than complex.\n",
      "Complex is better than complicated.\n",
      "Flat is better than nested.\n",
      "Sparse is better than dense.\n",
      "Readability counts.\n",
      "Special cases aren't special enough to break the rules.\n",
      "Although practicality beats purity.\n",
      "Errors should never pass silently.\n",
      "Unless explicitly silenced.\n",
      "In the face of ambiguity, refuse the temptation to guess.\n",
      "There should be one-- and preferably only one --obvious way to do it.\n",
      "Although that way may not be obvious at first unless you're Dutch.\n",
      "Now is better than never.\n",
      "Although never is often better than *right* now.\n",
      "If the implementation is hard to explain, it's a bad idea.\n",
      "If the implementation is easy to explain, it may be a good idea.\n",
      "Namespaces are one honking great idea -- let's do more of those!\n"
     ]
    }
   ],
   "source": [
    "import this"
   ]
  },
  {
   "cell_type": "markdown",
   "id": "6ccd49d5",
   "metadata": {
    "papermill": {
     "duration": 0.039834,
     "end_time": "2022-03-21T02:50:12.029003",
     "exception": false,
     "start_time": "2022-03-21T02:50:11.989169",
     "status": "completed"
    },
    "tags": []
   },
   "source": [
    "Chapter 3: Lists"
   ]
  },
  {
   "cell_type": "code",
   "execution_count": 26,
   "id": "7728c9f9",
   "metadata": {
    "execution": {
     "iopub.execute_input": "2022-03-21T02:50:12.115858Z",
     "iopub.status.busy": "2022-03-21T02:50:12.114986Z",
     "iopub.status.idle": "2022-03-21T02:50:12.118387Z",
     "shell.execute_reply": "2022-03-21T02:50:12.118826Z",
     "shell.execute_reply.started": "2022-03-21T02:20:35.078408Z"
    },
    "papermill": {
     "duration": 0.050657,
     "end_time": "2022-03-21T02:50:12.118993",
     "exception": false,
     "start_time": "2022-03-21T02:50:12.068336",
     "status": "completed"
    },
    "tags": []
   },
   "outputs": [
    {
     "name": "stdout",
     "output_type": "stream",
     "text": [
      "['trek', 'cannondale', 'redline', 'specialized']\n",
      "trek\n",
      "Trek\n",
      "cannondale\n",
      "specialized\n",
      "specialized\n"
     ]
    }
   ],
   "source": [
    "bicycles = ['trek','cannondale','redline','specialized']\n",
    "print(bicycles)\n",
    "print(bicycles[0])\n",
    "print(bicycles[0].title())\n",
    "print(bicycles[1])\n",
    "print(bicycles[3])\n",
    "print(bicycles[-1])\n"
   ]
  },
  {
   "cell_type": "code",
   "execution_count": 27,
   "id": "4d741527",
   "metadata": {
    "execution": {
     "iopub.execute_input": "2022-03-21T02:50:12.203770Z",
     "iopub.status.busy": "2022-03-21T02:50:12.201651Z",
     "iopub.status.idle": "2022-03-21T02:50:12.206418Z",
     "shell.execute_reply": "2022-03-21T02:50:12.206823Z",
     "shell.execute_reply.started": "2022-03-21T02:21:51.192743Z"
    },
    "papermill": {
     "duration": 0.04825,
     "end_time": "2022-03-21T02:50:12.207005",
     "exception": false,
     "start_time": "2022-03-21T02:50:12.158755",
     "status": "completed"
    },
    "tags": []
   },
   "outputs": [
    {
     "name": "stdout",
     "output_type": "stream",
     "text": [
      "My first bicycle was a Trek.\n"
     ]
    }
   ],
   "source": [
    "message = f\"My first bicycle was a {bicycles[0].title()}.\"\n",
    "print(message)"
   ]
  },
  {
   "cell_type": "code",
   "execution_count": 28,
   "id": "288c596c",
   "metadata": {
    "execution": {
     "iopub.execute_input": "2022-03-21T02:50:12.292845Z",
     "iopub.status.busy": "2022-03-21T02:50:12.292111Z",
     "iopub.status.idle": "2022-03-21T02:50:12.295804Z",
     "shell.execute_reply": "2022-03-21T02:50:12.295229Z",
     "shell.execute_reply.started": "2022-03-21T02:25:16.287671Z"
    },
    "papermill": {
     "duration": 0.049616,
     "end_time": "2022-03-21T02:50:12.295939",
     "exception": false,
     "start_time": "2022-03-21T02:50:12.246323",
     "status": "completed"
    },
    "tags": []
   },
   "outputs": [
    {
     "name": "stdout",
     "output_type": "stream",
     "text": [
      "['honda', 'yamaha', 'suzuki']\n"
     ]
    }
   ],
   "source": [
    "motorcycles = ['honda','yamaha','suzuki']\n",
    "print(motorcycles)\n"
   ]
  },
  {
   "cell_type": "code",
   "execution_count": 29,
   "id": "492225f9",
   "metadata": {
    "execution": {
     "iopub.execute_input": "2022-03-21T02:50:12.382587Z",
     "iopub.status.busy": "2022-03-21T02:50:12.381688Z",
     "iopub.status.idle": "2022-03-21T02:50:12.384644Z",
     "shell.execute_reply": "2022-03-21T02:50:12.385109Z",
     "shell.execute_reply.started": "2022-03-21T02:26:08.092314Z"
    },
    "papermill": {
     "duration": 0.047634,
     "end_time": "2022-03-21T02:50:12.385286",
     "exception": false,
     "start_time": "2022-03-21T02:50:12.337652",
     "status": "completed"
    },
    "tags": []
   },
   "outputs": [
    {
     "name": "stdout",
     "output_type": "stream",
     "text": [
      "['ducati', 'yamaha', 'suzuki']\n"
     ]
    }
   ],
   "source": [
    "motorcycles[0] = 'ducati'\n",
    "print(motorcycles)"
   ]
  },
  {
   "cell_type": "code",
   "execution_count": 30,
   "id": "3eb29ca7",
   "metadata": {
    "execution": {
     "iopub.execute_input": "2022-03-21T02:50:12.470933Z",
     "iopub.status.busy": "2022-03-21T02:50:12.470167Z",
     "iopub.status.idle": "2022-03-21T02:50:12.473904Z",
     "shell.execute_reply": "2022-03-21T02:50:12.473312Z",
     "shell.execute_reply.started": "2022-03-21T02:27:07.762868Z"
    },
    "papermill": {
     "duration": 0.048072,
     "end_time": "2022-03-21T02:50:12.474045",
     "exception": false,
     "start_time": "2022-03-21T02:50:12.425973",
     "status": "completed"
    },
    "tags": []
   },
   "outputs": [
    {
     "name": "stdout",
     "output_type": "stream",
     "text": [
      "['honda', 'yamaha', 'suzuki']\n",
      "['honda', 'yamaha', 'suzuki', 'ducati']\n"
     ]
    }
   ],
   "source": [
    "motorcycles = ['honda','yamaha','suzuki']\n",
    "print(motorcycles)\n",
    "motorcycles.append('ducati')\n",
    "print(motorcycles)\n"
   ]
  },
  {
   "cell_type": "code",
   "execution_count": 31,
   "id": "82c979f4",
   "metadata": {
    "execution": {
     "iopub.execute_input": "2022-03-21T02:50:12.560194Z",
     "iopub.status.busy": "2022-03-21T02:50:12.559396Z",
     "iopub.status.idle": "2022-03-21T02:50:12.563067Z",
     "shell.execute_reply": "2022-03-21T02:50:12.562594Z",
     "shell.execute_reply.started": "2022-03-21T02:28:13.574436Z"
    },
    "papermill": {
     "duration": 0.048303,
     "end_time": "2022-03-21T02:50:12.563235",
     "exception": false,
     "start_time": "2022-03-21T02:50:12.514932",
     "status": "completed"
    },
    "tags": []
   },
   "outputs": [
    {
     "name": "stdout",
     "output_type": "stream",
     "text": [
      "['ducati', 'honda', 'yamaha', 'suzuki']\n"
     ]
    }
   ],
   "source": [
    "motorcycles = ['honda','yamaha','suzuki']\n",
    "motorcycles.insert(0,'ducati')\n",
    "print(motorcycles)"
   ]
  },
  {
   "cell_type": "code",
   "execution_count": 32,
   "id": "e45261b4",
   "metadata": {
    "execution": {
     "iopub.execute_input": "2022-03-21T02:50:12.648415Z",
     "iopub.status.busy": "2022-03-21T02:50:12.647460Z",
     "iopub.status.idle": "2022-03-21T02:50:12.654870Z",
     "shell.execute_reply": "2022-03-21T02:50:12.654112Z",
     "shell.execute_reply.started": "2022-03-21T02:29:13.669717Z"
    },
    "papermill": {
     "duration": 0.051629,
     "end_time": "2022-03-21T02:50:12.655062",
     "exception": false,
     "start_time": "2022-03-21T02:50:12.603433",
     "status": "completed"
    },
    "tags": []
   },
   "outputs": [
    {
     "name": "stdout",
     "output_type": "stream",
     "text": [
      "['honda', 'yamaha', 'suzuki']\n",
      "['yamaha', 'suzuki']\n"
     ]
    }
   ],
   "source": [
    "motorcycles = ['honda','yamaha','suzuki']\n",
    "print(motorcycles)\n",
    "del motorcycles[0]\n",
    "print(motorcycles)"
   ]
  },
  {
   "cell_type": "code",
   "execution_count": 33,
   "id": "efd9bb75",
   "metadata": {
    "execution": {
     "iopub.execute_input": "2022-03-21T02:50:12.746199Z",
     "iopub.status.busy": "2022-03-21T02:50:12.745546Z",
     "iopub.status.idle": "2022-03-21T02:50:12.749884Z",
     "shell.execute_reply": "2022-03-21T02:50:12.749370Z",
     "shell.execute_reply.started": "2022-03-21T02:32:01.365505Z"
    },
    "papermill": {
     "duration": 0.052303,
     "end_time": "2022-03-21T02:50:12.750038",
     "exception": false,
     "start_time": "2022-03-21T02:50:12.697735",
     "status": "completed"
    },
    "tags": []
   },
   "outputs": [
    {
     "name": "stdout",
     "output_type": "stream",
     "text": [
      "['honda', 'yamaha', 'suzuki']\n",
      "['honda', 'suzuki']\n",
      "yamaha\n"
     ]
    }
   ],
   "source": [
    "motorcycles = ['honda','yamaha','suzuki']\n",
    "print(motorcycles)\n",
    "popped_motorcycle = motorcycles.pop(1)\n",
    "print(motorcycles)\n",
    "print(popped_motorcycle)"
   ]
  },
  {
   "cell_type": "code",
   "execution_count": 34,
   "id": "edff1b76",
   "metadata": {
    "execution": {
     "iopub.execute_input": "2022-03-21T02:50:12.837389Z",
     "iopub.status.busy": "2022-03-21T02:50:12.836449Z",
     "iopub.status.idle": "2022-03-21T02:50:12.841918Z",
     "shell.execute_reply": "2022-03-21T02:50:12.842366Z",
     "shell.execute_reply.started": "2022-03-21T02:33:50.250707Z"
    },
    "papermill": {
     "duration": 0.050077,
     "end_time": "2022-03-21T02:50:12.842565",
     "exception": false,
     "start_time": "2022-03-21T02:50:12.792488",
     "status": "completed"
    },
    "tags": []
   },
   "outputs": [
    {
     "name": "stdout",
     "output_type": "stream",
     "text": [
      "['honda', 'yamaha', 'suzuki', 'ducati']\n",
      "['honda', 'yamaha', 'suzuki']\n"
     ]
    }
   ],
   "source": [
    "motorcycles = ['honda','yamaha','suzuki','ducati']\n",
    "print(motorcycles)\n",
    "motorcycles.remove('ducati')\n",
    "print(motorcycles)"
   ]
  },
  {
   "cell_type": "markdown",
   "id": "7facfebd",
   "metadata": {
    "papermill": {
     "duration": 0.042225,
     "end_time": "2022-03-21T02:50:12.926097",
     "exception": false,
     "start_time": "2022-03-21T02:50:12.883872",
     "status": "completed"
    },
    "tags": []
   },
   "source": [
    "**Organizing a List**"
   ]
  },
  {
   "cell_type": "code",
   "execution_count": 35,
   "id": "e944ab57",
   "metadata": {
    "execution": {
     "iopub.execute_input": "2022-03-21T02:50:13.018064Z",
     "iopub.status.busy": "2022-03-21T02:50:13.015111Z",
     "iopub.status.idle": "2022-03-21T02:50:13.022536Z",
     "shell.execute_reply": "2022-03-21T02:50:13.021844Z",
     "shell.execute_reply.started": "2022-03-21T02:37:07.935487Z"
    },
    "papermill": {
     "duration": 0.054627,
     "end_time": "2022-03-21T02:50:13.022684",
     "exception": false,
     "start_time": "2022-03-21T02:50:12.968057",
     "status": "completed"
    },
    "tags": []
   },
   "outputs": [
    {
     "name": "stdout",
     "output_type": "stream",
     "text": [
      "['audi', 'bmw', 'subaru', 'toyota']\n",
      "['toyota', 'subaru', 'bmw', 'audi']\n"
     ]
    }
   ],
   "source": [
    "cars = ['bmw','audi','toyota','subaru']\n",
    "cars.sort()\n",
    "print(cars)\n",
    "cars.sort(reverse=True)\n",
    "print(cars)\n"
   ]
  },
  {
   "cell_type": "code",
   "execution_count": 36,
   "id": "b3c15d0f",
   "metadata": {
    "execution": {
     "iopub.execute_input": "2022-03-21T02:50:13.113665Z",
     "iopub.status.busy": "2022-03-21T02:50:13.112842Z",
     "iopub.status.idle": "2022-03-21T02:50:13.117003Z",
     "shell.execute_reply": "2022-03-21T02:50:13.116523Z",
     "shell.execute_reply.started": "2022-03-21T02:38:07.446176Z"
    },
    "papermill": {
     "duration": 0.050613,
     "end_time": "2022-03-21T02:50:13.117182",
     "exception": false,
     "start_time": "2022-03-21T02:50:13.066569",
     "status": "completed"
    },
    "tags": []
   },
   "outputs": [
    {
     "name": "stdout",
     "output_type": "stream",
     "text": [
      "['bmw', 'audi', 'toyota', 'subaru']\n",
      "['audi', 'bmw', 'subaru', 'toyota']\n",
      "['bmw', 'audi', 'toyota', 'subaru']\n"
     ]
    }
   ],
   "source": [
    "cars = ['bmw','audi','toyota','subaru']\n",
    "print(cars)\n",
    "print(sorted(cars))\n",
    "print(cars)"
   ]
  },
  {
   "cell_type": "code",
   "execution_count": 37,
   "id": "e42f3a47",
   "metadata": {
    "execution": {
     "iopub.execute_input": "2022-03-21T02:50:13.208710Z",
     "iopub.status.busy": "2022-03-21T02:50:13.207842Z",
     "iopub.status.idle": "2022-03-21T02:50:13.213044Z",
     "shell.execute_reply": "2022-03-21T02:50:13.213482Z",
     "shell.execute_reply.started": "2022-03-21T02:40:44.985121Z"
    },
    "papermill": {
     "duration": 0.052641,
     "end_time": "2022-03-21T02:50:13.213658",
     "exception": false,
     "start_time": "2022-03-21T02:50:13.161017",
     "status": "completed"
    },
    "tags": []
   },
   "outputs": [
    {
     "name": "stdout",
     "output_type": "stream",
     "text": [
      "['subaru', 'toyota', 'audi', 'bmw']\n"
     ]
    }
   ],
   "source": [
    "cars = ['bmw','audi','toyota','subaru']\n",
    "cars.reverse()\n",
    "print(cars)"
   ]
  },
  {
   "cell_type": "code",
   "execution_count": 38,
   "id": "7953e476",
   "metadata": {
    "execution": {
     "iopub.execute_input": "2022-03-21T02:50:13.305291Z",
     "iopub.status.busy": "2022-03-21T02:50:13.304369Z",
     "iopub.status.idle": "2022-03-21T02:50:13.308868Z",
     "shell.execute_reply": "2022-03-21T02:50:13.308356Z",
     "shell.execute_reply.started": "2022-03-21T02:43:48.308575Z"
    },
    "papermill": {
     "duration": 0.053015,
     "end_time": "2022-03-21T02:50:13.309010",
     "exception": false,
     "start_time": "2022-03-21T02:50:13.255995",
     "status": "completed"
    },
    "tags": []
   },
   "outputs": [
    {
     "data": {
      "text/plain": [
       "4"
      ]
     },
     "execution_count": 38,
     "metadata": {},
     "output_type": "execute_result"
    }
   ],
   "source": [
    "cars = ['bmw','audi','toyota','subaru']\n",
    "len(cars)"
   ]
  },
  {
   "cell_type": "code",
   "execution_count": 39,
   "id": "adbfe6e4",
   "metadata": {
    "execution": {
     "iopub.execute_input": "2022-03-21T02:50:13.399942Z",
     "iopub.status.busy": "2022-03-21T02:50:13.399312Z",
     "iopub.status.idle": "2022-03-21T02:50:13.402569Z",
     "shell.execute_reply": "2022-03-21T02:50:13.403033Z"
    },
    "papermill": {
     "duration": 0.049937,
     "end_time": "2022-03-21T02:50:13.403217",
     "exception": false,
     "start_time": "2022-03-21T02:50:13.353280",
     "status": "completed"
    },
    "tags": []
   },
   "outputs": [],
   "source": [
    "motorcycles = ['honda']"
   ]
  }
 ],
 "metadata": {
  "kernelspec": {
   "display_name": "Python 3",
   "language": "python",
   "name": "python3"
  },
  "language_info": {
   "codemirror_mode": {
    "name": "ipython",
    "version": 3
   },
   "file_extension": ".py",
   "mimetype": "text/x-python",
   "name": "python",
   "nbconvert_exporter": "python",
   "pygments_lexer": "ipython3",
   "version": "3.7.12"
  },
  "papermill": {
   "default_parameters": {},
   "duration": 14.235002,
   "end_time": "2022-03-21T02:50:14.156332",
   "environment_variables": {},
   "exception": null,
   "input_path": "__notebook__.ipynb",
   "output_path": "__notebook__.ipynb",
   "parameters": {},
   "start_time": "2022-03-21T02:49:59.921330",
   "version": "2.3.3"
  }
 },
 "nbformat": 4,
 "nbformat_minor": 5
}
