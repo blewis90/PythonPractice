{
 "cells": [
  {
   "cell_type": "markdown",
   "id": "ef6122e9",
   "metadata": {
    "papermill": {
     "duration": 0.034176,
     "end_time": "2022-03-20T23:12:25.508947",
     "exception": false,
     "start_time": "2022-03-20T23:12:25.474771",
     "status": "completed"
    },
    "tags": []
   },
   "source": [
    "Simple Hello Message/ Getting started"
   ]
  },
  {
   "cell_type": "code",
   "execution_count": 1,
   "id": "952d21cf",
   "metadata": {
    "execution": {
     "iopub.execute_input": "2022-03-20T23:12:25.586128Z",
     "iopub.status.busy": "2022-03-20T23:12:25.585452Z",
     "iopub.status.idle": "2022-03-20T23:12:25.588677Z",
     "shell.execute_reply": "2022-03-20T23:12:25.589445Z",
     "shell.execute_reply.started": "2022-03-20T22:42:54.585765Z"
    },
    "papermill": {
     "duration": 0.045965,
     "end_time": "2022-03-20T23:12:25.589795",
     "exception": false,
     "start_time": "2022-03-20T23:12:25.543830",
     "status": "completed"
    },
    "tags": []
   },
   "outputs": [
    {
     "name": "stdout",
     "output_type": "stream",
     "text": [
      "Hello Python interpreter\n",
      "Hello Python World!\n",
      "Hello Python Crash Course world!\n"
     ]
    }
   ],
   "source": [
    "\n",
    "print(\"Hello Python interpreter\")\n",
    "message = \"Hello Python World!\"\n",
    "print(message)\n",
    "message = \"Hello Python Crash Course world!\"\n",
    "print(message)"
   ]
  },
  {
   "cell_type": "markdown",
   "id": "b5c89f24",
   "metadata": {
    "papermill": {
     "duration": 0.032479,
     "end_time": "2022-03-20T23:12:25.655803",
     "exception": false,
     "start_time": "2022-03-20T23:12:25.623324",
     "status": "completed"
    },
    "tags": []
   },
   "source": [
    "Basic string commands"
   ]
  },
  {
   "cell_type": "code",
   "execution_count": 2,
   "id": "31733f3d",
   "metadata": {
    "execution": {
     "iopub.execute_input": "2022-03-20T23:12:25.721176Z",
     "iopub.status.busy": "2022-03-20T23:12:25.720516Z",
     "iopub.status.idle": "2022-03-20T23:12:25.726058Z",
     "shell.execute_reply": "2022-03-20T23:12:25.726732Z",
     "shell.execute_reply.started": "2022-03-20T22:53:36.559707Z"
    },
    "papermill": {
     "duration": 0.040067,
     "end_time": "2022-03-20T23:12:25.726949",
     "exception": false,
     "start_time": "2022-03-20T23:12:25.686882",
     "status": "completed"
    },
    "tags": []
   },
   "outputs": [
    {
     "name": "stdout",
     "output_type": "stream",
     "text": [
      "Ada Lovelace\n",
      "ADA LOVELACE\n",
      "ada lovelace\n"
     ]
    }
   ],
   "source": [
    "name = \"ada lovelace\"\n",
    "print(name.title())\n",
    "print(name.upper())\n",
    "print(name.lower())"
   ]
  },
  {
   "cell_type": "markdown",
   "id": "0fa5c645",
   "metadata": {
    "papermill": {
     "duration": 0.030736,
     "end_time": "2022-03-20T23:12:25.789498",
     "exception": false,
     "start_time": "2022-03-20T23:12:25.758762",
     "status": "completed"
    },
    "tags": []
   },
   "source": [
    "F-String - Way to concatenate multiple variables"
   ]
  },
  {
   "cell_type": "code",
   "execution_count": 3,
   "id": "308ff88a",
   "metadata": {
    "execution": {
     "iopub.execute_input": "2022-03-20T23:12:25.857643Z",
     "iopub.status.busy": "2022-03-20T23:12:25.856937Z",
     "iopub.status.idle": "2022-03-20T23:12:25.862518Z",
     "shell.execute_reply": "2022-03-20T23:12:25.861898Z",
     "shell.execute_reply.started": "2022-03-20T22:55:23.691337Z"
    },
    "papermill": {
     "duration": 0.040449,
     "end_time": "2022-03-20T23:12:25.862673",
     "exception": false,
     "start_time": "2022-03-20T23:12:25.822224",
     "status": "completed"
    },
    "tags": []
   },
   "outputs": [
    {
     "name": "stdout",
     "output_type": "stream",
     "text": [
      "ada lovelace\n",
      "Hello, Ada Lovelace!\n"
     ]
    }
   ],
   "source": [
    "first_name = \"ada\"\n",
    "last_name = \"lovelace\"\n",
    "full_name = f\"{first_name} {last_name}\"\n",
    "print(full_name)\n",
    "print(f\"Hello, {full_name.title()}!\")"
   ]
  },
  {
   "cell_type": "code",
   "execution_count": 4,
   "id": "48372d49",
   "metadata": {
    "execution": {
     "iopub.execute_input": "2022-03-20T23:12:25.931612Z",
     "iopub.status.busy": "2022-03-20T23:12:25.930825Z",
     "iopub.status.idle": "2022-03-20T23:12:25.933577Z",
     "shell.execute_reply": "2022-03-20T23:12:25.934066Z",
     "shell.execute_reply.started": "2022-03-20T22:56:20.978913Z"
    },
    "papermill": {
     "duration": 0.040224,
     "end_time": "2022-03-20T23:12:25.934287",
     "exception": false,
     "start_time": "2022-03-20T23:12:25.894063",
     "status": "completed"
    },
    "tags": []
   },
   "outputs": [
    {
     "name": "stdout",
     "output_type": "stream",
     "text": [
      "ada lovelace\n",
      "Hello, Ada Lovelace!\n"
     ]
    }
   ],
   "source": [
    "first_name = \"ada\"\n",
    "last_name = \"lovelace\"\n",
    "full_name = f\"{first_name} {last_name}\"\n",
    "print(full_name)\n",
    "message = f\"Hello, {full_name.title()}!\"\n",
    "print(message)"
   ]
  },
  {
   "cell_type": "markdown",
   "id": "4063514e",
   "metadata": {
    "papermill": {
     "duration": 0.034336,
     "end_time": "2022-03-20T23:12:26.002945",
     "exception": false,
     "start_time": "2022-03-20T23:12:25.968609",
     "status": "completed"
    },
    "tags": []
   },
   "source": [
    "How to add Whitespace to strings with Tabs or Newlines"
   ]
  },
  {
   "cell_type": "code",
   "execution_count": 5,
   "id": "c6c7d805",
   "metadata": {
    "execution": {
     "iopub.execute_input": "2022-03-20T23:12:26.071215Z",
     "iopub.status.busy": "2022-03-20T23:12:26.070536Z",
     "iopub.status.idle": "2022-03-20T23:12:26.075561Z",
     "shell.execute_reply": "2022-03-20T23:12:26.076171Z",
     "shell.execute_reply.started": "2022-03-20T22:58:06.029247Z"
    },
    "papermill": {
     "duration": 0.040874,
     "end_time": "2022-03-20T23:12:26.076374",
     "exception": false,
     "start_time": "2022-03-20T23:12:26.035500",
     "status": "completed"
    },
    "tags": []
   },
   "outputs": [
    {
     "name": "stdout",
     "output_type": "stream",
     "text": [
      "Python\n",
      "\tPython\n"
     ]
    }
   ],
   "source": [
    "print(\"Python\")\n",
    "print(\"\\tPython\")"
   ]
  },
  {
   "cell_type": "code",
   "execution_count": 6,
   "id": "41c9e0ae",
   "metadata": {
    "execution": {
     "iopub.execute_input": "2022-03-20T23:12:26.146691Z",
     "iopub.status.busy": "2022-03-20T23:12:26.146022Z",
     "iopub.status.idle": "2022-03-20T23:12:26.151793Z",
     "shell.execute_reply": "2022-03-20T23:12:26.151236Z",
     "shell.execute_reply.started": "2022-03-20T22:58:49.214036Z"
    },
    "papermill": {
     "duration": 0.041473,
     "end_time": "2022-03-20T23:12:26.151958",
     "exception": false,
     "start_time": "2022-03-20T23:12:26.110485",
     "status": "completed"
    },
    "tags": []
   },
   "outputs": [
    {
     "name": "stdout",
     "output_type": "stream",
     "text": [
      "Languages:\n",
      "Python\n",
      "C\n",
      "Javascript\n"
     ]
    }
   ],
   "source": [
    "print(\"Languages:\\nPython\\nC\\nJavascript\")"
   ]
  },
  {
   "cell_type": "code",
   "execution_count": 7,
   "id": "323a9fb4",
   "metadata": {
    "execution": {
     "iopub.execute_input": "2022-03-20T23:12:26.223806Z",
     "iopub.status.busy": "2022-03-20T23:12:26.223035Z",
     "iopub.status.idle": "2022-03-20T23:12:26.225893Z",
     "shell.execute_reply": "2022-03-20T23:12:26.226444Z",
     "shell.execute_reply.started": "2022-03-20T22:59:42.110725Z"
    },
    "papermill": {
     "duration": 0.041581,
     "end_time": "2022-03-20T23:12:26.226644",
     "exception": false,
     "start_time": "2022-03-20T23:12:26.185063",
     "status": "completed"
    },
    "tags": []
   },
   "outputs": [
    {
     "name": "stdout",
     "output_type": "stream",
     "text": [
      "Languages:\n",
      "\tPython\n",
      "\tC\n",
      "\tJavascript\n"
     ]
    }
   ],
   "source": [
    "print(\"Languages:\\n\\tPython\\n\\tC\\n\\tJavascript\")"
   ]
  },
  {
   "cell_type": "markdown",
   "id": "6f63729a",
   "metadata": {
    "papermill": {
     "duration": 0.032914,
     "end_time": "2022-03-20T23:12:26.293753",
     "exception": false,
     "start_time": "2022-03-20T23:12:26.260839",
     "status": "completed"
    },
    "tags": []
   },
   "source": [
    "Removing Whitespace"
   ]
  },
  {
   "cell_type": "code",
   "execution_count": 8,
   "id": "e7436538",
   "metadata": {
    "execution": {
     "iopub.execute_input": "2022-03-20T23:12:26.367909Z",
     "iopub.status.busy": "2022-03-20T23:12:26.367234Z",
     "iopub.status.idle": "2022-03-20T23:12:26.370640Z",
     "shell.execute_reply": "2022-03-20T23:12:26.371136Z",
     "shell.execute_reply.started": "2022-03-20T23:01:53.782810Z"
    },
    "papermill": {
     "duration": 0.044325,
     "end_time": "2022-03-20T23:12:26.371323",
     "exception": false,
     "start_time": "2022-03-20T23:12:26.326998",
     "status": "completed"
    },
    "tags": []
   },
   "outputs": [
    {
     "data": {
      "text/plain": [
       "'python'"
      ]
     },
     "execution_count": 8,
     "metadata": {},
     "output_type": "execute_result"
    }
   ],
   "source": [
    "favorite_language = \"python \"\n",
    "favorite_language\n",
    "favorite_language.rstrip()\n",
    "# right strip"
   ]
  },
  {
   "cell_type": "code",
   "execution_count": 9,
   "id": "3c0e0a44",
   "metadata": {
    "execution": {
     "iopub.execute_input": "2022-03-20T23:12:26.444862Z",
     "iopub.status.busy": "2022-03-20T23:12:26.442160Z",
     "iopub.status.idle": "2022-03-20T23:12:26.448747Z",
     "shell.execute_reply": "2022-03-20T23:12:26.449269Z",
     "shell.execute_reply.started": "2022-03-20T23:02:37.059960Z"
    },
    "papermill": {
     "duration": 0.044026,
     "end_time": "2022-03-20T23:12:26.449475",
     "exception": false,
     "start_time": "2022-03-20T23:12:26.405449",
     "status": "completed"
    },
    "tags": []
   },
   "outputs": [
    {
     "data": {
      "text/plain": [
       "'python'"
      ]
     },
     "execution_count": 9,
     "metadata": {},
     "output_type": "execute_result"
    }
   ],
   "source": [
    "favorite_language = \" python \"\n",
    "favorite_language\n",
    "favorite_language.strip()\n",
    "# strip both sides"
   ]
  },
  {
   "cell_type": "markdown",
   "id": "eaed5497",
   "metadata": {
    "papermill": {
     "duration": 0.034509,
     "end_time": "2022-03-20T23:12:26.518446",
     "exception": false,
     "start_time": "2022-03-20T23:12:26.483937",
     "status": "completed"
    },
    "tags": []
   },
   "source": [
    "Integers"
   ]
  },
  {
   "cell_type": "code",
   "execution_count": 10,
   "id": "54289a49",
   "metadata": {
    "execution": {
     "iopub.execute_input": "2022-03-20T23:12:26.592367Z",
     "iopub.status.busy": "2022-03-20T23:12:26.591521Z",
     "iopub.status.idle": "2022-03-20T23:12:26.595359Z",
     "shell.execute_reply": "2022-03-20T23:12:26.595791Z",
     "shell.execute_reply.started": "2022-03-20T23:05:23.546210Z"
    },
    "papermill": {
     "duration": 0.043772,
     "end_time": "2022-03-20T23:12:26.595959",
     "exception": false,
     "start_time": "2022-03-20T23:12:26.552187",
     "status": "completed"
    },
    "tags": []
   },
   "outputs": [
    {
     "data": {
      "text/plain": [
       "5"
      ]
     },
     "execution_count": 10,
     "metadata": {},
     "output_type": "execute_result"
    }
   ],
   "source": [
    "2+3"
   ]
  },
  {
   "cell_type": "code",
   "execution_count": 11,
   "id": "2d30277a",
   "metadata": {
    "execution": {
     "iopub.execute_input": "2022-03-20T23:12:26.670003Z",
     "iopub.status.busy": "2022-03-20T23:12:26.669022Z",
     "iopub.status.idle": "2022-03-20T23:12:26.674020Z",
     "shell.execute_reply": "2022-03-20T23:12:26.674496Z",
     "shell.execute_reply.started": "2022-03-20T23:05:29.478340Z"
    },
    "papermill": {
     "duration": 0.042999,
     "end_time": "2022-03-20T23:12:26.674667",
     "exception": false,
     "start_time": "2022-03-20T23:12:26.631668",
     "status": "completed"
    },
    "tags": []
   },
   "outputs": [
    {
     "data": {
      "text/plain": [
       "1"
      ]
     },
     "execution_count": 11,
     "metadata": {},
     "output_type": "execute_result"
    }
   ],
   "source": [
    "3 -2"
   ]
  },
  {
   "cell_type": "code",
   "execution_count": 12,
   "id": "f732bd4f",
   "metadata": {
    "execution": {
     "iopub.execute_input": "2022-03-20T23:12:26.749323Z",
     "iopub.status.busy": "2022-03-20T23:12:26.747300Z",
     "iopub.status.idle": "2022-03-20T23:12:26.754322Z",
     "shell.execute_reply": "2022-03-20T23:12:26.754879Z",
     "shell.execute_reply.started": "2022-03-20T23:05:34.437171Z"
    },
    "papermill": {
     "duration": 0.046039,
     "end_time": "2022-03-20T23:12:26.755106",
     "exception": false,
     "start_time": "2022-03-20T23:12:26.709067",
     "status": "completed"
    },
    "tags": []
   },
   "outputs": [
    {
     "data": {
      "text/plain": [
       "6"
      ]
     },
     "execution_count": 12,
     "metadata": {},
     "output_type": "execute_result"
    }
   ],
   "source": [
    "2 * 3"
   ]
  },
  {
   "cell_type": "code",
   "execution_count": 13,
   "id": "bcd607fa",
   "metadata": {
    "execution": {
     "iopub.execute_input": "2022-03-20T23:12:26.841859Z",
     "iopub.status.busy": "2022-03-20T23:12:26.840925Z",
     "iopub.status.idle": "2022-03-20T23:12:26.846386Z",
     "shell.execute_reply": "2022-03-20T23:12:26.846980Z",
     "shell.execute_reply.started": "2022-03-20T23:05:38.513282Z"
    },
    "papermill": {
     "duration": 0.051196,
     "end_time": "2022-03-20T23:12:26.847202",
     "exception": false,
     "start_time": "2022-03-20T23:12:26.796006",
     "status": "completed"
    },
    "tags": []
   },
   "outputs": [
    {
     "data": {
      "text/plain": [
       "1.5"
      ]
     },
     "execution_count": 13,
     "metadata": {},
     "output_type": "execute_result"
    }
   ],
   "source": [
    "3/2"
   ]
  },
  {
   "cell_type": "code",
   "execution_count": 14,
   "id": "13d52883",
   "metadata": {
    "execution": {
     "iopub.execute_input": "2022-03-20T23:12:26.947760Z",
     "iopub.status.busy": "2022-03-20T23:12:26.946824Z",
     "iopub.status.idle": "2022-03-20T23:12:26.953206Z",
     "shell.execute_reply": "2022-03-20T23:12:26.953669Z",
     "shell.execute_reply.started": "2022-03-20T23:05:47.367053Z"
    },
    "papermill": {
     "duration": 0.06311,
     "end_time": "2022-03-20T23:12:26.953853",
     "exception": false,
     "start_time": "2022-03-20T23:12:26.890743",
     "status": "completed"
    },
    "tags": []
   },
   "outputs": [
    {
     "data": {
      "text/plain": [
       "9"
      ]
     },
     "execution_count": 14,
     "metadata": {},
     "output_type": "execute_result"
    }
   ],
   "source": [
    "3 **2"
   ]
  },
  {
   "cell_type": "code",
   "execution_count": 15,
   "id": "cd9e30ca",
   "metadata": {
    "execution": {
     "iopub.execute_input": "2022-03-20T23:12:27.043134Z",
     "iopub.status.busy": "2022-03-20T23:12:27.042393Z",
     "iopub.status.idle": "2022-03-20T23:12:27.047676Z",
     "shell.execute_reply": "2022-03-20T23:12:27.048251Z",
     "shell.execute_reply.started": "2022-03-20T23:06:02.274379Z"
    },
    "papermill": {
     "duration": 0.056465,
     "end_time": "2022-03-20T23:12:27.048454",
     "exception": false,
     "start_time": "2022-03-20T23:12:26.991989",
     "status": "completed"
    },
    "tags": []
   },
   "outputs": [
    {
     "data": {
      "text/plain": [
       "14"
      ]
     },
     "execution_count": 15,
     "metadata": {},
     "output_type": "execute_result"
    }
   ],
   "source": [
    "2 + 3*4"
   ]
  },
  {
   "cell_type": "code",
   "execution_count": 16,
   "id": "c0b8693a",
   "metadata": {
    "execution": {
     "iopub.execute_input": "2022-03-20T23:12:27.140141Z",
     "iopub.status.busy": "2022-03-20T23:12:27.139007Z",
     "iopub.status.idle": "2022-03-20T23:12:27.144247Z",
     "shell.execute_reply": "2022-03-20T23:12:27.143392Z",
     "shell.execute_reply.started": "2022-03-20T23:06:20.162287Z"
    },
    "papermill": {
     "duration": 0.056759,
     "end_time": "2022-03-20T23:12:27.144474",
     "exception": false,
     "start_time": "2022-03-20T23:12:27.087715",
     "status": "completed"
    },
    "tags": []
   },
   "outputs": [
    {
     "data": {
      "text/plain": [
       "14"
      ]
     },
     "execution_count": 16,
     "metadata": {},
     "output_type": "execute_result"
    }
   ],
   "source": [
    "(2+3 * 4)"
   ]
  },
  {
   "cell_type": "code",
   "execution_count": 17,
   "id": "e4cd5a12",
   "metadata": {
    "execution": {
     "iopub.execute_input": "2022-03-20T23:12:27.226505Z",
     "iopub.status.busy": "2022-03-20T23:12:27.225761Z",
     "iopub.status.idle": "2022-03-20T23:12:27.231252Z",
     "shell.execute_reply": "2022-03-20T23:12:27.231743Z",
     "shell.execute_reply.started": "2022-03-20T23:06:49.606291Z"
    },
    "papermill": {
     "duration": 0.047476,
     "end_time": "2022-03-20T23:12:27.231980",
     "exception": false,
     "start_time": "2022-03-20T23:12:27.184504",
     "status": "completed"
    },
    "tags": []
   },
   "outputs": [
    {
     "data": {
      "text/plain": [
       "0.2"
      ]
     },
     "execution_count": 17,
     "metadata": {},
     "output_type": "execute_result"
    }
   ],
   "source": [
    "0.1 + 0.1"
   ]
  },
  {
   "cell_type": "code",
   "execution_count": 18,
   "id": "dd29a8a4",
   "metadata": {
    "execution": {
     "iopub.execute_input": "2022-03-20T23:12:27.312782Z",
     "iopub.status.busy": "2022-03-20T23:12:27.311768Z",
     "iopub.status.idle": "2022-03-20T23:12:27.317929Z",
     "shell.execute_reply": "2022-03-20T23:12:27.317435Z",
     "shell.execute_reply.started": "2022-03-20T23:06:54.586338Z"
    },
    "papermill": {
     "duration": 0.047454,
     "end_time": "2022-03-20T23:12:27.318101",
     "exception": false,
     "start_time": "2022-03-20T23:12:27.270647",
     "status": "completed"
    },
    "tags": []
   },
   "outputs": [
    {
     "data": {
      "text/plain": [
       "0.4"
      ]
     },
     "execution_count": 18,
     "metadata": {},
     "output_type": "execute_result"
    }
   ],
   "source": [
    "0.2 + 0.2"
   ]
  },
  {
   "cell_type": "code",
   "execution_count": 19,
   "id": "ec9e145b",
   "metadata": {
    "execution": {
     "iopub.execute_input": "2022-03-20T23:12:27.399645Z",
     "iopub.status.busy": "2022-03-20T23:12:27.398917Z",
     "iopub.status.idle": "2022-03-20T23:12:27.402815Z",
     "shell.execute_reply": "2022-03-20T23:12:27.403378Z",
     "shell.execute_reply.started": "2022-03-20T23:07:01.256757Z"
    },
    "papermill": {
     "duration": 0.047109,
     "end_time": "2022-03-20T23:12:27.403557",
     "exception": false,
     "start_time": "2022-03-20T23:12:27.356448",
     "status": "completed"
    },
    "tags": []
   },
   "outputs": [
    {
     "data": {
      "text/plain": [
       "0.2"
      ]
     },
     "execution_count": 19,
     "metadata": {},
     "output_type": "execute_result"
    }
   ],
   "source": [
    "2 * 0.1"
   ]
  },
  {
   "cell_type": "code",
   "execution_count": 20,
   "id": "1d713a49",
   "metadata": {
    "execution": {
     "iopub.execute_input": "2022-03-20T23:12:27.486338Z",
     "iopub.status.busy": "2022-03-20T23:12:27.485655Z",
     "iopub.status.idle": "2022-03-20T23:12:27.490944Z",
     "shell.execute_reply": "2022-03-20T23:12:27.491563Z",
     "shell.execute_reply.started": "2022-03-20T23:07:10.196255Z"
    },
    "papermill": {
     "duration": 0.049301,
     "end_time": "2022-03-20T23:12:27.491729",
     "exception": false,
     "start_time": "2022-03-20T23:12:27.442428",
     "status": "completed"
    },
    "tags": []
   },
   "outputs": [
    {
     "data": {
      "text/plain": [
       "0.4"
      ]
     },
     "execution_count": 20,
     "metadata": {},
     "output_type": "execute_result"
    }
   ],
   "source": [
    "2* 0.2"
   ]
  },
  {
   "cell_type": "code",
   "execution_count": 21,
   "id": "199baa97",
   "metadata": {
    "execution": {
     "iopub.execute_input": "2022-03-20T23:12:27.572459Z",
     "iopub.status.busy": "2022-03-20T23:12:27.571786Z",
     "iopub.status.idle": "2022-03-20T23:12:27.577173Z",
     "shell.execute_reply": "2022-03-20T23:12:27.577815Z",
     "shell.execute_reply.started": "2022-03-20T23:07:33.034775Z"
    },
    "papermill": {
     "duration": 0.048019,
     "end_time": "2022-03-20T23:12:27.578000",
     "exception": false,
     "start_time": "2022-03-20T23:12:27.529981",
     "status": "completed"
    },
    "tags": []
   },
   "outputs": [
    {
     "data": {
      "text/plain": [
       "2.0"
      ]
     },
     "execution_count": 21,
     "metadata": {},
     "output_type": "execute_result"
    }
   ],
   "source": [
    "4/ 2"
   ]
  },
  {
   "cell_type": "markdown",
   "id": "86d4fbf5",
   "metadata": {
    "papermill": {
     "duration": 0.038775,
     "end_time": "2022-03-20T23:12:27.655632",
     "exception": false,
     "start_time": "2022-03-20T23:12:27.616857",
     "status": "completed"
    },
    "tags": []
   },
   "source": [
    "Mulitple Assignments and others"
   ]
  },
  {
   "cell_type": "code",
   "execution_count": 22,
   "id": "a3c63126",
   "metadata": {
    "execution": {
     "iopub.execute_input": "2022-03-20T23:12:27.736152Z",
     "iopub.status.busy": "2022-03-20T23:12:27.735545Z",
     "iopub.status.idle": "2022-03-20T23:12:27.739473Z",
     "shell.execute_reply": "2022-03-20T23:12:27.739978Z",
     "shell.execute_reply.started": "2022-03-20T23:08:31.197649Z"
    },
    "papermill": {
     "duration": 0.045981,
     "end_time": "2022-03-20T23:12:27.740164",
     "exception": false,
     "start_time": "2022-03-20T23:12:27.694183",
     "status": "completed"
    },
    "tags": []
   },
   "outputs": [],
   "source": [
    "x,y,z = 0,0,0"
   ]
  },
  {
   "cell_type": "code",
   "execution_count": 23,
   "id": "cb4be287",
   "metadata": {
    "execution": {
     "iopub.execute_input": "2022-03-20T23:12:27.824690Z",
     "iopub.status.busy": "2022-03-20T23:12:27.823968Z",
     "iopub.status.idle": "2022-03-20T23:12:27.825379Z",
     "shell.execute_reply": "2022-03-20T23:12:27.825855Z",
     "shell.execute_reply.started": "2022-03-20T23:08:53.704601Z"
    },
    "papermill": {
     "duration": 0.047346,
     "end_time": "2022-03-20T23:12:27.826037",
     "exception": false,
     "start_time": "2022-03-20T23:12:27.778691",
     "status": "completed"
    },
    "tags": []
   },
   "outputs": [],
   "source": [
    "MAX_CONNECTIONS = 5000"
   ]
  },
  {
   "cell_type": "code",
   "execution_count": 24,
   "id": "a08dfa8a",
   "metadata": {
    "execution": {
     "iopub.execute_input": "2022-03-20T23:12:27.908203Z",
     "iopub.status.busy": "2022-03-20T23:12:27.907509Z",
     "iopub.status.idle": "2022-03-20T23:12:27.909770Z",
     "shell.execute_reply": "2022-03-20T23:12:27.910338Z",
     "shell.execute_reply.started": "2022-03-20T23:09:59.637329Z"
    },
    "papermill": {
     "duration": 0.044848,
     "end_time": "2022-03-20T23:12:27.910533",
     "exception": false,
     "start_time": "2022-03-20T23:12:27.865685",
     "status": "completed"
    },
    "tags": []
   },
   "outputs": [],
   "source": [
    "###This is a comment"
   ]
  },
  {
   "cell_type": "code",
   "execution_count": 25,
   "id": "e54e9ee5",
   "metadata": {
    "execution": {
     "iopub.execute_input": "2022-03-20T23:12:27.993764Z",
     "iopub.status.busy": "2022-03-20T23:12:27.992665Z",
     "iopub.status.idle": "2022-03-20T23:12:27.997414Z",
     "shell.execute_reply": "2022-03-20T23:12:27.997987Z",
     "shell.execute_reply.started": "2022-03-20T23:10:03.902779Z"
    },
    "papermill": {
     "duration": 0.049164,
     "end_time": "2022-03-20T23:12:27.998221",
     "exception": false,
     "start_time": "2022-03-20T23:12:27.949057",
     "status": "completed"
    },
    "tags": []
   },
   "outputs": [
    {
     "name": "stdout",
     "output_type": "stream",
     "text": [
      "The Zen of Python, by Tim Peters\n",
      "\n",
      "Beautiful is better than ugly.\n",
      "Explicit is better than implicit.\n",
      "Simple is better than complex.\n",
      "Complex is better than complicated.\n",
      "Flat is better than nested.\n",
      "Sparse is better than dense.\n",
      "Readability counts.\n",
      "Special cases aren't special enough to break the rules.\n",
      "Although practicality beats purity.\n",
      "Errors should never pass silently.\n",
      "Unless explicitly silenced.\n",
      "In the face of ambiguity, refuse the temptation to guess.\n",
      "There should be one-- and preferably only one --obvious way to do it.\n",
      "Although that way may not be obvious at first unless you're Dutch.\n",
      "Now is better than never.\n",
      "Although never is often better than *right* now.\n",
      "If the implementation is hard to explain, it's a bad idea.\n",
      "If the implementation is easy to explain, it may be a good idea.\n",
      "Namespaces are one honking great idea -- let's do more of those!\n"
     ]
    }
   ],
   "source": [
    "import this"
   ]
  },
  {
   "cell_type": "code",
   "execution_count": null,
   "id": "f7b57fb0",
   "metadata": {
    "papermill": {
     "duration": 0.040494,
     "end_time": "2022-03-20T23:12:28.078306",
     "exception": false,
     "start_time": "2022-03-20T23:12:28.037812",
     "status": "completed"
    },
    "tags": []
   },
   "outputs": [],
   "source": []
  }
 ],
 "metadata": {
  "kernelspec": {
   "display_name": "Python 3",
   "language": "python",
   "name": "python3"
  },
  "language_info": {
   "codemirror_mode": {
    "name": "ipython",
    "version": 3
   },
   "file_extension": ".py",
   "mimetype": "text/x-python",
   "name": "python",
   "nbconvert_exporter": "python",
   "pygments_lexer": "ipython3",
   "version": "3.7.12"
  },
  "papermill": {
   "default_parameters": {},
   "duration": 14.096525,
   "end_time": "2022-03-20T23:12:28.930107",
   "environment_variables": {},
   "exception": null,
   "input_path": "__notebook__.ipynb",
   "output_path": "__notebook__.ipynb",
   "parameters": {},
   "start_time": "2022-03-20T23:12:14.833582",
   "version": "2.3.3"
  }
 },
 "nbformat": 4,
 "nbformat_minor": 5
}
