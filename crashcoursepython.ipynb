{
 "cells": [
  {
   "cell_type": "markdown",
   "id": "7fb10d04",
   "metadata": {
    "papermill": {
     "duration": 0.045952,
     "end_time": "2022-08-06T16:56:01.032911",
     "exception": false,
     "start_time": "2022-08-06T16:56:00.986959",
     "status": "completed"
    },
    "tags": []
   },
   "source": [
    "Simple Hello Message/ Getting started"
   ]
  },
  {
   "cell_type": "code",
   "execution_count": 1,
   "id": "34541fa0",
   "metadata": {
    "execution": {
     "iopub.execute_input": "2022-08-06T16:56:01.124231Z",
     "iopub.status.busy": "2022-08-06T16:56:01.122964Z",
     "iopub.status.idle": "2022-08-06T16:56:01.132868Z",
     "shell.execute_reply": "2022-08-06T16:56:01.133504Z",
     "shell.execute_reply.started": "2022-03-20T22:42:54.585765Z"
    },
    "papermill": {
     "duration": 0.056292,
     "end_time": "2022-08-06T16:56:01.133853",
     "exception": false,
     "start_time": "2022-08-06T16:56:01.077561",
     "status": "completed"
    },
    "tags": []
   },
   "outputs": [
    {
     "name": "stdout",
     "output_type": "stream",
     "text": [
      "Hello Python interpreter\n",
      "Hello Python World!\n",
      "Hello Python Crash Course world!\n"
     ]
    }
   ],
   "source": [
    "\n",
    "print(\"Hello Python interpreter\")\n",
    "message = \"Hello Python World!\"\n",
    "print(message)\n",
    "message = \"Hello Python Crash Course world!\"\n",
    "print(message)"
   ]
  },
  {
   "cell_type": "markdown",
   "id": "002e5837",
   "metadata": {
    "papermill": {
     "duration": 0.045325,
     "end_time": "2022-08-06T16:56:01.222045",
     "exception": false,
     "start_time": "2022-08-06T16:56:01.176720",
     "status": "completed"
    },
    "tags": []
   },
   "source": [
    "Basic string commands"
   ]
  },
  {
   "cell_type": "code",
   "execution_count": 2,
   "id": "f7dddf35",
   "metadata": {
    "execution": {
     "iopub.execute_input": "2022-08-06T16:56:01.312676Z",
     "iopub.status.busy": "2022-08-06T16:56:01.311908Z",
     "iopub.status.idle": "2022-08-06T16:56:01.318139Z",
     "shell.execute_reply": "2022-08-06T16:56:01.317373Z",
     "shell.execute_reply.started": "2022-03-20T22:53:36.559707Z"
    },
    "papermill": {
     "duration": 0.053525,
     "end_time": "2022-08-06T16:56:01.318345",
     "exception": false,
     "start_time": "2022-08-06T16:56:01.264820",
     "status": "completed"
    },
    "tags": []
   },
   "outputs": [
    {
     "name": "stdout",
     "output_type": "stream",
     "text": [
      "Ada Lovelace\n",
      "ADA LOVELACE\n",
      "ada lovelace\n"
     ]
    }
   ],
   "source": [
    "name = \"ada lovelace\"\n",
    "print(name.title())\n",
    "print(name.upper())\n",
    "print(name.lower())"
   ]
  },
  {
   "cell_type": "markdown",
   "id": "c5499d48",
   "metadata": {
    "papermill": {
     "duration": 0.042346,
     "end_time": "2022-08-06T16:56:01.406900",
     "exception": false,
     "start_time": "2022-08-06T16:56:01.364554",
     "status": "completed"
    },
    "tags": []
   },
   "source": [
    "F-String - Way to concatenate multiple variables"
   ]
  },
  {
   "cell_type": "code",
   "execution_count": 3,
   "id": "e053ac0d",
   "metadata": {
    "execution": {
     "iopub.execute_input": "2022-08-06T16:56:01.495601Z",
     "iopub.status.busy": "2022-08-06T16:56:01.494828Z",
     "iopub.status.idle": "2022-08-06T16:56:01.500337Z",
     "shell.execute_reply": "2022-08-06T16:56:01.501093Z",
     "shell.execute_reply.started": "2022-03-20T22:55:23.691337Z"
    },
    "papermill": {
     "duration": 0.051959,
     "end_time": "2022-08-06T16:56:01.501353",
     "exception": false,
     "start_time": "2022-08-06T16:56:01.449394",
     "status": "completed"
    },
    "tags": []
   },
   "outputs": [
    {
     "name": "stdout",
     "output_type": "stream",
     "text": [
      "ada lovelace\n",
      "Hello, Ada Lovelace!\n"
     ]
    }
   ],
   "source": [
    "first_name = \"ada\"\n",
    "last_name = \"lovelace\"\n",
    "full_name = f\"{first_name} {last_name}\"\n",
    "print(full_name)\n",
    "print(f\"Hello, {full_name.title()}!\")"
   ]
  },
  {
   "cell_type": "code",
   "execution_count": 4,
   "id": "4db62097",
   "metadata": {
    "execution": {
     "iopub.execute_input": "2022-08-06T16:56:01.594638Z",
     "iopub.status.busy": "2022-08-06T16:56:01.593990Z",
     "iopub.status.idle": "2022-08-06T16:56:01.599470Z",
     "shell.execute_reply": "2022-08-06T16:56:01.600037Z",
     "shell.execute_reply.started": "2022-03-20T22:56:20.978913Z"
    },
    "papermill": {
     "duration": 0.05225,
     "end_time": "2022-08-06T16:56:01.600231",
     "exception": false,
     "start_time": "2022-08-06T16:56:01.547981",
     "status": "completed"
    },
    "tags": []
   },
   "outputs": [
    {
     "name": "stdout",
     "output_type": "stream",
     "text": [
      "ada lovelace\n",
      "Hello, Ada Lovelace!\n"
     ]
    }
   ],
   "source": [
    "first_name = \"ada\"\n",
    "last_name = \"lovelace\"\n",
    "full_name = f\"{first_name} {last_name}\"\n",
    "print(full_name)\n",
    "message = f\"Hello, {full_name.title()}!\"\n",
    "print(message)"
   ]
  },
  {
   "cell_type": "markdown",
   "id": "00507d2f",
   "metadata": {
    "papermill": {
     "duration": 0.042931,
     "end_time": "2022-08-06T16:56:01.686837",
     "exception": false,
     "start_time": "2022-08-06T16:56:01.643906",
     "status": "completed"
    },
    "tags": []
   },
   "source": [
    "How to add Whitespace to strings with Tabs or Newlines"
   ]
  },
  {
   "cell_type": "code",
   "execution_count": 5,
   "id": "02fe2628",
   "metadata": {
    "execution": {
     "iopub.execute_input": "2022-08-06T16:56:01.776992Z",
     "iopub.status.busy": "2022-08-06T16:56:01.776294Z",
     "iopub.status.idle": "2022-08-06T16:56:01.781404Z",
     "shell.execute_reply": "2022-08-06T16:56:01.781968Z",
     "shell.execute_reply.started": "2022-03-20T22:58:06.029247Z"
    },
    "papermill": {
     "duration": 0.051703,
     "end_time": "2022-08-06T16:56:01.782150",
     "exception": false,
     "start_time": "2022-08-06T16:56:01.730447",
     "status": "completed"
    },
    "tags": []
   },
   "outputs": [
    {
     "name": "stdout",
     "output_type": "stream",
     "text": [
      "Python\n",
      "\tPython\n"
     ]
    }
   ],
   "source": [
    "print(\"Python\")\n",
    "print(\"\\tPython\")"
   ]
  },
  {
   "cell_type": "code",
   "execution_count": 6,
   "id": "8e848893",
   "metadata": {
    "execution": {
     "iopub.execute_input": "2022-08-06T16:56:01.875768Z",
     "iopub.status.busy": "2022-08-06T16:56:01.875069Z",
     "iopub.status.idle": "2022-08-06T16:56:01.880524Z",
     "shell.execute_reply": "2022-08-06T16:56:01.881104Z",
     "shell.execute_reply.started": "2022-03-20T22:58:49.214036Z"
    },
    "papermill": {
     "duration": 0.054756,
     "end_time": "2022-08-06T16:56:01.881281",
     "exception": false,
     "start_time": "2022-08-06T16:56:01.826525",
     "status": "completed"
    },
    "tags": []
   },
   "outputs": [
    {
     "name": "stdout",
     "output_type": "stream",
     "text": [
      "Languages:\n",
      "Python\n",
      "C\n",
      "Javascript\n"
     ]
    }
   ],
   "source": [
    "print(\"Languages:\\nPython\\nC\\nJavascript\")"
   ]
  },
  {
   "cell_type": "code",
   "execution_count": 7,
   "id": "d7ff6bec",
   "metadata": {
    "execution": {
     "iopub.execute_input": "2022-08-06T16:56:01.974050Z",
     "iopub.status.busy": "2022-08-06T16:56:01.973324Z",
     "iopub.status.idle": "2022-08-06T16:56:01.978995Z",
     "shell.execute_reply": "2022-08-06T16:56:01.979520Z",
     "shell.execute_reply.started": "2022-03-20T22:59:42.110725Z"
    },
    "papermill": {
     "duration": 0.053514,
     "end_time": "2022-08-06T16:56:01.979722",
     "exception": false,
     "start_time": "2022-08-06T16:56:01.926208",
     "status": "completed"
    },
    "tags": []
   },
   "outputs": [
    {
     "name": "stdout",
     "output_type": "stream",
     "text": [
      "Languages:\n",
      "\tPython\n",
      "\tC\n",
      "\tJavascript\n"
     ]
    }
   ],
   "source": [
    "print(\"Languages:\\n\\tPython\\n\\tC\\n\\tJavascript\")"
   ]
  },
  {
   "cell_type": "markdown",
   "id": "2f430365",
   "metadata": {
    "papermill": {
     "duration": 0.045431,
     "end_time": "2022-08-06T16:56:02.073459",
     "exception": false,
     "start_time": "2022-08-06T16:56:02.028028",
     "status": "completed"
    },
    "tags": []
   },
   "source": [
    "Removing Whitespace"
   ]
  },
  {
   "cell_type": "code",
   "execution_count": 8,
   "id": "45171c3d",
   "metadata": {
    "execution": {
     "iopub.execute_input": "2022-08-06T16:56:02.166064Z",
     "iopub.status.busy": "2022-08-06T16:56:02.165292Z",
     "iopub.status.idle": "2022-08-06T16:56:02.173115Z",
     "shell.execute_reply": "2022-08-06T16:56:02.173779Z",
     "shell.execute_reply.started": "2022-03-20T23:01:53.78281Z"
    },
    "papermill": {
     "duration": 0.055824,
     "end_time": "2022-08-06T16:56:02.173958",
     "exception": false,
     "start_time": "2022-08-06T16:56:02.118134",
     "status": "completed"
    },
    "tags": []
   },
   "outputs": [
    {
     "data": {
      "text/plain": [
       "'python'"
      ]
     },
     "execution_count": 8,
     "metadata": {},
     "output_type": "execute_result"
    }
   ],
   "source": [
    "favorite_language = \"python \"\n",
    "favorite_language\n",
    "favorite_language.rstrip()\n",
    "# right strip"
   ]
  },
  {
   "cell_type": "code",
   "execution_count": 9,
   "id": "c5ab667b",
   "metadata": {
    "execution": {
     "iopub.execute_input": "2022-08-06T16:56:02.271508Z",
     "iopub.status.busy": "2022-08-06T16:56:02.270626Z",
     "iopub.status.idle": "2022-08-06T16:56:02.275775Z",
     "shell.execute_reply": "2022-08-06T16:56:02.276369Z",
     "shell.execute_reply.started": "2022-03-20T23:02:37.05996Z"
    },
    "papermill": {
     "duration": 0.057415,
     "end_time": "2022-08-06T16:56:02.276546",
     "exception": false,
     "start_time": "2022-08-06T16:56:02.219131",
     "status": "completed"
    },
    "tags": []
   },
   "outputs": [
    {
     "data": {
      "text/plain": [
       "'python'"
      ]
     },
     "execution_count": 9,
     "metadata": {},
     "output_type": "execute_result"
    }
   ],
   "source": [
    "favorite_language = \" python \"\n",
    "favorite_language\n",
    "favorite_language.strip()\n",
    "# strip both sides"
   ]
  },
  {
   "cell_type": "markdown",
   "id": "be174121",
   "metadata": {
    "papermill": {
     "duration": 0.045971,
     "end_time": "2022-08-06T16:56:02.369175",
     "exception": false,
     "start_time": "2022-08-06T16:56:02.323204",
     "status": "completed"
    },
    "tags": []
   },
   "source": [
    "Integers"
   ]
  },
  {
   "cell_type": "code",
   "execution_count": 10,
   "id": "02434fe9",
   "metadata": {
    "execution": {
     "iopub.execute_input": "2022-08-06T16:56:02.463947Z",
     "iopub.status.busy": "2022-08-06T16:56:02.463155Z",
     "iopub.status.idle": "2022-08-06T16:56:02.467795Z",
     "shell.execute_reply": "2022-08-06T16:56:02.468286Z",
     "shell.execute_reply.started": "2022-03-20T23:05:23.54621Z"
    },
    "papermill": {
     "duration": 0.053242,
     "end_time": "2022-08-06T16:56:02.468460",
     "exception": false,
     "start_time": "2022-08-06T16:56:02.415218",
     "status": "completed"
    },
    "tags": []
   },
   "outputs": [
    {
     "data": {
      "text/plain": [
       "5"
      ]
     },
     "execution_count": 10,
     "metadata": {},
     "output_type": "execute_result"
    }
   ],
   "source": [
    "2+3"
   ]
  },
  {
   "cell_type": "code",
   "execution_count": 11,
   "id": "7c986f1d",
   "metadata": {
    "execution": {
     "iopub.execute_input": "2022-08-06T16:56:02.563382Z",
     "iopub.status.busy": "2022-08-06T16:56:02.562721Z",
     "iopub.status.idle": "2022-08-06T16:56:02.567653Z",
     "shell.execute_reply": "2022-08-06T16:56:02.568264Z",
     "shell.execute_reply.started": "2022-03-20T23:05:29.47834Z"
    },
    "papermill": {
     "duration": 0.054112,
     "end_time": "2022-08-06T16:56:02.568440",
     "exception": false,
     "start_time": "2022-08-06T16:56:02.514328",
     "status": "completed"
    },
    "tags": []
   },
   "outputs": [
    {
     "data": {
      "text/plain": [
       "1"
      ]
     },
     "execution_count": 11,
     "metadata": {},
     "output_type": "execute_result"
    }
   ],
   "source": [
    "3 -2"
   ]
  },
  {
   "cell_type": "code",
   "execution_count": 12,
   "id": "a6050733",
   "metadata": {
    "execution": {
     "iopub.execute_input": "2022-08-06T16:56:02.664080Z",
     "iopub.status.busy": "2022-08-06T16:56:02.663416Z",
     "iopub.status.idle": "2022-08-06T16:56:02.668426Z",
     "shell.execute_reply": "2022-08-06T16:56:02.668964Z",
     "shell.execute_reply.started": "2022-03-20T23:05:34.437171Z"
    },
    "papermill": {
     "duration": 0.05467,
     "end_time": "2022-08-06T16:56:02.669146",
     "exception": false,
     "start_time": "2022-08-06T16:56:02.614476",
     "status": "completed"
    },
    "tags": []
   },
   "outputs": [
    {
     "data": {
      "text/plain": [
       "6"
      ]
     },
     "execution_count": 12,
     "metadata": {},
     "output_type": "execute_result"
    }
   ],
   "source": [
    "2 * 3"
   ]
  },
  {
   "cell_type": "code",
   "execution_count": 13,
   "id": "f6a5fcf7",
   "metadata": {
    "execution": {
     "iopub.execute_input": "2022-08-06T16:56:02.768015Z",
     "iopub.status.busy": "2022-08-06T16:56:02.767212Z",
     "iopub.status.idle": "2022-08-06T16:56:02.771714Z",
     "shell.execute_reply": "2022-08-06T16:56:02.771029Z",
     "shell.execute_reply.started": "2022-03-20T23:05:38.513282Z"
    },
    "papermill": {
     "duration": 0.05605,
     "end_time": "2022-08-06T16:56:02.771879",
     "exception": false,
     "start_time": "2022-08-06T16:56:02.715829",
     "status": "completed"
    },
    "tags": []
   },
   "outputs": [
    {
     "data": {
      "text/plain": [
       "1.5"
      ]
     },
     "execution_count": 13,
     "metadata": {},
     "output_type": "execute_result"
    }
   ],
   "source": [
    "3/2"
   ]
  },
  {
   "cell_type": "code",
   "execution_count": 14,
   "id": "851be219",
   "metadata": {
    "execution": {
     "iopub.execute_input": "2022-08-06T16:56:02.873390Z",
     "iopub.status.busy": "2022-08-06T16:56:02.870464Z",
     "iopub.status.idle": "2022-08-06T16:56:02.877446Z",
     "shell.execute_reply": "2022-08-06T16:56:02.876740Z",
     "shell.execute_reply.started": "2022-03-20T23:05:47.367053Z"
    },
    "papermill": {
     "duration": 0.057455,
     "end_time": "2022-08-06T16:56:02.877601",
     "exception": false,
     "start_time": "2022-08-06T16:56:02.820146",
     "status": "completed"
    },
    "tags": []
   },
   "outputs": [
    {
     "data": {
      "text/plain": [
       "9"
      ]
     },
     "execution_count": 14,
     "metadata": {},
     "output_type": "execute_result"
    }
   ],
   "source": [
    "3 **2"
   ]
  },
  {
   "cell_type": "code",
   "execution_count": 15,
   "id": "3ee84e25",
   "metadata": {
    "execution": {
     "iopub.execute_input": "2022-08-06T16:56:02.977888Z",
     "iopub.status.busy": "2022-08-06T16:56:02.977073Z",
     "iopub.status.idle": "2022-08-06T16:56:02.982031Z",
     "shell.execute_reply": "2022-08-06T16:56:02.982561Z",
     "shell.execute_reply.started": "2022-03-20T23:06:02.274379Z"
    },
    "papermill": {
     "duration": 0.0572,
     "end_time": "2022-08-06T16:56:02.982763",
     "exception": false,
     "start_time": "2022-08-06T16:56:02.925563",
     "status": "completed"
    },
    "tags": []
   },
   "outputs": [
    {
     "data": {
      "text/plain": [
       "14"
      ]
     },
     "execution_count": 15,
     "metadata": {},
     "output_type": "execute_result"
    }
   ],
   "source": [
    "2 + 3*4"
   ]
  },
  {
   "cell_type": "code",
   "execution_count": 16,
   "id": "408f8fe9",
   "metadata": {
    "execution": {
     "iopub.execute_input": "2022-08-06T16:56:03.084910Z",
     "iopub.status.busy": "2022-08-06T16:56:03.084054Z",
     "iopub.status.idle": "2022-08-06T16:56:03.089277Z",
     "shell.execute_reply": "2022-08-06T16:56:03.089901Z",
     "shell.execute_reply.started": "2022-03-20T23:06:20.162287Z"
    },
    "papermill": {
     "duration": 0.058542,
     "end_time": "2022-08-06T16:56:03.090105",
     "exception": false,
     "start_time": "2022-08-06T16:56:03.031563",
     "status": "completed"
    },
    "tags": []
   },
   "outputs": [
    {
     "data": {
      "text/plain": [
       "14"
      ]
     },
     "execution_count": 16,
     "metadata": {},
     "output_type": "execute_result"
    }
   ],
   "source": [
    "(2+3 * 4)"
   ]
  },
  {
   "cell_type": "code",
   "execution_count": 17,
   "id": "a4632c07",
   "metadata": {
    "execution": {
     "iopub.execute_input": "2022-08-06T16:56:03.194875Z",
     "iopub.status.busy": "2022-08-06T16:56:03.194076Z",
     "iopub.status.idle": "2022-08-06T16:56:03.199144Z",
     "shell.execute_reply": "2022-08-06T16:56:03.199740Z",
     "shell.execute_reply.started": "2022-03-20T23:06:49.606291Z"
    },
    "papermill": {
     "duration": 0.057648,
     "end_time": "2022-08-06T16:56:03.199924",
     "exception": false,
     "start_time": "2022-08-06T16:56:03.142276",
     "status": "completed"
    },
    "tags": []
   },
   "outputs": [
    {
     "data": {
      "text/plain": [
       "0.2"
      ]
     },
     "execution_count": 17,
     "metadata": {},
     "output_type": "execute_result"
    }
   ],
   "source": [
    "0.1 + 0.1"
   ]
  },
  {
   "cell_type": "code",
   "execution_count": 18,
   "id": "f3a7af6f",
   "metadata": {
    "execution": {
     "iopub.execute_input": "2022-08-06T16:56:03.303268Z",
     "iopub.status.busy": "2022-08-06T16:56:03.302557Z",
     "iopub.status.idle": "2022-08-06T16:56:03.307188Z",
     "shell.execute_reply": "2022-08-06T16:56:03.307814Z",
     "shell.execute_reply.started": "2022-03-20T23:06:54.586338Z"
    },
    "papermill": {
     "duration": 0.059235,
     "end_time": "2022-08-06T16:56:03.307996",
     "exception": false,
     "start_time": "2022-08-06T16:56:03.248761",
     "status": "completed"
    },
    "tags": []
   },
   "outputs": [
    {
     "data": {
      "text/plain": [
       "0.4"
      ]
     },
     "execution_count": 18,
     "metadata": {},
     "output_type": "execute_result"
    }
   ],
   "source": [
    "0.2 + 0.2"
   ]
  },
  {
   "cell_type": "code",
   "execution_count": 19,
   "id": "1645e71d",
   "metadata": {
    "execution": {
     "iopub.execute_input": "2022-08-06T16:56:03.409010Z",
     "iopub.status.busy": "2022-08-06T16:56:03.408118Z",
     "iopub.status.idle": "2022-08-06T16:56:03.412566Z",
     "shell.execute_reply": "2022-08-06T16:56:03.413122Z",
     "shell.execute_reply.started": "2022-03-20T23:07:01.256757Z"
    },
    "papermill": {
     "duration": 0.056216,
     "end_time": "2022-08-06T16:56:03.413370",
     "exception": false,
     "start_time": "2022-08-06T16:56:03.357154",
     "status": "completed"
    },
    "tags": []
   },
   "outputs": [
    {
     "data": {
      "text/plain": [
       "0.2"
      ]
     },
     "execution_count": 19,
     "metadata": {},
     "output_type": "execute_result"
    }
   ],
   "source": [
    "2 * 0.1"
   ]
  },
  {
   "cell_type": "code",
   "execution_count": 20,
   "id": "b3f0f74d",
   "metadata": {
    "execution": {
     "iopub.execute_input": "2022-08-06T16:56:03.515256Z",
     "iopub.status.busy": "2022-08-06T16:56:03.514419Z",
     "iopub.status.idle": "2022-08-06T16:56:03.519458Z",
     "shell.execute_reply": "2022-08-06T16:56:03.520120Z",
     "shell.execute_reply.started": "2022-03-20T23:07:10.196255Z"
    },
    "papermill": {
     "duration": 0.057685,
     "end_time": "2022-08-06T16:56:03.520310",
     "exception": false,
     "start_time": "2022-08-06T16:56:03.462625",
     "status": "completed"
    },
    "tags": []
   },
   "outputs": [
    {
     "data": {
      "text/plain": [
       "0.4"
      ]
     },
     "execution_count": 20,
     "metadata": {},
     "output_type": "execute_result"
    }
   ],
   "source": [
    "2* 0.2"
   ]
  },
  {
   "cell_type": "code",
   "execution_count": 21,
   "id": "8bbbebed",
   "metadata": {
    "execution": {
     "iopub.execute_input": "2022-08-06T16:56:03.621706Z",
     "iopub.status.busy": "2022-08-06T16:56:03.621062Z",
     "iopub.status.idle": "2022-08-06T16:56:03.626925Z",
     "shell.execute_reply": "2022-08-06T16:56:03.626370Z",
     "shell.execute_reply.started": "2022-03-20T23:07:33.034775Z"
    },
    "papermill": {
     "duration": 0.057787,
     "end_time": "2022-08-06T16:56:03.627081",
     "exception": false,
     "start_time": "2022-08-06T16:56:03.569294",
     "status": "completed"
    },
    "tags": []
   },
   "outputs": [
    {
     "data": {
      "text/plain": [
       "2.0"
      ]
     },
     "execution_count": 21,
     "metadata": {},
     "output_type": "execute_result"
    }
   ],
   "source": [
    "4/ 2"
   ]
  },
  {
   "cell_type": "markdown",
   "id": "e7fdbf27",
   "metadata": {
    "papermill": {
     "duration": 0.049218,
     "end_time": "2022-08-06T16:56:03.726040",
     "exception": false,
     "start_time": "2022-08-06T16:56:03.676822",
     "status": "completed"
    },
    "tags": []
   },
   "source": [
    "Mulitple Assignments and others"
   ]
  },
  {
   "cell_type": "code",
   "execution_count": 22,
   "id": "6d915e6d",
   "metadata": {
    "execution": {
     "iopub.execute_input": "2022-08-06T16:56:03.829560Z",
     "iopub.status.busy": "2022-08-06T16:56:03.828892Z",
     "iopub.status.idle": "2022-08-06T16:56:03.834062Z",
     "shell.execute_reply": "2022-08-06T16:56:03.833326Z",
     "shell.execute_reply.started": "2022-03-20T23:08:31.197649Z"
    },
    "papermill": {
     "duration": 0.058071,
     "end_time": "2022-08-06T16:56:03.834298",
     "exception": false,
     "start_time": "2022-08-06T16:56:03.776227",
     "status": "completed"
    },
    "tags": []
   },
   "outputs": [],
   "source": [
    "x,y,z = 0,0,0"
   ]
  },
  {
   "cell_type": "code",
   "execution_count": 23,
   "id": "3869d533",
   "metadata": {
    "execution": {
     "iopub.execute_input": "2022-08-06T16:56:03.939528Z",
     "iopub.status.busy": "2022-08-06T16:56:03.938798Z",
     "iopub.status.idle": "2022-08-06T16:56:03.941239Z",
     "shell.execute_reply": "2022-08-06T16:56:03.941779Z",
     "shell.execute_reply.started": "2022-03-20T23:08:53.704601Z"
    },
    "papermill": {
     "duration": 0.058003,
     "end_time": "2022-08-06T16:56:03.941954",
     "exception": false,
     "start_time": "2022-08-06T16:56:03.883951",
     "status": "completed"
    },
    "tags": []
   },
   "outputs": [],
   "source": [
    "MAX_CONNECTIONS = 5000"
   ]
  },
  {
   "cell_type": "code",
   "execution_count": 24,
   "id": "d4b1efe6",
   "metadata": {
    "execution": {
     "iopub.execute_input": "2022-08-06T16:56:04.046310Z",
     "iopub.status.busy": "2022-08-06T16:56:04.045587Z",
     "iopub.status.idle": "2022-08-06T16:56:04.048608Z",
     "shell.execute_reply": "2022-08-06T16:56:04.049191Z",
     "shell.execute_reply.started": "2022-03-20T23:09:59.637329Z"
    },
    "papermill": {
     "duration": 0.056443,
     "end_time": "2022-08-06T16:56:04.049373",
     "exception": false,
     "start_time": "2022-08-06T16:56:03.992930",
     "status": "completed"
    },
    "tags": []
   },
   "outputs": [],
   "source": [
    "###This is a comment"
   ]
  },
  {
   "cell_type": "code",
   "execution_count": 25,
   "id": "78aba7a2",
   "metadata": {
    "execution": {
     "iopub.execute_input": "2022-08-06T16:56:04.154449Z",
     "iopub.status.busy": "2022-08-06T16:56:04.153622Z",
     "iopub.status.idle": "2022-08-06T16:56:04.159306Z",
     "shell.execute_reply": "2022-08-06T16:56:04.159906Z",
     "shell.execute_reply.started": "2022-03-20T23:10:03.902779Z"
    },
    "papermill": {
     "duration": 0.060773,
     "end_time": "2022-08-06T16:56:04.160090",
     "exception": false,
     "start_time": "2022-08-06T16:56:04.099317",
     "status": "completed"
    },
    "tags": []
   },
   "outputs": [
    {
     "name": "stdout",
     "output_type": "stream",
     "text": [
      "The Zen of Python, by Tim Peters\n",
      "\n",
      "Beautiful is better than ugly.\n",
      "Explicit is better than implicit.\n",
      "Simple is better than complex.\n",
      "Complex is better than complicated.\n",
      "Flat is better than nested.\n",
      "Sparse is better than dense.\n",
      "Readability counts.\n",
      "Special cases aren't special enough to break the rules.\n",
      "Although practicality beats purity.\n",
      "Errors should never pass silently.\n",
      "Unless explicitly silenced.\n",
      "In the face of ambiguity, refuse the temptation to guess.\n",
      "There should be one-- and preferably only one --obvious way to do it.\n",
      "Although that way may not be obvious at first unless you're Dutch.\n",
      "Now is better than never.\n",
      "Although never is often better than *right* now.\n",
      "If the implementation is hard to explain, it's a bad idea.\n",
      "If the implementation is easy to explain, it may be a good idea.\n",
      "Namespaces are one honking great idea -- let's do more of those!\n"
     ]
    }
   ],
   "source": [
    "import this"
   ]
  },
  {
   "cell_type": "markdown",
   "id": "50ca8d2b",
   "metadata": {
    "papermill": {
     "duration": 0.050012,
     "end_time": "2022-08-06T16:56:04.260439",
     "exception": false,
     "start_time": "2022-08-06T16:56:04.210427",
     "status": "completed"
    },
    "tags": []
   },
   "source": [
    "Chapter 3: Lists"
   ]
  },
  {
   "cell_type": "code",
   "execution_count": 26,
   "id": "1b185ac4",
   "metadata": {
    "execution": {
     "iopub.execute_input": "2022-08-06T16:56:04.369366Z",
     "iopub.status.busy": "2022-08-06T16:56:04.368629Z",
     "iopub.status.idle": "2022-08-06T16:56:04.376810Z",
     "shell.execute_reply": "2022-08-06T16:56:04.377832Z",
     "shell.execute_reply.started": "2022-03-21T02:20:35.078408Z"
    },
    "papermill": {
     "duration": 0.06343,
     "end_time": "2022-08-06T16:56:04.378095",
     "exception": false,
     "start_time": "2022-08-06T16:56:04.314665",
     "status": "completed"
    },
    "tags": []
   },
   "outputs": [
    {
     "name": "stdout",
     "output_type": "stream",
     "text": [
      "['trek', 'cannondale', 'redline', 'specialized']\n",
      "trek\n",
      "Trek\n",
      "cannondale\n",
      "specialized\n",
      "specialized\n"
     ]
    }
   ],
   "source": [
    "bicycles = ['trek','cannondale','redline','specialized']\n",
    "print(bicycles)\n",
    "print(bicycles[0])\n",
    "print(bicycles[0].title())\n",
    "print(bicycles[1])\n",
    "print(bicycles[3])\n",
    "print(bicycles[-1])\n"
   ]
  },
  {
   "cell_type": "code",
   "execution_count": 27,
   "id": "69b5d0f8",
   "metadata": {
    "execution": {
     "iopub.execute_input": "2022-08-06T16:56:04.485491Z",
     "iopub.status.busy": "2022-08-06T16:56:04.484730Z",
     "iopub.status.idle": "2022-08-06T16:56:04.488129Z",
     "shell.execute_reply": "2022-08-06T16:56:04.487580Z",
     "shell.execute_reply.started": "2022-03-21T02:21:51.192743Z"
    },
    "papermill": {
     "duration": 0.058561,
     "end_time": "2022-08-06T16:56:04.488277",
     "exception": false,
     "start_time": "2022-08-06T16:56:04.429716",
     "status": "completed"
    },
    "tags": []
   },
   "outputs": [
    {
     "name": "stdout",
     "output_type": "stream",
     "text": [
      "My first bicycle was a Trek.\n"
     ]
    }
   ],
   "source": [
    "message = f\"My first bicycle was a {bicycles[0].title()}.\"\n",
    "print(message)"
   ]
  },
  {
   "cell_type": "code",
   "execution_count": 28,
   "id": "6e2e2784",
   "metadata": {
    "execution": {
     "iopub.execute_input": "2022-08-06T16:56:04.594912Z",
     "iopub.status.busy": "2022-08-06T16:56:04.594143Z",
     "iopub.status.idle": "2022-08-06T16:56:04.598984Z",
     "shell.execute_reply": "2022-08-06T16:56:04.597814Z",
     "shell.execute_reply.started": "2022-03-21T02:25:16.287671Z"
    },
    "papermill": {
     "duration": 0.060116,
     "end_time": "2022-08-06T16:56:04.599256",
     "exception": false,
     "start_time": "2022-08-06T16:56:04.539140",
     "status": "completed"
    },
    "tags": []
   },
   "outputs": [
    {
     "name": "stdout",
     "output_type": "stream",
     "text": [
      "['honda', 'yamaha', 'suzuki']\n"
     ]
    }
   ],
   "source": [
    "motorcycles = ['honda','yamaha','suzuki']\n",
    "print(motorcycles)\n"
   ]
  },
  {
   "cell_type": "code",
   "execution_count": 29,
   "id": "1c94cdfd",
   "metadata": {
    "execution": {
     "iopub.execute_input": "2022-08-06T16:56:04.707941Z",
     "iopub.status.busy": "2022-08-06T16:56:04.706919Z",
     "iopub.status.idle": "2022-08-06T16:56:04.712485Z",
     "shell.execute_reply": "2022-08-06T16:56:04.713163Z",
     "shell.execute_reply.started": "2022-03-21T02:26:08.092314Z"
    },
    "papermill": {
     "duration": 0.061025,
     "end_time": "2022-08-06T16:56:04.713345",
     "exception": false,
     "start_time": "2022-08-06T16:56:04.652320",
     "status": "completed"
    },
    "tags": []
   },
   "outputs": [
    {
     "name": "stdout",
     "output_type": "stream",
     "text": [
      "['ducati', 'yamaha', 'suzuki']\n"
     ]
    }
   ],
   "source": [
    "motorcycles[0] = 'ducati'\n",
    "print(motorcycles)"
   ]
  },
  {
   "cell_type": "code",
   "execution_count": 30,
   "id": "ab7ed79d",
   "metadata": {
    "execution": {
     "iopub.execute_input": "2022-08-06T16:56:04.822156Z",
     "iopub.status.busy": "2022-08-06T16:56:04.821065Z",
     "iopub.status.idle": "2022-08-06T16:56:04.828967Z",
     "shell.execute_reply": "2022-08-06T16:56:04.828035Z",
     "shell.execute_reply.started": "2022-03-21T02:27:07.762868Z"
    },
    "papermill": {
     "duration": 0.064193,
     "end_time": "2022-08-06T16:56:04.829171",
     "exception": false,
     "start_time": "2022-08-06T16:56:04.764978",
     "status": "completed"
    },
    "tags": []
   },
   "outputs": [
    {
     "name": "stdout",
     "output_type": "stream",
     "text": [
      "['honda', 'yamaha', 'suzuki']\n",
      "['honda', 'yamaha', 'suzuki', 'ducati']\n"
     ]
    }
   ],
   "source": [
    "motorcycles = ['honda','yamaha','suzuki']\n",
    "print(motorcycles)\n",
    "motorcycles.append('ducati')\n",
    "print(motorcycles)\n"
   ]
  },
  {
   "cell_type": "code",
   "execution_count": 31,
   "id": "a94285c6",
   "metadata": {
    "execution": {
     "iopub.execute_input": "2022-08-06T16:56:04.941750Z",
     "iopub.status.busy": "2022-08-06T16:56:04.940650Z",
     "iopub.status.idle": "2022-08-06T16:56:04.944244Z",
     "shell.execute_reply": "2022-08-06T16:56:04.944781Z",
     "shell.execute_reply.started": "2022-03-21T02:28:13.574436Z"
    },
    "papermill": {
     "duration": 0.061786,
     "end_time": "2022-08-06T16:56:04.944974",
     "exception": false,
     "start_time": "2022-08-06T16:56:04.883188",
     "status": "completed"
    },
    "tags": []
   },
   "outputs": [
    {
     "name": "stdout",
     "output_type": "stream",
     "text": [
      "['ducati', 'honda', 'yamaha', 'suzuki']\n"
     ]
    }
   ],
   "source": [
    "motorcycles = ['honda','yamaha','suzuki']\n",
    "motorcycles.insert(0,'ducati')\n",
    "print(motorcycles)"
   ]
  },
  {
   "cell_type": "code",
   "execution_count": 32,
   "id": "5de02198",
   "metadata": {
    "execution": {
     "iopub.execute_input": "2022-08-06T16:56:05.056863Z",
     "iopub.status.busy": "2022-08-06T16:56:05.056146Z",
     "iopub.status.idle": "2022-08-06T16:56:05.060417Z",
     "shell.execute_reply": "2022-08-06T16:56:05.059878Z",
     "shell.execute_reply.started": "2022-03-21T02:29:13.669717Z"
    },
    "papermill": {
     "duration": 0.06221,
     "end_time": "2022-08-06T16:56:05.060587",
     "exception": false,
     "start_time": "2022-08-06T16:56:04.998377",
     "status": "completed"
    },
    "tags": []
   },
   "outputs": [
    {
     "name": "stdout",
     "output_type": "stream",
     "text": [
      "['honda', 'yamaha', 'suzuki']\n",
      "['yamaha', 'suzuki']\n"
     ]
    }
   ],
   "source": [
    "motorcycles = ['honda','yamaha','suzuki']\n",
    "print(motorcycles)\n",
    "del motorcycles[0]\n",
    "print(motorcycles)"
   ]
  },
  {
   "cell_type": "code",
   "execution_count": 33,
   "id": "647a0a77",
   "metadata": {
    "execution": {
     "iopub.execute_input": "2022-08-06T16:56:05.172768Z",
     "iopub.status.busy": "2022-08-06T16:56:05.171934Z",
     "iopub.status.idle": "2022-08-06T16:56:05.176252Z",
     "shell.execute_reply": "2022-08-06T16:56:05.175382Z",
     "shell.execute_reply.started": "2022-03-21T02:32:01.365505Z"
    },
    "papermill": {
     "duration": 0.06231,
     "end_time": "2022-08-06T16:56:05.176445",
     "exception": false,
     "start_time": "2022-08-06T16:56:05.114135",
     "status": "completed"
    },
    "tags": []
   },
   "outputs": [
    {
     "name": "stdout",
     "output_type": "stream",
     "text": [
      "['honda', 'yamaha', 'suzuki']\n",
      "['honda', 'suzuki']\n",
      "yamaha\n"
     ]
    }
   ],
   "source": [
    "motorcycles = ['honda','yamaha','suzuki']\n",
    "print(motorcycles)\n",
    "popped_motorcycle = motorcycles.pop(1)\n",
    "print(motorcycles)\n",
    "print(popped_motorcycle)"
   ]
  },
  {
   "cell_type": "code",
   "execution_count": 34,
   "id": "ad8804a2",
   "metadata": {
    "execution": {
     "iopub.execute_input": "2022-08-06T16:56:05.291618Z",
     "iopub.status.busy": "2022-08-06T16:56:05.290750Z",
     "iopub.status.idle": "2022-08-06T16:56:05.294262Z",
     "shell.execute_reply": "2022-08-06T16:56:05.294982Z",
     "shell.execute_reply.started": "2022-03-21T02:33:50.250707Z"
    },
    "papermill": {
     "duration": 0.06336,
     "end_time": "2022-08-06T16:56:05.295225",
     "exception": false,
     "start_time": "2022-08-06T16:56:05.231865",
     "status": "completed"
    },
    "tags": []
   },
   "outputs": [
    {
     "name": "stdout",
     "output_type": "stream",
     "text": [
      "['honda', 'yamaha', 'suzuki', 'ducati']\n",
      "['honda', 'yamaha', 'suzuki']\n"
     ]
    }
   ],
   "source": [
    "motorcycles = ['honda','yamaha','suzuki','ducati']\n",
    "print(motorcycles)\n",
    "motorcycles.remove('ducati')\n",
    "print(motorcycles)"
   ]
  },
  {
   "cell_type": "markdown",
   "id": "3f28b09b",
   "metadata": {
    "papermill": {
     "duration": 0.053725,
     "end_time": "2022-08-06T16:56:05.408016",
     "exception": false,
     "start_time": "2022-08-06T16:56:05.354291",
     "status": "completed"
    },
    "tags": []
   },
   "source": [
    "**Organizing a List**"
   ]
  },
  {
   "cell_type": "code",
   "execution_count": 35,
   "id": "6fb49dba",
   "metadata": {
    "execution": {
     "iopub.execute_input": "2022-08-06T16:56:05.521261Z",
     "iopub.status.busy": "2022-08-06T16:56:05.520483Z",
     "iopub.status.idle": "2022-08-06T16:56:05.523943Z",
     "shell.execute_reply": "2022-08-06T16:56:05.523253Z",
     "shell.execute_reply.started": "2022-03-21T02:37:07.935487Z"
    },
    "papermill": {
     "duration": 0.0622,
     "end_time": "2022-08-06T16:56:05.524098",
     "exception": false,
     "start_time": "2022-08-06T16:56:05.461898",
     "status": "completed"
    },
    "tags": []
   },
   "outputs": [
    {
     "name": "stdout",
     "output_type": "stream",
     "text": [
      "['audi', 'bmw', 'subaru', 'toyota']\n",
      "['toyota', 'subaru', 'bmw', 'audi']\n"
     ]
    }
   ],
   "source": [
    "cars = ['bmw','audi','toyota','subaru']\n",
    "cars.sort()\n",
    "print(cars)\n",
    "cars.sort(reverse=True)\n",
    "print(cars)\n"
   ]
  },
  {
   "cell_type": "code",
   "execution_count": 36,
   "id": "446c1231",
   "metadata": {
    "execution": {
     "iopub.execute_input": "2022-08-06T16:56:05.638170Z",
     "iopub.status.busy": "2022-08-06T16:56:05.637438Z",
     "iopub.status.idle": "2022-08-06T16:56:05.640123Z",
     "shell.execute_reply": "2022-08-06T16:56:05.640673Z",
     "shell.execute_reply.started": "2022-03-21T02:38:07.446176Z"
    },
    "papermill": {
     "duration": 0.062352,
     "end_time": "2022-08-06T16:56:05.640893",
     "exception": false,
     "start_time": "2022-08-06T16:56:05.578541",
     "status": "completed"
    },
    "tags": []
   },
   "outputs": [
    {
     "name": "stdout",
     "output_type": "stream",
     "text": [
      "['bmw', 'audi', 'toyota', 'subaru']\n",
      "['audi', 'bmw', 'subaru', 'toyota']\n",
      "['bmw', 'audi', 'toyota', 'subaru']\n"
     ]
    }
   ],
   "source": [
    "cars = ['bmw','audi','toyota','subaru']\n",
    "print(cars)\n",
    "print(sorted(cars))\n",
    "print(cars)"
   ]
  },
  {
   "cell_type": "code",
   "execution_count": 37,
   "id": "10752400",
   "metadata": {
    "execution": {
     "iopub.execute_input": "2022-08-06T16:56:05.754284Z",
     "iopub.status.busy": "2022-08-06T16:56:05.753509Z",
     "iopub.status.idle": "2022-08-06T16:56:05.756802Z",
     "shell.execute_reply": "2022-08-06T16:56:05.756149Z",
     "shell.execute_reply.started": "2022-03-21T02:40:44.985121Z"
    },
    "papermill": {
     "duration": 0.0621,
     "end_time": "2022-08-06T16:56:05.756946",
     "exception": false,
     "start_time": "2022-08-06T16:56:05.694846",
     "status": "completed"
    },
    "tags": []
   },
   "outputs": [
    {
     "name": "stdout",
     "output_type": "stream",
     "text": [
      "['subaru', 'toyota', 'audi', 'bmw']\n"
     ]
    }
   ],
   "source": [
    "cars = ['bmw','audi','toyota','subaru']\n",
    "cars.reverse()\n",
    "print(cars)"
   ]
  },
  {
   "cell_type": "code",
   "execution_count": 38,
   "id": "702500c1",
   "metadata": {
    "execution": {
     "iopub.execute_input": "2022-08-06T16:56:05.879232Z",
     "iopub.status.busy": "2022-08-06T16:56:05.878345Z",
     "iopub.status.idle": "2022-08-06T16:56:05.881729Z",
     "shell.execute_reply": "2022-08-06T16:56:05.882244Z",
     "shell.execute_reply.started": "2022-03-21T02:43:48.308575Z"
    },
    "papermill": {
     "duration": 0.069285,
     "end_time": "2022-08-06T16:56:05.882421",
     "exception": false,
     "start_time": "2022-08-06T16:56:05.813136",
     "status": "completed"
    },
    "tags": []
   },
   "outputs": [
    {
     "data": {
      "text/plain": [
       "4"
      ]
     },
     "execution_count": 38,
     "metadata": {},
     "output_type": "execute_result"
    }
   ],
   "source": [
    "cars = ['bmw','audi','toyota','subaru']\n",
    "len(cars)"
   ]
  },
  {
   "cell_type": "code",
   "execution_count": 39,
   "id": "d2b58a06",
   "metadata": {
    "execution": {
     "iopub.execute_input": "2022-08-06T16:56:05.999568Z",
     "iopub.status.busy": "2022-08-06T16:56:05.998550Z",
     "iopub.status.idle": "2022-08-06T16:56:06.001918Z",
     "shell.execute_reply": "2022-08-06T16:56:06.001197Z"
    },
    "papermill": {
     "duration": 0.064725,
     "end_time": "2022-08-06T16:56:06.002180",
     "exception": false,
     "start_time": "2022-08-06T16:56:05.937455",
     "status": "completed"
    },
    "tags": []
   },
   "outputs": [],
   "source": [
    "motorcycles = ['honda']"
   ]
  },
  {
   "cell_type": "markdown",
   "id": "284655c7",
   "metadata": {
    "papermill": {
     "duration": 0.055189,
     "end_time": "2022-08-06T16:56:06.116122",
     "exception": false,
     "start_time": "2022-08-06T16:56:06.060933",
     "status": "completed"
    },
    "tags": []
   },
   "source": [
    "Working with lists"
   ]
  },
  {
   "cell_type": "code",
   "execution_count": 40,
   "id": "0705d4a1",
   "metadata": {
    "execution": {
     "iopub.execute_input": "2022-08-06T16:56:06.231206Z",
     "iopub.status.busy": "2022-08-06T16:56:06.230314Z",
     "iopub.status.idle": "2022-08-06T16:56:06.233781Z",
     "shell.execute_reply": "2022-08-06T16:56:06.234278Z",
     "shell.execute_reply.started": "2022-03-22T02:38:32.036312Z"
    },
    "papermill": {
     "duration": 0.063248,
     "end_time": "2022-08-06T16:56:06.234454",
     "exception": false,
     "start_time": "2022-08-06T16:56:06.171206",
     "status": "completed"
    },
    "tags": []
   },
   "outputs": [
    {
     "name": "stdout",
     "output_type": "stream",
     "text": [
      "alice\n",
      "david\n",
      "carolina\n"
     ]
    }
   ],
   "source": [
    "magicians = ['alice','david','carolina']\n",
    "for magician in magicians:\n",
    "    print(magician)"
   ]
  },
  {
   "cell_type": "code",
   "execution_count": null,
   "id": "f8499660",
   "metadata": {
    "papermill": {
     "duration": 0.057568,
     "end_time": "2022-08-06T16:56:06.347443",
     "exception": false,
     "start_time": "2022-08-06T16:56:06.289875",
     "status": "completed"
    },
    "tags": []
   },
   "outputs": [],
   "source": []
  }
 ],
 "metadata": {
  "kernelspec": {
   "display_name": "Python 3",
   "language": "python",
   "name": "python3"
  },
  "language_info": {
   "codemirror_mode": {
    "name": "ipython",
    "version": 3
   },
   "file_extension": ".py",
   "mimetype": "text/x-python",
   "name": "python",
   "nbconvert_exporter": "python",
   "pygments_lexer": "ipython3",
   "version": "3.7.12"
  },
  "papermill": {
   "default_parameters": {},
   "duration": 16.717308,
   "end_time": "2022-08-06T16:56:07.117194",
   "environment_variables": {},
   "exception": null,
   "input_path": "__notebook__.ipynb",
   "output_path": "__notebook__.ipynb",
   "parameters": {},
   "start_time": "2022-08-06T16:55:50.399886",
   "version": "2.3.3"
  }
 },
 "nbformat": 4,
 "nbformat_minor": 5
}
