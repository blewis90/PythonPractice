{
 "cells": [
  {
   "cell_type": "markdown",
   "id": "53fe995e",
   "metadata": {
    "papermill": {
     "duration": 0.035504,
     "end_time": "2022-03-22T02:40:12.670583",
     "exception": false,
     "start_time": "2022-03-22T02:40:12.635079",
     "status": "completed"
    },
    "tags": []
   },
   "source": [
    "Simple Hello Message/ Getting started"
   ]
  },
  {
   "cell_type": "code",
   "execution_count": 1,
   "id": "e589d4c2",
   "metadata": {
    "execution": {
     "iopub.execute_input": "2022-03-22T02:40:12.757747Z",
     "iopub.status.busy": "2022-03-22T02:40:12.756037Z",
     "iopub.status.idle": "2022-03-22T02:40:12.766982Z",
     "shell.execute_reply": "2022-03-22T02:40:12.767748Z",
     "shell.execute_reply.started": "2022-03-20T22:42:54.585765Z"
    },
    "papermill": {
     "duration": 0.059479,
     "end_time": "2022-03-22T02:40:12.768070",
     "exception": false,
     "start_time": "2022-03-22T02:40:12.708591",
     "status": "completed"
    },
    "tags": []
   },
   "outputs": [
    {
     "name": "stdout",
     "output_type": "stream",
     "text": [
      "Hello Python interpreter\n",
      "Hello Python World!\n",
      "Hello Python Crash Course world!\n"
     ]
    }
   ],
   "source": [
    "\n",
    "print(\"Hello Python interpreter\")\n",
    "message = \"Hello Python World!\"\n",
    "print(message)\n",
    "message = \"Hello Python Crash Course world!\"\n",
    "print(message)"
   ]
  },
  {
   "cell_type": "markdown",
   "id": "f6481160",
   "metadata": {
    "papermill": {
     "duration": 0.035575,
     "end_time": "2022-03-22T02:40:12.838717",
     "exception": false,
     "start_time": "2022-03-22T02:40:12.803142",
     "status": "completed"
    },
    "tags": []
   },
   "source": [
    "Basic string commands"
   ]
  },
  {
   "cell_type": "code",
   "execution_count": 2,
   "id": "5614202d",
   "metadata": {
    "execution": {
     "iopub.execute_input": "2022-03-22T02:40:12.909887Z",
     "iopub.status.busy": "2022-03-22T02:40:12.909282Z",
     "iopub.status.idle": "2022-03-22T02:40:12.914968Z",
     "shell.execute_reply": "2022-03-22T02:40:12.914483Z",
     "shell.execute_reply.started": "2022-03-20T22:53:36.559707Z"
    },
    "papermill": {
     "duration": 0.042312,
     "end_time": "2022-03-22T02:40:12.915110",
     "exception": false,
     "start_time": "2022-03-22T02:40:12.872798",
     "status": "completed"
    },
    "tags": []
   },
   "outputs": [
    {
     "name": "stdout",
     "output_type": "stream",
     "text": [
      "Ada Lovelace\n",
      "ADA LOVELACE\n",
      "ada lovelace\n"
     ]
    }
   ],
   "source": [
    "name = \"ada lovelace\"\n",
    "print(name.title())\n",
    "print(name.upper())\n",
    "print(name.lower())"
   ]
  },
  {
   "cell_type": "markdown",
   "id": "4168e382",
   "metadata": {
    "papermill": {
     "duration": 0.033875,
     "end_time": "2022-03-22T02:40:12.983203",
     "exception": false,
     "start_time": "2022-03-22T02:40:12.949328",
     "status": "completed"
    },
    "tags": []
   },
   "source": [
    "F-String - Way to concatenate multiple variables"
   ]
  },
  {
   "cell_type": "code",
   "execution_count": 3,
   "id": "27ddd907",
   "metadata": {
    "execution": {
     "iopub.execute_input": "2022-03-22T02:40:13.054063Z",
     "iopub.status.busy": "2022-03-22T02:40:13.053446Z",
     "iopub.status.idle": "2022-03-22T02:40:13.057989Z",
     "shell.execute_reply": "2022-03-22T02:40:13.058508Z",
     "shell.execute_reply.started": "2022-03-20T22:55:23.691337Z"
    },
    "papermill": {
     "duration": 0.041076,
     "end_time": "2022-03-22T02:40:13.058664",
     "exception": false,
     "start_time": "2022-03-22T02:40:13.017588",
     "status": "completed"
    },
    "tags": []
   },
   "outputs": [
    {
     "name": "stdout",
     "output_type": "stream",
     "text": [
      "ada lovelace\n",
      "Hello, Ada Lovelace!\n"
     ]
    }
   ],
   "source": [
    "first_name = \"ada\"\n",
    "last_name = \"lovelace\"\n",
    "full_name = f\"{first_name} {last_name}\"\n",
    "print(full_name)\n",
    "print(f\"Hello, {full_name.title()}!\")"
   ]
  },
  {
   "cell_type": "code",
   "execution_count": 4,
   "id": "16178365",
   "metadata": {
    "execution": {
     "iopub.execute_input": "2022-03-22T02:40:13.134384Z",
     "iopub.status.busy": "2022-03-22T02:40:13.133570Z",
     "iopub.status.idle": "2022-03-22T02:40:13.136390Z",
     "shell.execute_reply": "2022-03-22T02:40:13.136847Z",
     "shell.execute_reply.started": "2022-03-20T22:56:20.978913Z"
    },
    "papermill": {
     "duration": 0.043446,
     "end_time": "2022-03-22T02:40:13.137023",
     "exception": false,
     "start_time": "2022-03-22T02:40:13.093577",
     "status": "completed"
    },
    "tags": []
   },
   "outputs": [
    {
     "name": "stdout",
     "output_type": "stream",
     "text": [
      "ada lovelace\n",
      "Hello, Ada Lovelace!\n"
     ]
    }
   ],
   "source": [
    "first_name = \"ada\"\n",
    "last_name = \"lovelace\"\n",
    "full_name = f\"{first_name} {last_name}\"\n",
    "print(full_name)\n",
    "message = f\"Hello, {full_name.title()}!\"\n",
    "print(message)"
   ]
  },
  {
   "cell_type": "markdown",
   "id": "bdd2c1f4",
   "metadata": {
    "papermill": {
     "duration": 0.052911,
     "end_time": "2022-03-22T02:40:13.231222",
     "exception": false,
     "start_time": "2022-03-22T02:40:13.178311",
     "status": "completed"
    },
    "tags": []
   },
   "source": [
    "How to add Whitespace to strings with Tabs or Newlines"
   ]
  },
  {
   "cell_type": "code",
   "execution_count": 5,
   "id": "a237cbc2",
   "metadata": {
    "execution": {
     "iopub.execute_input": "2022-03-22T02:40:13.319024Z",
     "iopub.status.busy": "2022-03-22T02:40:13.316994Z",
     "iopub.status.idle": "2022-03-22T02:40:13.321239Z",
     "shell.execute_reply": "2022-03-22T02:40:13.321693Z",
     "shell.execute_reply.started": "2022-03-20T22:58:06.029247Z"
    },
    "papermill": {
     "duration": 0.043739,
     "end_time": "2022-03-22T02:40:13.321881",
     "exception": false,
     "start_time": "2022-03-22T02:40:13.278142",
     "status": "completed"
    },
    "tags": []
   },
   "outputs": [
    {
     "name": "stdout",
     "output_type": "stream",
     "text": [
      "Python\n",
      "\tPython\n"
     ]
    }
   ],
   "source": [
    "print(\"Python\")\n",
    "print(\"\\tPython\")"
   ]
  },
  {
   "cell_type": "code",
   "execution_count": 6,
   "id": "b39c193d",
   "metadata": {
    "execution": {
     "iopub.execute_input": "2022-03-22T02:40:13.396292Z",
     "iopub.status.busy": "2022-03-22T02:40:13.395505Z",
     "iopub.status.idle": "2022-03-22T02:40:13.400293Z",
     "shell.execute_reply": "2022-03-22T02:40:13.400914Z",
     "shell.execute_reply.started": "2022-03-20T22:58:49.214036Z"
    },
    "papermill": {
     "duration": 0.044358,
     "end_time": "2022-03-22T02:40:13.401106",
     "exception": false,
     "start_time": "2022-03-22T02:40:13.356748",
     "status": "completed"
    },
    "tags": []
   },
   "outputs": [
    {
     "name": "stdout",
     "output_type": "stream",
     "text": [
      "Languages:\n",
      "Python\n",
      "C\n",
      "Javascript\n"
     ]
    }
   ],
   "source": [
    "print(\"Languages:\\nPython\\nC\\nJavascript\")"
   ]
  },
  {
   "cell_type": "code",
   "execution_count": 7,
   "id": "9fe324a6",
   "metadata": {
    "execution": {
     "iopub.execute_input": "2022-03-22T02:40:13.475834Z",
     "iopub.status.busy": "2022-03-22T02:40:13.475153Z",
     "iopub.status.idle": "2022-03-22T02:40:13.480188Z",
     "shell.execute_reply": "2022-03-22T02:40:13.481038Z",
     "shell.execute_reply.started": "2022-03-20T22:59:42.110725Z"
    },
    "papermill": {
     "duration": 0.044884,
     "end_time": "2022-03-22T02:40:13.481330",
     "exception": false,
     "start_time": "2022-03-22T02:40:13.436446",
     "status": "completed"
    },
    "tags": []
   },
   "outputs": [
    {
     "name": "stdout",
     "output_type": "stream",
     "text": [
      "Languages:\n",
      "\tPython\n",
      "\tC\n",
      "\tJavascript\n"
     ]
    }
   ],
   "source": [
    "print(\"Languages:\\n\\tPython\\n\\tC\\n\\tJavascript\")"
   ]
  },
  {
   "cell_type": "markdown",
   "id": "ed607363",
   "metadata": {
    "papermill": {
     "duration": 0.036162,
     "end_time": "2022-03-22T02:40:13.554097",
     "exception": false,
     "start_time": "2022-03-22T02:40:13.517935",
     "status": "completed"
    },
    "tags": []
   },
   "source": [
    "Removing Whitespace"
   ]
  },
  {
   "cell_type": "code",
   "execution_count": 8,
   "id": "44e54e96",
   "metadata": {
    "execution": {
     "iopub.execute_input": "2022-03-22T02:40:13.634699Z",
     "iopub.status.busy": "2022-03-22T02:40:13.629893Z",
     "iopub.status.idle": "2022-03-22T02:40:13.637889Z",
     "shell.execute_reply": "2022-03-22T02:40:13.638346Z",
     "shell.execute_reply.started": "2022-03-20T23:01:53.78281Z"
    },
    "papermill": {
     "duration": 0.048803,
     "end_time": "2022-03-22T02:40:13.638508",
     "exception": false,
     "start_time": "2022-03-22T02:40:13.589705",
     "status": "completed"
    },
    "tags": []
   },
   "outputs": [
    {
     "data": {
      "text/plain": [
       "'python'"
      ]
     },
     "execution_count": 8,
     "metadata": {},
     "output_type": "execute_result"
    }
   ],
   "source": [
    "favorite_language = \"python \"\n",
    "favorite_language\n",
    "favorite_language.rstrip()\n",
    "# right strip"
   ]
  },
  {
   "cell_type": "code",
   "execution_count": 9,
   "id": "7f3de215",
   "metadata": {
    "execution": {
     "iopub.execute_input": "2022-03-22T02:40:13.725310Z",
     "iopub.status.busy": "2022-03-22T02:40:13.724304Z",
     "iopub.status.idle": "2022-03-22T02:40:13.730351Z",
     "shell.execute_reply": "2022-03-22T02:40:13.731017Z",
     "shell.execute_reply.started": "2022-03-20T23:02:37.05996Z"
    },
    "papermill": {
     "duration": 0.050177,
     "end_time": "2022-03-22T02:40:13.731207",
     "exception": false,
     "start_time": "2022-03-22T02:40:13.681030",
     "status": "completed"
    },
    "tags": []
   },
   "outputs": [
    {
     "data": {
      "text/plain": [
       "'python'"
      ]
     },
     "execution_count": 9,
     "metadata": {},
     "output_type": "execute_result"
    }
   ],
   "source": [
    "favorite_language = \" python \"\n",
    "favorite_language\n",
    "favorite_language.strip()\n",
    "# strip both sides"
   ]
  },
  {
   "cell_type": "markdown",
   "id": "c4386a47",
   "metadata": {
    "papermill": {
     "duration": 0.035683,
     "end_time": "2022-03-22T02:40:13.806442",
     "exception": false,
     "start_time": "2022-03-22T02:40:13.770759",
     "status": "completed"
    },
    "tags": []
   },
   "source": [
    "Integers"
   ]
  },
  {
   "cell_type": "code",
   "execution_count": 10,
   "id": "0ed6fa1d",
   "metadata": {
    "execution": {
     "iopub.execute_input": "2022-03-22T02:40:13.882651Z",
     "iopub.status.busy": "2022-03-22T02:40:13.881630Z",
     "iopub.status.idle": "2022-03-22T02:40:13.887632Z",
     "shell.execute_reply": "2022-03-22T02:40:13.887110Z",
     "shell.execute_reply.started": "2022-03-20T23:05:23.54621Z"
    },
    "papermill": {
     "duration": 0.04537,
     "end_time": "2022-03-22T02:40:13.887774",
     "exception": false,
     "start_time": "2022-03-22T02:40:13.842404",
     "status": "completed"
    },
    "tags": []
   },
   "outputs": [
    {
     "data": {
      "text/plain": [
       "5"
      ]
     },
     "execution_count": 10,
     "metadata": {},
     "output_type": "execute_result"
    }
   ],
   "source": [
    "2+3"
   ]
  },
  {
   "cell_type": "code",
   "execution_count": 11,
   "id": "42920bf5",
   "metadata": {
    "execution": {
     "iopub.execute_input": "2022-03-22T02:40:13.966697Z",
     "iopub.status.busy": "2022-03-22T02:40:13.966076Z",
     "iopub.status.idle": "2022-03-22T02:40:13.968607Z",
     "shell.execute_reply": "2022-03-22T02:40:13.969070Z",
     "shell.execute_reply.started": "2022-03-20T23:05:29.47834Z"
    },
    "papermill": {
     "duration": 0.044852,
     "end_time": "2022-03-22T02:40:13.969244",
     "exception": false,
     "start_time": "2022-03-22T02:40:13.924392",
     "status": "completed"
    },
    "tags": []
   },
   "outputs": [
    {
     "data": {
      "text/plain": [
       "1"
      ]
     },
     "execution_count": 11,
     "metadata": {},
     "output_type": "execute_result"
    }
   ],
   "source": [
    "3 -2"
   ]
  },
  {
   "cell_type": "code",
   "execution_count": 12,
   "id": "e9210c90",
   "metadata": {
    "execution": {
     "iopub.execute_input": "2022-03-22T02:40:14.048656Z",
     "iopub.status.busy": "2022-03-22T02:40:14.048042Z",
     "iopub.status.idle": "2022-03-22T02:40:14.050416Z",
     "shell.execute_reply": "2022-03-22T02:40:14.050866Z",
     "shell.execute_reply.started": "2022-03-20T23:05:34.437171Z"
    },
    "papermill": {
     "duration": 0.0451,
     "end_time": "2022-03-22T02:40:14.051039",
     "exception": false,
     "start_time": "2022-03-22T02:40:14.005939",
     "status": "completed"
    },
    "tags": []
   },
   "outputs": [
    {
     "data": {
      "text/plain": [
       "6"
      ]
     },
     "execution_count": 12,
     "metadata": {},
     "output_type": "execute_result"
    }
   ],
   "source": [
    "2 * 3"
   ]
  },
  {
   "cell_type": "code",
   "execution_count": 13,
   "id": "c398a028",
   "metadata": {
    "execution": {
     "iopub.execute_input": "2022-03-22T02:40:14.132024Z",
     "iopub.status.busy": "2022-03-22T02:40:14.131110Z",
     "iopub.status.idle": "2022-03-22T02:40:14.134924Z",
     "shell.execute_reply": "2022-03-22T02:40:14.134422Z",
     "shell.execute_reply.started": "2022-03-20T23:05:38.513282Z"
    },
    "papermill": {
     "duration": 0.046692,
     "end_time": "2022-03-22T02:40:14.135070",
     "exception": false,
     "start_time": "2022-03-22T02:40:14.088378",
     "status": "completed"
    },
    "tags": []
   },
   "outputs": [
    {
     "data": {
      "text/plain": [
       "1.5"
      ]
     },
     "execution_count": 13,
     "metadata": {},
     "output_type": "execute_result"
    }
   ],
   "source": [
    "3/2"
   ]
  },
  {
   "cell_type": "code",
   "execution_count": 14,
   "id": "2be9122f",
   "metadata": {
    "execution": {
     "iopub.execute_input": "2022-03-22T02:40:14.215755Z",
     "iopub.status.busy": "2022-03-22T02:40:14.214797Z",
     "iopub.status.idle": "2022-03-22T02:40:14.219591Z",
     "shell.execute_reply": "2022-03-22T02:40:14.220023Z",
     "shell.execute_reply.started": "2022-03-20T23:05:47.367053Z"
    },
    "papermill": {
     "duration": 0.047513,
     "end_time": "2022-03-22T02:40:14.220195",
     "exception": false,
     "start_time": "2022-03-22T02:40:14.172682",
     "status": "completed"
    },
    "tags": []
   },
   "outputs": [
    {
     "data": {
      "text/plain": [
       "9"
      ]
     },
     "execution_count": 14,
     "metadata": {},
     "output_type": "execute_result"
    }
   ],
   "source": [
    "3 **2"
   ]
  },
  {
   "cell_type": "code",
   "execution_count": 15,
   "id": "73ac72f4",
   "metadata": {
    "execution": {
     "iopub.execute_input": "2022-03-22T02:40:14.308117Z",
     "iopub.status.busy": "2022-03-22T02:40:14.307285Z",
     "iopub.status.idle": "2022-03-22T02:40:14.310515Z",
     "shell.execute_reply": "2022-03-22T02:40:14.310994Z",
     "shell.execute_reply.started": "2022-03-20T23:06:02.274379Z"
    },
    "papermill": {
     "duration": 0.052549,
     "end_time": "2022-03-22T02:40:14.311163",
     "exception": false,
     "start_time": "2022-03-22T02:40:14.258614",
     "status": "completed"
    },
    "tags": []
   },
   "outputs": [
    {
     "data": {
      "text/plain": [
       "14"
      ]
     },
     "execution_count": 15,
     "metadata": {},
     "output_type": "execute_result"
    }
   ],
   "source": [
    "2 + 3*4"
   ]
  },
  {
   "cell_type": "code",
   "execution_count": 16,
   "id": "96b2d729",
   "metadata": {
    "execution": {
     "iopub.execute_input": "2022-03-22T02:40:14.393475Z",
     "iopub.status.busy": "2022-03-22T02:40:14.392513Z",
     "iopub.status.idle": "2022-03-22T02:40:14.395917Z",
     "shell.execute_reply": "2022-03-22T02:40:14.396393Z",
     "shell.execute_reply.started": "2022-03-20T23:06:20.162287Z"
    },
    "papermill": {
     "duration": 0.047359,
     "end_time": "2022-03-22T02:40:14.396559",
     "exception": false,
     "start_time": "2022-03-22T02:40:14.349200",
     "status": "completed"
    },
    "tags": []
   },
   "outputs": [
    {
     "data": {
      "text/plain": [
       "14"
      ]
     },
     "execution_count": 16,
     "metadata": {},
     "output_type": "execute_result"
    }
   ],
   "source": [
    "(2+3 * 4)"
   ]
  },
  {
   "cell_type": "code",
   "execution_count": 17,
   "id": "073ec004",
   "metadata": {
    "execution": {
     "iopub.execute_input": "2022-03-22T02:40:14.478285Z",
     "iopub.status.busy": "2022-03-22T02:40:14.477311Z",
     "iopub.status.idle": "2022-03-22T02:40:14.482425Z",
     "shell.execute_reply": "2022-03-22T02:40:14.482943Z",
     "shell.execute_reply.started": "2022-03-20T23:06:49.606291Z"
    },
    "papermill": {
     "duration": 0.046589,
     "end_time": "2022-03-22T02:40:14.483110",
     "exception": false,
     "start_time": "2022-03-22T02:40:14.436521",
     "status": "completed"
    },
    "tags": []
   },
   "outputs": [
    {
     "data": {
      "text/plain": [
       "0.2"
      ]
     },
     "execution_count": 17,
     "metadata": {},
     "output_type": "execute_result"
    }
   ],
   "source": [
    "0.1 + 0.1"
   ]
  },
  {
   "cell_type": "code",
   "execution_count": 18,
   "id": "0dafda6c",
   "metadata": {
    "execution": {
     "iopub.execute_input": "2022-03-22T02:40:14.564318Z",
     "iopub.status.busy": "2022-03-22T02:40:14.563290Z",
     "iopub.status.idle": "2022-03-22T02:40:14.568773Z",
     "shell.execute_reply": "2022-03-22T02:40:14.569326Z",
     "shell.execute_reply.started": "2022-03-20T23:06:54.586338Z"
    },
    "papermill": {
     "duration": 0.047463,
     "end_time": "2022-03-22T02:40:14.569503",
     "exception": false,
     "start_time": "2022-03-22T02:40:14.522040",
     "status": "completed"
    },
    "tags": []
   },
   "outputs": [
    {
     "data": {
      "text/plain": [
       "0.4"
      ]
     },
     "execution_count": 18,
     "metadata": {},
     "output_type": "execute_result"
    }
   ],
   "source": [
    "0.2 + 0.2"
   ]
  },
  {
   "cell_type": "code",
   "execution_count": 19,
   "id": "5f617f3b",
   "metadata": {
    "execution": {
     "iopub.execute_input": "2022-03-22T02:40:14.650859Z",
     "iopub.status.busy": "2022-03-22T02:40:14.650268Z",
     "iopub.status.idle": "2022-03-22T02:40:14.654173Z",
     "shell.execute_reply": "2022-03-22T02:40:14.654688Z",
     "shell.execute_reply.started": "2022-03-20T23:07:01.256757Z"
    },
    "papermill": {
     "duration": 0.046856,
     "end_time": "2022-03-22T02:40:14.654868",
     "exception": false,
     "start_time": "2022-03-22T02:40:14.608012",
     "status": "completed"
    },
    "tags": []
   },
   "outputs": [
    {
     "data": {
      "text/plain": [
       "0.2"
      ]
     },
     "execution_count": 19,
     "metadata": {},
     "output_type": "execute_result"
    }
   ],
   "source": [
    "2 * 0.1"
   ]
  },
  {
   "cell_type": "code",
   "execution_count": 20,
   "id": "9f8f75e5",
   "metadata": {
    "execution": {
     "iopub.execute_input": "2022-03-22T02:40:14.756590Z",
     "iopub.status.busy": "2022-03-22T02:40:14.755635Z",
     "iopub.status.idle": "2022-03-22T02:40:14.762013Z",
     "shell.execute_reply": "2022-03-22T02:40:14.762768Z",
     "shell.execute_reply.started": "2022-03-20T23:07:10.196255Z"
    },
    "papermill": {
     "duration": 0.061055,
     "end_time": "2022-03-22T02:40:14.763112",
     "exception": false,
     "start_time": "2022-03-22T02:40:14.702057",
     "status": "completed"
    },
    "tags": []
   },
   "outputs": [
    {
     "data": {
      "text/plain": [
       "0.4"
      ]
     },
     "execution_count": 20,
     "metadata": {},
     "output_type": "execute_result"
    }
   ],
   "source": [
    "2* 0.2"
   ]
  },
  {
   "cell_type": "code",
   "execution_count": 21,
   "id": "1bdd67ca",
   "metadata": {
    "execution": {
     "iopub.execute_input": "2022-03-22T02:40:14.850471Z",
     "iopub.status.busy": "2022-03-22T02:40:14.849765Z",
     "iopub.status.idle": "2022-03-22T02:40:14.854141Z",
     "shell.execute_reply": "2022-03-22T02:40:14.854637Z",
     "shell.execute_reply.started": "2022-03-20T23:07:33.034775Z"
    },
    "papermill": {
     "duration": 0.046831,
     "end_time": "2022-03-22T02:40:14.854803",
     "exception": false,
     "start_time": "2022-03-22T02:40:14.807972",
     "status": "completed"
    },
    "tags": []
   },
   "outputs": [
    {
     "data": {
      "text/plain": [
       "2.0"
      ]
     },
     "execution_count": 21,
     "metadata": {},
     "output_type": "execute_result"
    }
   ],
   "source": [
    "4/ 2"
   ]
  },
  {
   "cell_type": "markdown",
   "id": "d9a4d6b2",
   "metadata": {
    "papermill": {
     "duration": 0.039529,
     "end_time": "2022-03-22T02:40:14.935452",
     "exception": false,
     "start_time": "2022-03-22T02:40:14.895923",
     "status": "completed"
    },
    "tags": []
   },
   "source": [
    "Mulitple Assignments and others"
   ]
  },
  {
   "cell_type": "code",
   "execution_count": 22,
   "id": "7997c565",
   "metadata": {
    "execution": {
     "iopub.execute_input": "2022-03-22T02:40:15.019193Z",
     "iopub.status.busy": "2022-03-22T02:40:15.018180Z",
     "iopub.status.idle": "2022-03-22T02:40:15.023036Z",
     "shell.execute_reply": "2022-03-22T02:40:15.022491Z",
     "shell.execute_reply.started": "2022-03-20T23:08:31.197649Z"
    },
    "papermill": {
     "duration": 0.047828,
     "end_time": "2022-03-22T02:40:15.023183",
     "exception": false,
     "start_time": "2022-03-22T02:40:14.975355",
     "status": "completed"
    },
    "tags": []
   },
   "outputs": [],
   "source": [
    "x,y,z = 0,0,0"
   ]
  },
  {
   "cell_type": "code",
   "execution_count": 23,
   "id": "a50f2c53",
   "metadata": {
    "execution": {
     "iopub.execute_input": "2022-03-22T02:40:15.108073Z",
     "iopub.status.busy": "2022-03-22T02:40:15.107107Z",
     "iopub.status.idle": "2022-03-22T02:40:15.110144Z",
     "shell.execute_reply": "2022-03-22T02:40:15.109599Z",
     "shell.execute_reply.started": "2022-03-20T23:08:53.704601Z"
    },
    "papermill": {
     "duration": 0.047204,
     "end_time": "2022-03-22T02:40:15.110283",
     "exception": false,
     "start_time": "2022-03-22T02:40:15.063079",
     "status": "completed"
    },
    "tags": []
   },
   "outputs": [],
   "source": [
    "MAX_CONNECTIONS = 5000"
   ]
  },
  {
   "cell_type": "code",
   "execution_count": 24,
   "id": "53ed4859",
   "metadata": {
    "execution": {
     "iopub.execute_input": "2022-03-22T02:40:15.217706Z",
     "iopub.status.busy": "2022-03-22T02:40:15.216069Z",
     "iopub.status.idle": "2022-03-22T02:40:15.219636Z",
     "shell.execute_reply": "2022-03-22T02:40:15.220178Z",
     "shell.execute_reply.started": "2022-03-20T23:09:59.637329Z"
    },
    "papermill": {
     "duration": 0.059201,
     "end_time": "2022-03-22T02:40:15.220356",
     "exception": false,
     "start_time": "2022-03-22T02:40:15.161155",
     "status": "completed"
    },
    "tags": []
   },
   "outputs": [],
   "source": [
    "###This is a comment"
   ]
  },
  {
   "cell_type": "code",
   "execution_count": 25,
   "id": "fba3b6c6",
   "metadata": {
    "execution": {
     "iopub.execute_input": "2022-03-22T02:40:15.313128Z",
     "iopub.status.busy": "2022-03-22T02:40:15.312208Z",
     "iopub.status.idle": "2022-03-22T02:40:15.318411Z",
     "shell.execute_reply": "2022-03-22T02:40:15.318933Z",
     "shell.execute_reply.started": "2022-03-20T23:10:03.902779Z"
    },
    "papermill": {
     "duration": 0.051472,
     "end_time": "2022-03-22T02:40:15.319114",
     "exception": false,
     "start_time": "2022-03-22T02:40:15.267642",
     "status": "completed"
    },
    "tags": []
   },
   "outputs": [
    {
     "name": "stdout",
     "output_type": "stream",
     "text": [
      "The Zen of Python, by Tim Peters\n",
      "\n",
      "Beautiful is better than ugly.\n",
      "Explicit is better than implicit.\n",
      "Simple is better than complex.\n",
      "Complex is better than complicated.\n",
      "Flat is better than nested.\n",
      "Sparse is better than dense.\n",
      "Readability counts.\n",
      "Special cases aren't special enough to break the rules.\n",
      "Although practicality beats purity.\n",
      "Errors should never pass silently.\n",
      "Unless explicitly silenced.\n",
      "In the face of ambiguity, refuse the temptation to guess.\n",
      "There should be one-- and preferably only one --obvious way to do it.\n",
      "Although that way may not be obvious at first unless you're Dutch.\n",
      "Now is better than never.\n",
      "Although never is often better than *right* now.\n",
      "If the implementation is hard to explain, it's a bad idea.\n",
      "If the implementation is easy to explain, it may be a good idea.\n",
      "Namespaces are one honking great idea -- let's do more of those!\n"
     ]
    }
   ],
   "source": [
    "import this"
   ]
  },
  {
   "cell_type": "markdown",
   "id": "d44ec89f",
   "metadata": {
    "papermill": {
     "duration": 0.041998,
     "end_time": "2022-03-22T02:40:15.411294",
     "exception": false,
     "start_time": "2022-03-22T02:40:15.369296",
     "status": "completed"
    },
    "tags": []
   },
   "source": [
    "Chapter 3: Lists"
   ]
  },
  {
   "cell_type": "code",
   "execution_count": 26,
   "id": "c7b6dd47",
   "metadata": {
    "execution": {
     "iopub.execute_input": "2022-03-22T02:40:15.520085Z",
     "iopub.status.busy": "2022-03-22T02:40:15.519145Z",
     "iopub.status.idle": "2022-03-22T02:40:15.523910Z",
     "shell.execute_reply": "2022-03-22T02:40:15.524355Z",
     "shell.execute_reply.started": "2022-03-21T02:20:35.078408Z"
    },
    "papermill": {
     "duration": 0.064171,
     "end_time": "2022-03-22T02:40:15.524527",
     "exception": false,
     "start_time": "2022-03-22T02:40:15.460356",
     "status": "completed"
    },
    "tags": []
   },
   "outputs": [
    {
     "name": "stdout",
     "output_type": "stream",
     "text": [
      "['trek', 'cannondale', 'redline', 'specialized']\n",
      "trek\n",
      "Trek\n",
      "cannondale\n",
      "specialized\n",
      "specialized\n"
     ]
    }
   ],
   "source": [
    "bicycles = ['trek','cannondale','redline','specialized']\n",
    "print(bicycles)\n",
    "print(bicycles[0])\n",
    "print(bicycles[0].title())\n",
    "print(bicycles[1])\n",
    "print(bicycles[3])\n",
    "print(bicycles[-1])\n"
   ]
  },
  {
   "cell_type": "code",
   "execution_count": 27,
   "id": "14316f4b",
   "metadata": {
    "execution": {
     "iopub.execute_input": "2022-03-22T02:40:15.610128Z",
     "iopub.status.busy": "2022-03-22T02:40:15.609201Z",
     "iopub.status.idle": "2022-03-22T02:40:15.614297Z",
     "shell.execute_reply": "2022-03-22T02:40:15.614934Z",
     "shell.execute_reply.started": "2022-03-21T02:21:51.192743Z"
    },
    "papermill": {
     "duration": 0.049397,
     "end_time": "2022-03-22T02:40:15.615158",
     "exception": false,
     "start_time": "2022-03-22T02:40:15.565761",
     "status": "completed"
    },
    "tags": []
   },
   "outputs": [
    {
     "name": "stdout",
     "output_type": "stream",
     "text": [
      "My first bicycle was a Trek.\n"
     ]
    }
   ],
   "source": [
    "message = f\"My first bicycle was a {bicycles[0].title()}.\"\n",
    "print(message)"
   ]
  },
  {
   "cell_type": "code",
   "execution_count": 28,
   "id": "85356cc4",
   "metadata": {
    "execution": {
     "iopub.execute_input": "2022-03-22T02:40:15.704329Z",
     "iopub.status.busy": "2022-03-22T02:40:15.703658Z",
     "iopub.status.idle": "2022-03-22T02:40:15.708575Z",
     "shell.execute_reply": "2022-03-22T02:40:15.709148Z",
     "shell.execute_reply.started": "2022-03-21T02:25:16.287671Z"
    },
    "papermill": {
     "duration": 0.050386,
     "end_time": "2022-03-22T02:40:15.709316",
     "exception": false,
     "start_time": "2022-03-22T02:40:15.658930",
     "status": "completed"
    },
    "tags": []
   },
   "outputs": [
    {
     "name": "stdout",
     "output_type": "stream",
     "text": [
      "['honda', 'yamaha', 'suzuki']\n"
     ]
    }
   ],
   "source": [
    "motorcycles = ['honda','yamaha','suzuki']\n",
    "print(motorcycles)\n"
   ]
  },
  {
   "cell_type": "code",
   "execution_count": 29,
   "id": "b7802d8c",
   "metadata": {
    "execution": {
     "iopub.execute_input": "2022-03-22T02:40:15.798547Z",
     "iopub.status.busy": "2022-03-22T02:40:15.797599Z",
     "iopub.status.idle": "2022-03-22T02:40:15.802885Z",
     "shell.execute_reply": "2022-03-22T02:40:15.803311Z",
     "shell.execute_reply.started": "2022-03-21T02:26:08.092314Z"
    },
    "papermill": {
     "duration": 0.051383,
     "end_time": "2022-03-22T02:40:15.803488",
     "exception": false,
     "start_time": "2022-03-22T02:40:15.752105",
     "status": "completed"
    },
    "tags": []
   },
   "outputs": [
    {
     "name": "stdout",
     "output_type": "stream",
     "text": [
      "['ducati', 'yamaha', 'suzuki']\n"
     ]
    }
   ],
   "source": [
    "motorcycles[0] = 'ducati'\n",
    "print(motorcycles)"
   ]
  },
  {
   "cell_type": "code",
   "execution_count": 30,
   "id": "a426d602",
   "metadata": {
    "execution": {
     "iopub.execute_input": "2022-03-22T02:40:15.894207Z",
     "iopub.status.busy": "2022-03-22T02:40:15.893538Z",
     "iopub.status.idle": "2022-03-22T02:40:15.897434Z",
     "shell.execute_reply": "2022-03-22T02:40:15.897973Z",
     "shell.execute_reply.started": "2022-03-21T02:27:07.762868Z"
    },
    "papermill": {
     "duration": 0.0518,
     "end_time": "2022-03-22T02:40:15.898140",
     "exception": false,
     "start_time": "2022-03-22T02:40:15.846340",
     "status": "completed"
    },
    "tags": []
   },
   "outputs": [
    {
     "name": "stdout",
     "output_type": "stream",
     "text": [
      "['honda', 'yamaha', 'suzuki']\n",
      "['honda', 'yamaha', 'suzuki', 'ducati']\n"
     ]
    }
   ],
   "source": [
    "motorcycles = ['honda','yamaha','suzuki']\n",
    "print(motorcycles)\n",
    "motorcycles.append('ducati')\n",
    "print(motorcycles)\n"
   ]
  },
  {
   "cell_type": "code",
   "execution_count": 31,
   "id": "a07bd519",
   "metadata": {
    "execution": {
     "iopub.execute_input": "2022-03-22T02:40:15.986467Z",
     "iopub.status.busy": "2022-03-22T02:40:15.985865Z",
     "iopub.status.idle": "2022-03-22T02:40:15.990965Z",
     "shell.execute_reply": "2022-03-22T02:40:15.991717Z",
     "shell.execute_reply.started": "2022-03-21T02:28:13.574436Z"
    },
    "papermill": {
     "duration": 0.051217,
     "end_time": "2022-03-22T02:40:15.992006",
     "exception": false,
     "start_time": "2022-03-22T02:40:15.940789",
     "status": "completed"
    },
    "tags": []
   },
   "outputs": [
    {
     "name": "stdout",
     "output_type": "stream",
     "text": [
      "['ducati', 'honda', 'yamaha', 'suzuki']\n"
     ]
    }
   ],
   "source": [
    "motorcycles = ['honda','yamaha','suzuki']\n",
    "motorcycles.insert(0,'ducati')\n",
    "print(motorcycles)"
   ]
  },
  {
   "cell_type": "code",
   "execution_count": 32,
   "id": "bece16f5",
   "metadata": {
    "execution": {
     "iopub.execute_input": "2022-03-22T02:40:16.081704Z",
     "iopub.status.busy": "2022-03-22T02:40:16.081127Z",
     "iopub.status.idle": "2022-03-22T02:40:16.087630Z",
     "shell.execute_reply": "2022-03-22T02:40:16.086778Z",
     "shell.execute_reply.started": "2022-03-21T02:29:13.669717Z"
    },
    "papermill": {
     "duration": 0.051978,
     "end_time": "2022-03-22T02:40:16.087882",
     "exception": false,
     "start_time": "2022-03-22T02:40:16.035904",
     "status": "completed"
    },
    "tags": []
   },
   "outputs": [
    {
     "name": "stdout",
     "output_type": "stream",
     "text": [
      "['honda', 'yamaha', 'suzuki']\n",
      "['yamaha', 'suzuki']\n"
     ]
    }
   ],
   "source": [
    "motorcycles = ['honda','yamaha','suzuki']\n",
    "print(motorcycles)\n",
    "del motorcycles[0]\n",
    "print(motorcycles)"
   ]
  },
  {
   "cell_type": "code",
   "execution_count": 33,
   "id": "038e801e",
   "metadata": {
    "execution": {
     "iopub.execute_input": "2022-03-22T02:40:16.179584Z",
     "iopub.status.busy": "2022-03-22T02:40:16.178964Z",
     "iopub.status.idle": "2022-03-22T02:40:16.184763Z",
     "shell.execute_reply": "2022-03-22T02:40:16.184176Z",
     "shell.execute_reply.started": "2022-03-21T02:32:01.365505Z"
    },
    "papermill": {
     "duration": 0.051021,
     "end_time": "2022-03-22T02:40:16.185032",
     "exception": false,
     "start_time": "2022-03-22T02:40:16.134011",
     "status": "completed"
    },
    "tags": []
   },
   "outputs": [
    {
     "name": "stdout",
     "output_type": "stream",
     "text": [
      "['honda', 'yamaha', 'suzuki']\n",
      "['honda', 'suzuki']\n",
      "yamaha\n"
     ]
    }
   ],
   "source": [
    "motorcycles = ['honda','yamaha','suzuki']\n",
    "print(motorcycles)\n",
    "popped_motorcycle = motorcycles.pop(1)\n",
    "print(motorcycles)\n",
    "print(popped_motorcycle)"
   ]
  },
  {
   "cell_type": "code",
   "execution_count": 34,
   "id": "04d80713",
   "metadata": {
    "execution": {
     "iopub.execute_input": "2022-03-22T02:40:16.278216Z",
     "iopub.status.busy": "2022-03-22T02:40:16.277478Z",
     "iopub.status.idle": "2022-03-22T02:40:16.280121Z",
     "shell.execute_reply": "2022-03-22T02:40:16.280723Z",
     "shell.execute_reply.started": "2022-03-21T02:33:50.250707Z"
    },
    "papermill": {
     "duration": 0.052134,
     "end_time": "2022-03-22T02:40:16.281020",
     "exception": false,
     "start_time": "2022-03-22T02:40:16.228886",
     "status": "completed"
    },
    "tags": []
   },
   "outputs": [
    {
     "name": "stdout",
     "output_type": "stream",
     "text": [
      "['honda', 'yamaha', 'suzuki', 'ducati']\n",
      "['honda', 'yamaha', 'suzuki']\n"
     ]
    }
   ],
   "source": [
    "motorcycles = ['honda','yamaha','suzuki','ducati']\n",
    "print(motorcycles)\n",
    "motorcycles.remove('ducati')\n",
    "print(motorcycles)"
   ]
  },
  {
   "cell_type": "markdown",
   "id": "5bb5df79",
   "metadata": {
    "papermill": {
     "duration": 0.042708,
     "end_time": "2022-03-22T02:40:16.367647",
     "exception": false,
     "start_time": "2022-03-22T02:40:16.324939",
     "status": "completed"
    },
    "tags": []
   },
   "source": [
    "**Organizing a List**"
   ]
  },
  {
   "cell_type": "code",
   "execution_count": 35,
   "id": "4b9f7f36",
   "metadata": {
    "execution": {
     "iopub.execute_input": "2022-03-22T02:40:16.459268Z",
     "iopub.status.busy": "2022-03-22T02:40:16.458602Z",
     "iopub.status.idle": "2022-03-22T02:40:16.464879Z",
     "shell.execute_reply": "2022-03-22T02:40:16.464229Z",
     "shell.execute_reply.started": "2022-03-21T02:37:07.935487Z"
    },
    "papermill": {
     "duration": 0.052538,
     "end_time": "2022-03-22T02:40:16.465025",
     "exception": false,
     "start_time": "2022-03-22T02:40:16.412487",
     "status": "completed"
    },
    "tags": []
   },
   "outputs": [
    {
     "name": "stdout",
     "output_type": "stream",
     "text": [
      "['audi', 'bmw', 'subaru', 'toyota']\n",
      "['toyota', 'subaru', 'bmw', 'audi']\n"
     ]
    }
   ],
   "source": [
    "cars = ['bmw','audi','toyota','subaru']\n",
    "cars.sort()\n",
    "print(cars)\n",
    "cars.sort(reverse=True)\n",
    "print(cars)\n"
   ]
  },
  {
   "cell_type": "code",
   "execution_count": 36,
   "id": "89f9c6a9",
   "metadata": {
    "execution": {
     "iopub.execute_input": "2022-03-22T02:40:16.555388Z",
     "iopub.status.busy": "2022-03-22T02:40:16.554737Z",
     "iopub.status.idle": "2022-03-22T02:40:16.560344Z",
     "shell.execute_reply": "2022-03-22T02:40:16.559844Z",
     "shell.execute_reply.started": "2022-03-21T02:38:07.446176Z"
    },
    "papermill": {
     "duration": 0.051714,
     "end_time": "2022-03-22T02:40:16.560480",
     "exception": false,
     "start_time": "2022-03-22T02:40:16.508766",
     "status": "completed"
    },
    "tags": []
   },
   "outputs": [
    {
     "name": "stdout",
     "output_type": "stream",
     "text": [
      "['bmw', 'audi', 'toyota', 'subaru']\n",
      "['audi', 'bmw', 'subaru', 'toyota']\n",
      "['bmw', 'audi', 'toyota', 'subaru']\n"
     ]
    }
   ],
   "source": [
    "cars = ['bmw','audi','toyota','subaru']\n",
    "print(cars)\n",
    "print(sorted(cars))\n",
    "print(cars)"
   ]
  },
  {
   "cell_type": "code",
   "execution_count": 37,
   "id": "7dbe9e28",
   "metadata": {
    "execution": {
     "iopub.execute_input": "2022-03-22T02:40:16.653662Z",
     "iopub.status.busy": "2022-03-22T02:40:16.653047Z",
     "iopub.status.idle": "2022-03-22T02:40:16.656437Z",
     "shell.execute_reply": "2022-03-22T02:40:16.655976Z",
     "shell.execute_reply.started": "2022-03-21T02:40:44.985121Z"
    },
    "papermill": {
     "duration": 0.052282,
     "end_time": "2022-03-22T02:40:16.656568",
     "exception": false,
     "start_time": "2022-03-22T02:40:16.604286",
     "status": "completed"
    },
    "tags": []
   },
   "outputs": [
    {
     "name": "stdout",
     "output_type": "stream",
     "text": [
      "['subaru', 'toyota', 'audi', 'bmw']\n"
     ]
    }
   ],
   "source": [
    "cars = ['bmw','audi','toyota','subaru']\n",
    "cars.reverse()\n",
    "print(cars)"
   ]
  },
  {
   "cell_type": "code",
   "execution_count": 38,
   "id": "b039e6e6",
   "metadata": {
    "execution": {
     "iopub.execute_input": "2022-03-22T02:40:16.747823Z",
     "iopub.status.busy": "2022-03-22T02:40:16.747188Z",
     "iopub.status.idle": "2022-03-22T02:40:16.751481Z",
     "shell.execute_reply": "2022-03-22T02:40:16.751910Z",
     "shell.execute_reply.started": "2022-03-21T02:43:48.308575Z"
    },
    "papermill": {
     "duration": 0.051697,
     "end_time": "2022-03-22T02:40:16.752091",
     "exception": false,
     "start_time": "2022-03-22T02:40:16.700394",
     "status": "completed"
    },
    "tags": []
   },
   "outputs": [
    {
     "data": {
      "text/plain": [
       "4"
      ]
     },
     "execution_count": 38,
     "metadata": {},
     "output_type": "execute_result"
    }
   ],
   "source": [
    "cars = ['bmw','audi','toyota','subaru']\n",
    "len(cars)"
   ]
  },
  {
   "cell_type": "code",
   "execution_count": 39,
   "id": "a48099a2",
   "metadata": {
    "execution": {
     "iopub.execute_input": "2022-03-22T02:40:16.844094Z",
     "iopub.status.busy": "2022-03-22T02:40:16.843480Z",
     "iopub.status.idle": "2022-03-22T02:40:16.846551Z",
     "shell.execute_reply": "2022-03-22T02:40:16.846997Z"
    },
    "papermill": {
     "duration": 0.050838,
     "end_time": "2022-03-22T02:40:16.847170",
     "exception": false,
     "start_time": "2022-03-22T02:40:16.796332",
     "status": "completed"
    },
    "tags": []
   },
   "outputs": [],
   "source": [
    "motorcycles = ['honda']"
   ]
  },
  {
   "cell_type": "markdown",
   "id": "3bd181ba",
   "metadata": {
    "papermill": {
     "duration": 0.044345,
     "end_time": "2022-03-22T02:40:16.937224",
     "exception": false,
     "start_time": "2022-03-22T02:40:16.892879",
     "status": "completed"
    },
    "tags": []
   },
   "source": [
    "Working with lists"
   ]
  },
  {
   "cell_type": "code",
   "execution_count": 40,
   "id": "8730db1e",
   "metadata": {
    "execution": {
     "iopub.execute_input": "2022-03-22T02:40:17.030160Z",
     "iopub.status.busy": "2022-03-22T02:40:17.029510Z",
     "iopub.status.idle": "2022-03-22T02:40:17.034572Z",
     "shell.execute_reply": "2022-03-22T02:40:17.035177Z",
     "shell.execute_reply.started": "2022-03-22T02:38:32.036312Z"
    },
    "papermill": {
     "duration": 0.053639,
     "end_time": "2022-03-22T02:40:17.035356",
     "exception": false,
     "start_time": "2022-03-22T02:40:16.981717",
     "status": "completed"
    },
    "tags": []
   },
   "outputs": [
    {
     "name": "stdout",
     "output_type": "stream",
     "text": [
      "alice\n",
      "david\n",
      "carolina\n"
     ]
    }
   ],
   "source": [
    "magicians = ['alice','david','carolina']\n",
    "for magician in magicians:\n",
    "    print(magician)"
   ]
  },
  {
   "cell_type": "code",
   "execution_count": null,
   "id": "66b4b567",
   "metadata": {
    "papermill": {
     "duration": 0.044115,
     "end_time": "2022-03-22T02:40:17.126187",
     "exception": false,
     "start_time": "2022-03-22T02:40:17.082072",
     "status": "completed"
    },
    "tags": []
   },
   "outputs": [],
   "source": []
  }
 ],
 "metadata": {
  "kernelspec": {
   "display_name": "Python 3",
   "language": "python",
   "name": "python3"
  },
  "language_info": {
   "codemirror_mode": {
    "name": "ipython",
    "version": 3
   },
   "file_extension": ".py",
   "mimetype": "text/x-python",
   "name": "python",
   "nbconvert_exporter": "python",
   "pygments_lexer": "ipython3",
   "version": "3.7.12"
  },
  "papermill": {
   "default_parameters": {},
   "duration": 13.676506,
   "end_time": "2022-03-22T02:40:17.781195",
   "environment_variables": {},
   "exception": null,
   "input_path": "__notebook__.ipynb",
   "output_path": "__notebook__.ipynb",
   "parameters": {},
   "start_time": "2022-03-22T02:40:04.104689",
   "version": "2.3.3"
  }
 },
 "nbformat": 4,
 "nbformat_minor": 5
}
