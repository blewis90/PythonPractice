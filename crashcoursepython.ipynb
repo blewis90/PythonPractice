{
 "cells": [
  {
   "cell_type": "markdown",
   "id": "1238f2a6",
   "metadata": {
    "papermill": {
     "duration": 0.036087,
     "end_time": "2022-03-21T02:25:47.314815",
     "exception": false,
     "start_time": "2022-03-21T02:25:47.278728",
     "status": "completed"
    },
    "tags": []
   },
   "source": [
    "Simple Hello Message/ Getting started"
   ]
  },
  {
   "cell_type": "code",
   "execution_count": 1,
   "id": "7ad3e40c",
   "metadata": {
    "execution": {
     "iopub.execute_input": "2022-03-21T02:25:47.395964Z",
     "iopub.status.busy": "2022-03-21T02:25:47.394109Z",
     "iopub.status.idle": "2022-03-21T02:25:47.408561Z",
     "shell.execute_reply": "2022-03-21T02:25:47.407841Z",
     "shell.execute_reply.started": "2022-03-20T22:42:54.585765Z"
    },
    "papermill": {
     "duration": 0.05914,
     "end_time": "2022-03-21T02:25:47.408745",
     "exception": false,
     "start_time": "2022-03-21T02:25:47.349605",
     "status": "completed"
    },
    "tags": []
   },
   "outputs": [
    {
     "name": "stdout",
     "output_type": "stream",
     "text": [
      "Hello Python interpreter\n",
      "Hello Python World!\n",
      "Hello Python Crash Course world!\n"
     ]
    }
   ],
   "source": [
    "\n",
    "print(\"Hello Python interpreter\")\n",
    "message = \"Hello Python World!\"\n",
    "print(message)\n",
    "message = \"Hello Python Crash Course world!\"\n",
    "print(message)"
   ]
  },
  {
   "cell_type": "markdown",
   "id": "a4424315",
   "metadata": {
    "papermill": {
     "duration": 0.039505,
     "end_time": "2022-03-21T02:25:47.493139",
     "exception": false,
     "start_time": "2022-03-21T02:25:47.453634",
     "status": "completed"
    },
    "tags": []
   },
   "source": [
    "Basic string commands"
   ]
  },
  {
   "cell_type": "code",
   "execution_count": 2,
   "id": "4c241f1e",
   "metadata": {
    "execution": {
     "iopub.execute_input": "2022-03-21T02:25:47.567226Z",
     "iopub.status.busy": "2022-03-21T02:25:47.566542Z",
     "iopub.status.idle": "2022-03-21T02:25:47.571912Z",
     "shell.execute_reply": "2022-03-21T02:25:47.571031Z",
     "shell.execute_reply.started": "2022-03-20T22:53:36.559707Z"
    },
    "papermill": {
     "duration": 0.044913,
     "end_time": "2022-03-21T02:25:47.572113",
     "exception": false,
     "start_time": "2022-03-21T02:25:47.527200",
     "status": "completed"
    },
    "tags": []
   },
   "outputs": [
    {
     "name": "stdout",
     "output_type": "stream",
     "text": [
      "Ada Lovelace\n",
      "ADA LOVELACE\n",
      "ada lovelace\n"
     ]
    }
   ],
   "source": [
    "name = \"ada lovelace\"\n",
    "print(name.title())\n",
    "print(name.upper())\n",
    "print(name.lower())"
   ]
  },
  {
   "cell_type": "markdown",
   "id": "8f60a486",
   "metadata": {
    "papermill": {
     "duration": 0.03548,
     "end_time": "2022-03-21T02:25:47.643573",
     "exception": false,
     "start_time": "2022-03-21T02:25:47.608093",
     "status": "completed"
    },
    "tags": []
   },
   "source": [
    "F-String - Way to concatenate multiple variables"
   ]
  },
  {
   "cell_type": "code",
   "execution_count": 3,
   "id": "016356af",
   "metadata": {
    "execution": {
     "iopub.execute_input": "2022-03-21T02:25:47.717972Z",
     "iopub.status.busy": "2022-03-21T02:25:47.717318Z",
     "iopub.status.idle": "2022-03-21T02:25:47.721846Z",
     "shell.execute_reply": "2022-03-21T02:25:47.722508Z",
     "shell.execute_reply.started": "2022-03-20T22:55:23.691337Z"
    },
    "papermill": {
     "duration": 0.044652,
     "end_time": "2022-03-21T02:25:47.722734",
     "exception": false,
     "start_time": "2022-03-21T02:25:47.678082",
     "status": "completed"
    },
    "tags": []
   },
   "outputs": [
    {
     "name": "stdout",
     "output_type": "stream",
     "text": [
      "ada lovelace\n",
      "Hello, Ada Lovelace!\n"
     ]
    }
   ],
   "source": [
    "first_name = \"ada\"\n",
    "last_name = \"lovelace\"\n",
    "full_name = f\"{first_name} {last_name}\"\n",
    "print(full_name)\n",
    "print(f\"Hello, {full_name.title()}!\")"
   ]
  },
  {
   "cell_type": "code",
   "execution_count": 4,
   "id": "722831a2",
   "metadata": {
    "execution": {
     "iopub.execute_input": "2022-03-21T02:25:47.800362Z",
     "iopub.status.busy": "2022-03-21T02:25:47.796971Z",
     "iopub.status.idle": "2022-03-21T02:25:47.803444Z",
     "shell.execute_reply": "2022-03-21T02:25:47.804205Z",
     "shell.execute_reply.started": "2022-03-20T22:56:20.978913Z"
    },
    "papermill": {
     "duration": 0.045122,
     "end_time": "2022-03-21T02:25:47.804439",
     "exception": false,
     "start_time": "2022-03-21T02:25:47.759317",
     "status": "completed"
    },
    "tags": []
   },
   "outputs": [
    {
     "name": "stdout",
     "output_type": "stream",
     "text": [
      "ada lovelace\n",
      "Hello, Ada Lovelace!\n"
     ]
    }
   ],
   "source": [
    "first_name = \"ada\"\n",
    "last_name = \"lovelace\"\n",
    "full_name = f\"{first_name} {last_name}\"\n",
    "print(full_name)\n",
    "message = f\"Hello, {full_name.title()}!\"\n",
    "print(message)"
   ]
  },
  {
   "cell_type": "markdown",
   "id": "e160a4d1",
   "metadata": {
    "papermill": {
     "duration": 0.035161,
     "end_time": "2022-03-21T02:25:47.875683",
     "exception": false,
     "start_time": "2022-03-21T02:25:47.840522",
     "status": "completed"
    },
    "tags": []
   },
   "source": [
    "How to add Whitespace to strings with Tabs or Newlines"
   ]
  },
  {
   "cell_type": "code",
   "execution_count": 5,
   "id": "61828d1f",
   "metadata": {
    "execution": {
     "iopub.execute_input": "2022-03-21T02:25:47.950830Z",
     "iopub.status.busy": "2022-03-21T02:25:47.950134Z",
     "iopub.status.idle": "2022-03-21T02:25:47.954723Z",
     "shell.execute_reply": "2022-03-21T02:25:47.955247Z",
     "shell.execute_reply.started": "2022-03-20T22:58:06.029247Z"
    },
    "papermill": {
     "duration": 0.044664,
     "end_time": "2022-03-21T02:25:47.955424",
     "exception": false,
     "start_time": "2022-03-21T02:25:47.910760",
     "status": "completed"
    },
    "tags": []
   },
   "outputs": [
    {
     "name": "stdout",
     "output_type": "stream",
     "text": [
      "Python\n",
      "\tPython\n"
     ]
    }
   ],
   "source": [
    "print(\"Python\")\n",
    "print(\"\\tPython\")"
   ]
  },
  {
   "cell_type": "code",
   "execution_count": 6,
   "id": "06f83483",
   "metadata": {
    "execution": {
     "iopub.execute_input": "2022-03-21T02:25:48.033036Z",
     "iopub.status.busy": "2022-03-21T02:25:48.032019Z",
     "iopub.status.idle": "2022-03-21T02:25:48.036158Z",
     "shell.execute_reply": "2022-03-21T02:25:48.036687Z",
     "shell.execute_reply.started": "2022-03-20T22:58:49.214036Z"
    },
    "papermill": {
     "duration": 0.046007,
     "end_time": "2022-03-21T02:25:48.036867",
     "exception": false,
     "start_time": "2022-03-21T02:25:47.990860",
     "status": "completed"
    },
    "tags": []
   },
   "outputs": [
    {
     "name": "stdout",
     "output_type": "stream",
     "text": [
      "Languages:\n",
      "Python\n",
      "C\n",
      "Javascript\n"
     ]
    }
   ],
   "source": [
    "print(\"Languages:\\nPython\\nC\\nJavascript\")"
   ]
  },
  {
   "cell_type": "code",
   "execution_count": 7,
   "id": "93c5dae0",
   "metadata": {
    "execution": {
     "iopub.execute_input": "2022-03-21T02:25:48.114058Z",
     "iopub.status.busy": "2022-03-21T02:25:48.112402Z",
     "iopub.status.idle": "2022-03-21T02:25:48.118274Z",
     "shell.execute_reply": "2022-03-21T02:25:48.117716Z",
     "shell.execute_reply.started": "2022-03-20T22:59:42.110725Z"
    },
    "papermill": {
     "duration": 0.045311,
     "end_time": "2022-03-21T02:25:48.118418",
     "exception": false,
     "start_time": "2022-03-21T02:25:48.073107",
     "status": "completed"
    },
    "tags": []
   },
   "outputs": [
    {
     "name": "stdout",
     "output_type": "stream",
     "text": [
      "Languages:\n",
      "\tPython\n",
      "\tC\n",
      "\tJavascript\n"
     ]
    }
   ],
   "source": [
    "print(\"Languages:\\n\\tPython\\n\\tC\\n\\tJavascript\")"
   ]
  },
  {
   "cell_type": "markdown",
   "id": "ea9b3513",
   "metadata": {
    "papermill": {
     "duration": 0.03713,
     "end_time": "2022-03-21T02:25:48.192534",
     "exception": false,
     "start_time": "2022-03-21T02:25:48.155404",
     "status": "completed"
    },
    "tags": []
   },
   "source": [
    "Removing Whitespace"
   ]
  },
  {
   "cell_type": "code",
   "execution_count": 8,
   "id": "d1041a74",
   "metadata": {
    "execution": {
     "iopub.execute_input": "2022-03-21T02:25:48.269345Z",
     "iopub.status.busy": "2022-03-21T02:25:48.268688Z",
     "iopub.status.idle": "2022-03-21T02:25:48.276383Z",
     "shell.execute_reply": "2022-03-21T02:25:48.276916Z",
     "shell.execute_reply.started": "2022-03-20T23:01:53.78281Z"
    },
    "papermill": {
     "duration": 0.048013,
     "end_time": "2022-03-21T02:25:48.277104",
     "exception": false,
     "start_time": "2022-03-21T02:25:48.229091",
     "status": "completed"
    },
    "tags": []
   },
   "outputs": [
    {
     "data": {
      "text/plain": [
       "'python'"
      ]
     },
     "execution_count": 8,
     "metadata": {},
     "output_type": "execute_result"
    }
   ],
   "source": [
    "favorite_language = \"python \"\n",
    "favorite_language\n",
    "favorite_language.rstrip()\n",
    "# right strip"
   ]
  },
  {
   "cell_type": "code",
   "execution_count": 9,
   "id": "4162ac7c",
   "metadata": {
    "execution": {
     "iopub.execute_input": "2022-03-21T02:25:48.354438Z",
     "iopub.status.busy": "2022-03-21T02:25:48.353816Z",
     "iopub.status.idle": "2022-03-21T02:25:48.358813Z",
     "shell.execute_reply": "2022-03-21T02:25:48.359353Z",
     "shell.execute_reply.started": "2022-03-20T23:02:37.05996Z"
    },
    "papermill": {
     "duration": 0.045588,
     "end_time": "2022-03-21T02:25:48.359609",
     "exception": false,
     "start_time": "2022-03-21T02:25:48.314021",
     "status": "completed"
    },
    "tags": []
   },
   "outputs": [
    {
     "data": {
      "text/plain": [
       "'python'"
      ]
     },
     "execution_count": 9,
     "metadata": {},
     "output_type": "execute_result"
    }
   ],
   "source": [
    "favorite_language = \" python \"\n",
    "favorite_language\n",
    "favorite_language.strip()\n",
    "# strip both sides"
   ]
  },
  {
   "cell_type": "markdown",
   "id": "aa859ca9",
   "metadata": {
    "papermill": {
     "duration": 0.038051,
     "end_time": "2022-03-21T02:25:48.434891",
     "exception": false,
     "start_time": "2022-03-21T02:25:48.396840",
     "status": "completed"
    },
    "tags": []
   },
   "source": [
    "Integers"
   ]
  },
  {
   "cell_type": "code",
   "execution_count": 10,
   "id": "d4bf753c",
   "metadata": {
    "execution": {
     "iopub.execute_input": "2022-03-21T02:25:48.513989Z",
     "iopub.status.busy": "2022-03-21T02:25:48.513330Z",
     "iopub.status.idle": "2022-03-21T02:25:48.518013Z",
     "shell.execute_reply": "2022-03-21T02:25:48.518592Z",
     "shell.execute_reply.started": "2022-03-20T23:05:23.54621Z"
    },
    "papermill": {
     "duration": 0.045867,
     "end_time": "2022-03-21T02:25:48.518797",
     "exception": false,
     "start_time": "2022-03-21T02:25:48.472930",
     "status": "completed"
    },
    "tags": []
   },
   "outputs": [
    {
     "data": {
      "text/plain": [
       "5"
      ]
     },
     "execution_count": 10,
     "metadata": {},
     "output_type": "execute_result"
    }
   ],
   "source": [
    "2+3"
   ]
  },
  {
   "cell_type": "code",
   "execution_count": 11,
   "id": "0a092c90",
   "metadata": {
    "execution": {
     "iopub.execute_input": "2022-03-21T02:25:48.596956Z",
     "iopub.status.busy": "2022-03-21T02:25:48.596280Z",
     "iopub.status.idle": "2022-03-21T02:25:48.602118Z",
     "shell.execute_reply": "2022-03-21T02:25:48.601357Z",
     "shell.execute_reply.started": "2022-03-20T23:05:29.47834Z"
    },
    "papermill": {
     "duration": 0.046141,
     "end_time": "2022-03-21T02:25:48.602278",
     "exception": false,
     "start_time": "2022-03-21T02:25:48.556137",
     "status": "completed"
    },
    "tags": []
   },
   "outputs": [
    {
     "data": {
      "text/plain": [
       "1"
      ]
     },
     "execution_count": 11,
     "metadata": {},
     "output_type": "execute_result"
    }
   ],
   "source": [
    "3 -2"
   ]
  },
  {
   "cell_type": "code",
   "execution_count": 12,
   "id": "aff471f9",
   "metadata": {
    "execution": {
     "iopub.execute_input": "2022-03-21T02:25:48.684807Z",
     "iopub.status.busy": "2022-03-21T02:25:48.683818Z",
     "iopub.status.idle": "2022-03-21T02:25:48.687317Z",
     "shell.execute_reply": "2022-03-21T02:25:48.687871Z",
     "shell.execute_reply.started": "2022-03-20T23:05:34.437171Z"
    },
    "papermill": {
     "duration": 0.047238,
     "end_time": "2022-03-21T02:25:48.688041",
     "exception": false,
     "start_time": "2022-03-21T02:25:48.640803",
     "status": "completed"
    },
    "tags": []
   },
   "outputs": [
    {
     "data": {
      "text/plain": [
       "6"
      ]
     },
     "execution_count": 12,
     "metadata": {},
     "output_type": "execute_result"
    }
   ],
   "source": [
    "2 * 3"
   ]
  },
  {
   "cell_type": "code",
   "execution_count": 13,
   "id": "1eaba621",
   "metadata": {
    "execution": {
     "iopub.execute_input": "2022-03-21T02:25:48.769039Z",
     "iopub.status.busy": "2022-03-21T02:25:48.767989Z",
     "iopub.status.idle": "2022-03-21T02:25:48.773523Z",
     "shell.execute_reply": "2022-03-21T02:25:48.774050Z",
     "shell.execute_reply.started": "2022-03-20T23:05:38.513282Z"
    },
    "papermill": {
     "duration": 0.047626,
     "end_time": "2022-03-21T02:25:48.774232",
     "exception": false,
     "start_time": "2022-03-21T02:25:48.726606",
     "status": "completed"
    },
    "tags": []
   },
   "outputs": [
    {
     "data": {
      "text/plain": [
       "1.5"
      ]
     },
     "execution_count": 13,
     "metadata": {},
     "output_type": "execute_result"
    }
   ],
   "source": [
    "3/2"
   ]
  },
  {
   "cell_type": "code",
   "execution_count": 14,
   "id": "4a14ebda",
   "metadata": {
    "execution": {
     "iopub.execute_input": "2022-03-21T02:25:48.857737Z",
     "iopub.status.busy": "2022-03-21T02:25:48.856876Z",
     "iopub.status.idle": "2022-03-21T02:25:48.860235Z",
     "shell.execute_reply": "2022-03-21T02:25:48.860733Z",
     "shell.execute_reply.started": "2022-03-20T23:05:47.367053Z"
    },
    "papermill": {
     "duration": 0.048045,
     "end_time": "2022-03-21T02:25:48.860903",
     "exception": false,
     "start_time": "2022-03-21T02:25:48.812858",
     "status": "completed"
    },
    "tags": []
   },
   "outputs": [
    {
     "data": {
      "text/plain": [
       "9"
      ]
     },
     "execution_count": 14,
     "metadata": {},
     "output_type": "execute_result"
    }
   ],
   "source": [
    "3 **2"
   ]
  },
  {
   "cell_type": "code",
   "execution_count": 15,
   "id": "66ba177e",
   "metadata": {
    "execution": {
     "iopub.execute_input": "2022-03-21T02:25:48.942574Z",
     "iopub.status.busy": "2022-03-21T02:25:48.941563Z",
     "iopub.status.idle": "2022-03-21T02:25:48.947089Z",
     "shell.execute_reply": "2022-03-21T02:25:48.947658Z",
     "shell.execute_reply.started": "2022-03-20T23:06:02.274379Z"
    },
    "papermill": {
     "duration": 0.048026,
     "end_time": "2022-03-21T02:25:48.947828",
     "exception": false,
     "start_time": "2022-03-21T02:25:48.899802",
     "status": "completed"
    },
    "tags": []
   },
   "outputs": [
    {
     "data": {
      "text/plain": [
       "14"
      ]
     },
     "execution_count": 15,
     "metadata": {},
     "output_type": "execute_result"
    }
   ],
   "source": [
    "2 + 3*4"
   ]
  },
  {
   "cell_type": "code",
   "execution_count": 16,
   "id": "177b66e0",
   "metadata": {
    "execution": {
     "iopub.execute_input": "2022-03-21T02:25:49.031073Z",
     "iopub.status.busy": "2022-03-21T02:25:49.029975Z",
     "iopub.status.idle": "2022-03-21T02:25:49.035686Z",
     "shell.execute_reply": "2022-03-21T02:25:49.036236Z",
     "shell.execute_reply.started": "2022-03-20T23:06:20.162287Z"
    },
    "papermill": {
     "duration": 0.049049,
     "end_time": "2022-03-21T02:25:49.036403",
     "exception": false,
     "start_time": "2022-03-21T02:25:48.987354",
     "status": "completed"
    },
    "tags": []
   },
   "outputs": [
    {
     "data": {
      "text/plain": [
       "14"
      ]
     },
     "execution_count": 16,
     "metadata": {},
     "output_type": "execute_result"
    }
   ],
   "source": [
    "(2+3 * 4)"
   ]
  },
  {
   "cell_type": "code",
   "execution_count": 17,
   "id": "fe956a1a",
   "metadata": {
    "execution": {
     "iopub.execute_input": "2022-03-21T02:25:49.123132Z",
     "iopub.status.busy": "2022-03-21T02:25:49.122057Z",
     "iopub.status.idle": "2022-03-21T02:25:49.127783Z",
     "shell.execute_reply": "2022-03-21T02:25:49.128421Z",
     "shell.execute_reply.started": "2022-03-20T23:06:49.606291Z"
    },
    "papermill": {
     "duration": 0.051087,
     "end_time": "2022-03-21T02:25:49.128617",
     "exception": false,
     "start_time": "2022-03-21T02:25:49.077530",
     "status": "completed"
    },
    "tags": []
   },
   "outputs": [
    {
     "data": {
      "text/plain": [
       "0.2"
      ]
     },
     "execution_count": 17,
     "metadata": {},
     "output_type": "execute_result"
    }
   ],
   "source": [
    "0.1 + 0.1"
   ]
  },
  {
   "cell_type": "code",
   "execution_count": 18,
   "id": "80888bc2",
   "metadata": {
    "execution": {
     "iopub.execute_input": "2022-03-21T02:25:49.214058Z",
     "iopub.status.busy": "2022-03-21T02:25:49.213038Z",
     "iopub.status.idle": "2022-03-21T02:25:49.218691Z",
     "shell.execute_reply": "2022-03-21T02:25:49.219202Z",
     "shell.execute_reply.started": "2022-03-20T23:06:54.586338Z"
    },
    "papermill": {
     "duration": 0.049682,
     "end_time": "2022-03-21T02:25:49.219374",
     "exception": false,
     "start_time": "2022-03-21T02:25:49.169692",
     "status": "completed"
    },
    "tags": []
   },
   "outputs": [
    {
     "data": {
      "text/plain": [
       "0.4"
      ]
     },
     "execution_count": 18,
     "metadata": {},
     "output_type": "execute_result"
    }
   ],
   "source": [
    "0.2 + 0.2"
   ]
  },
  {
   "cell_type": "code",
   "execution_count": 19,
   "id": "dd19fbd4",
   "metadata": {
    "execution": {
     "iopub.execute_input": "2022-03-21T02:25:49.306307Z",
     "iopub.status.busy": "2022-03-21T02:25:49.305536Z",
     "iopub.status.idle": "2022-03-21T02:25:49.311685Z",
     "shell.execute_reply": "2022-03-21T02:25:49.311036Z",
     "shell.execute_reply.started": "2022-03-20T23:07:01.256757Z"
    },
    "papermill": {
     "duration": 0.051769,
     "end_time": "2022-03-21T02:25:49.311841",
     "exception": false,
     "start_time": "2022-03-21T02:25:49.260072",
     "status": "completed"
    },
    "tags": []
   },
   "outputs": [
    {
     "data": {
      "text/plain": [
       "0.2"
      ]
     },
     "execution_count": 19,
     "metadata": {},
     "output_type": "execute_result"
    }
   ],
   "source": [
    "2 * 0.1"
   ]
  },
  {
   "cell_type": "code",
   "execution_count": 20,
   "id": "b2b9910c",
   "metadata": {
    "execution": {
     "iopub.execute_input": "2022-03-21T02:25:49.398319Z",
     "iopub.status.busy": "2022-03-21T02:25:49.397633Z",
     "iopub.status.idle": "2022-03-21T02:25:49.402087Z",
     "shell.execute_reply": "2022-03-21T02:25:49.402606Z",
     "shell.execute_reply.started": "2022-03-20T23:07:10.196255Z"
    },
    "papermill": {
     "duration": 0.049503,
     "end_time": "2022-03-21T02:25:49.402788",
     "exception": false,
     "start_time": "2022-03-21T02:25:49.353285",
     "status": "completed"
    },
    "tags": []
   },
   "outputs": [
    {
     "data": {
      "text/plain": [
       "0.4"
      ]
     },
     "execution_count": 20,
     "metadata": {},
     "output_type": "execute_result"
    }
   ],
   "source": [
    "2* 0.2"
   ]
  },
  {
   "cell_type": "code",
   "execution_count": 21,
   "id": "c52bbf89",
   "metadata": {
    "execution": {
     "iopub.execute_input": "2022-03-21T02:25:49.493310Z",
     "iopub.status.busy": "2022-03-21T02:25:49.492649Z",
     "iopub.status.idle": "2022-03-21T02:25:49.496015Z",
     "shell.execute_reply": "2022-03-21T02:25:49.496498Z",
     "shell.execute_reply.started": "2022-03-20T23:07:33.034775Z"
    },
    "papermill": {
     "duration": 0.051781,
     "end_time": "2022-03-21T02:25:49.496691",
     "exception": false,
     "start_time": "2022-03-21T02:25:49.444910",
     "status": "completed"
    },
    "tags": []
   },
   "outputs": [
    {
     "data": {
      "text/plain": [
       "2.0"
      ]
     },
     "execution_count": 21,
     "metadata": {},
     "output_type": "execute_result"
    }
   ],
   "source": [
    "4/ 2"
   ]
  },
  {
   "cell_type": "markdown",
   "id": "07431707",
   "metadata": {
    "papermill": {
     "duration": 0.041979,
     "end_time": "2022-03-21T02:25:49.580787",
     "exception": false,
     "start_time": "2022-03-21T02:25:49.538808",
     "status": "completed"
    },
    "tags": []
   },
   "source": [
    "Mulitple Assignments and others"
   ]
  },
  {
   "cell_type": "code",
   "execution_count": 22,
   "id": "64a89ce4",
   "metadata": {
    "execution": {
     "iopub.execute_input": "2022-03-21T02:25:49.668851Z",
     "iopub.status.busy": "2022-03-21T02:25:49.668055Z",
     "iopub.status.idle": "2022-03-21T02:25:49.671108Z",
     "shell.execute_reply": "2022-03-21T02:25:49.671697Z",
     "shell.execute_reply.started": "2022-03-20T23:08:31.197649Z"
    },
    "papermill": {
     "duration": 0.048748,
     "end_time": "2022-03-21T02:25:49.671893",
     "exception": false,
     "start_time": "2022-03-21T02:25:49.623145",
     "status": "completed"
    },
    "tags": []
   },
   "outputs": [],
   "source": [
    "x,y,z = 0,0,0"
   ]
  },
  {
   "cell_type": "code",
   "execution_count": 23,
   "id": "c08f04de",
   "metadata": {
    "execution": {
     "iopub.execute_input": "2022-03-21T02:25:49.761744Z",
     "iopub.status.busy": "2022-03-21T02:25:49.761077Z",
     "iopub.status.idle": "2022-03-21T02:25:49.764816Z",
     "shell.execute_reply": "2022-03-21T02:25:49.765354Z",
     "shell.execute_reply.started": "2022-03-20T23:08:53.704601Z"
    },
    "papermill": {
     "duration": 0.049538,
     "end_time": "2022-03-21T02:25:49.765547",
     "exception": false,
     "start_time": "2022-03-21T02:25:49.716009",
     "status": "completed"
    },
    "tags": []
   },
   "outputs": [],
   "source": [
    "MAX_CONNECTIONS = 5000"
   ]
  },
  {
   "cell_type": "code",
   "execution_count": 24,
   "id": "bb0f97d1",
   "metadata": {
    "execution": {
     "iopub.execute_input": "2022-03-21T02:25:49.853767Z",
     "iopub.status.busy": "2022-03-21T02:25:49.852977Z",
     "iopub.status.idle": "2022-03-21T02:25:49.856177Z",
     "shell.execute_reply": "2022-03-21T02:25:49.856737Z",
     "shell.execute_reply.started": "2022-03-20T23:09:59.637329Z"
    },
    "papermill": {
     "duration": 0.049117,
     "end_time": "2022-03-21T02:25:49.856913",
     "exception": false,
     "start_time": "2022-03-21T02:25:49.807796",
     "status": "completed"
    },
    "tags": []
   },
   "outputs": [],
   "source": [
    "###This is a comment"
   ]
  },
  {
   "cell_type": "code",
   "execution_count": 25,
   "id": "97510f11",
   "metadata": {
    "execution": {
     "iopub.execute_input": "2022-03-21T02:25:49.944981Z",
     "iopub.status.busy": "2022-03-21T02:25:49.944306Z",
     "iopub.status.idle": "2022-03-21T02:25:49.951360Z",
     "shell.execute_reply": "2022-03-21T02:25:49.950703Z",
     "shell.execute_reply.started": "2022-03-20T23:10:03.902779Z"
    },
    "papermill": {
     "duration": 0.052162,
     "end_time": "2022-03-21T02:25:49.951534",
     "exception": false,
     "start_time": "2022-03-21T02:25:49.899372",
     "status": "completed"
    },
    "tags": []
   },
   "outputs": [
    {
     "name": "stdout",
     "output_type": "stream",
     "text": [
      "The Zen of Python, by Tim Peters\n",
      "\n",
      "Beautiful is better than ugly.\n",
      "Explicit is better than implicit.\n",
      "Simple is better than complex.\n",
      "Complex is better than complicated.\n",
      "Flat is better than nested.\n",
      "Sparse is better than dense.\n",
      "Readability counts.\n",
      "Special cases aren't special enough to break the rules.\n",
      "Although practicality beats purity.\n",
      "Errors should never pass silently.\n",
      "Unless explicitly silenced.\n",
      "In the face of ambiguity, refuse the temptation to guess.\n",
      "There should be one-- and preferably only one --obvious way to do it.\n",
      "Although that way may not be obvious at first unless you're Dutch.\n",
      "Now is better than never.\n",
      "Although never is often better than *right* now.\n",
      "If the implementation is hard to explain, it's a bad idea.\n",
      "If the implementation is easy to explain, it may be a good idea.\n",
      "Namespaces are one honking great idea -- let's do more of those!\n"
     ]
    }
   ],
   "source": [
    "import this"
   ]
  },
  {
   "cell_type": "markdown",
   "id": "bc24e73b",
   "metadata": {
    "papermill": {
     "duration": 0.042341,
     "end_time": "2022-03-21T02:25:50.036859",
     "exception": false,
     "start_time": "2022-03-21T02:25:49.994518",
     "status": "completed"
    },
    "tags": []
   },
   "source": [
    "Chapter 3: Lists"
   ]
  },
  {
   "cell_type": "code",
   "execution_count": 26,
   "id": "3d408cf5",
   "metadata": {
    "execution": {
     "iopub.execute_input": "2022-03-21T02:25:50.130540Z",
     "iopub.status.busy": "2022-03-21T02:25:50.129782Z",
     "iopub.status.idle": "2022-03-21T02:25:50.132931Z",
     "shell.execute_reply": "2022-03-21T02:25:50.133441Z",
     "shell.execute_reply.started": "2022-03-21T02:20:35.078408Z"
    },
    "papermill": {
     "duration": 0.053582,
     "end_time": "2022-03-21T02:25:50.133653",
     "exception": false,
     "start_time": "2022-03-21T02:25:50.080071",
     "status": "completed"
    },
    "tags": []
   },
   "outputs": [
    {
     "name": "stdout",
     "output_type": "stream",
     "text": [
      "['trek', 'cannondale', 'redline', 'specialized']\n",
      "trek\n",
      "Trek\n",
      "cannondale\n",
      "specialized\n",
      "specialized\n"
     ]
    }
   ],
   "source": [
    "bicycles = ['trek','cannondale','redline','specialized']\n",
    "print(bicycles)\n",
    "print(bicycles[0])\n",
    "print(bicycles[0].title())\n",
    "print(bicycles[1])\n",
    "print(bicycles[3])\n",
    "print(bicycles[-1])\n"
   ]
  },
  {
   "cell_type": "code",
   "execution_count": 27,
   "id": "be7d1785",
   "metadata": {
    "execution": {
     "iopub.execute_input": "2022-03-21T02:25:50.226302Z",
     "iopub.status.busy": "2022-03-21T02:25:50.225377Z",
     "iopub.status.idle": "2022-03-21T02:25:50.229195Z",
     "shell.execute_reply": "2022-03-21T02:25:50.230128Z",
     "shell.execute_reply.started": "2022-03-21T02:21:51.192743Z"
    },
    "papermill": {
     "duration": 0.053212,
     "end_time": "2022-03-21T02:25:50.230378",
     "exception": false,
     "start_time": "2022-03-21T02:25:50.177166",
     "status": "completed"
    },
    "tags": []
   },
   "outputs": [
    {
     "name": "stdout",
     "output_type": "stream",
     "text": [
      "My first bicycle was a Trek.\n"
     ]
    }
   ],
   "source": [
    "message = f\"My first bicycle was a {bicycles[0].title()}.\"\n",
    "print(message)"
   ]
  },
  {
   "cell_type": "code",
   "execution_count": 28,
   "id": "8e7d0f0a",
   "metadata": {
    "execution": {
     "iopub.execute_input": "2022-03-21T02:25:50.322539Z",
     "iopub.status.busy": "2022-03-21T02:25:50.321503Z",
     "iopub.status.idle": "2022-03-21T02:25:50.327580Z",
     "shell.execute_reply": "2022-03-21T02:25:50.328498Z",
     "shell.execute_reply.started": "2022-03-21T02:25:16.287671Z"
    },
    "papermill": {
     "duration": 0.053873,
     "end_time": "2022-03-21T02:25:50.328763",
     "exception": false,
     "start_time": "2022-03-21T02:25:50.274890",
     "status": "completed"
    },
    "tags": []
   },
   "outputs": [
    {
     "name": "stdout",
     "output_type": "stream",
     "text": [
      "['honda', 'yamaha', 'suzuki']\n"
     ]
    }
   ],
   "source": [
    "motorcycles = ['honda','yamaha','suzuki']\n",
    "print(motorcycles)"
   ]
  },
  {
   "cell_type": "code",
   "execution_count": null,
   "id": "68121be7",
   "metadata": {
    "papermill": {
     "duration": 0.043179,
     "end_time": "2022-03-21T02:25:50.416100",
     "exception": false,
     "start_time": "2022-03-21T02:25:50.372921",
     "status": "completed"
    },
    "tags": []
   },
   "outputs": [],
   "source": []
  }
 ],
 "metadata": {
  "kernelspec": {
   "display_name": "Python 3",
   "language": "python",
   "name": "python3"
  },
  "language_info": {
   "codemirror_mode": {
    "name": "ipython",
    "version": 3
   },
   "file_extension": ".py",
   "mimetype": "text/x-python",
   "name": "python",
   "nbconvert_exporter": "python",
   "pygments_lexer": "ipython3",
   "version": "3.7.12"
  },
  "papermill": {
   "default_parameters": {},
   "duration": 14.308894,
   "end_time": "2022-03-21T02:25:51.171143",
   "environment_variables": {},
   "exception": null,
   "input_path": "__notebook__.ipynb",
   "output_path": "__notebook__.ipynb",
   "parameters": {},
   "start_time": "2022-03-21T02:25:36.862249",
   "version": "2.3.3"
  }
 },
 "nbformat": 4,
 "nbformat_minor": 5
}
