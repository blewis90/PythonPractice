{
 "cells": [
  {
   "cell_type": "markdown",
   "id": "dd6d5734",
   "metadata": {
    "papermill": {
     "duration": 0.047334,
     "end_time": "2022-06-11T00:20:50.879149",
     "exception": false,
     "start_time": "2022-06-11T00:20:50.831815",
     "status": "completed"
    },
    "tags": []
   },
   "source": [
    "Simple Hello Message/ Getting started"
   ]
  },
  {
   "cell_type": "code",
   "execution_count": 1,
   "id": "bd43ecdd",
   "metadata": {
    "execution": {
     "iopub.execute_input": "2022-06-11T00:20:50.975989Z",
     "iopub.status.busy": "2022-06-11T00:20:50.974833Z",
     "iopub.status.idle": "2022-06-11T00:20:50.985704Z",
     "shell.execute_reply": "2022-06-11T00:20:50.986363Z",
     "shell.execute_reply.started": "2022-03-20T22:42:54.585765Z"
    },
    "papermill": {
     "duration": 0.061297,
     "end_time": "2022-06-11T00:20:50.986678",
     "exception": false,
     "start_time": "2022-06-11T00:20:50.925381",
     "status": "completed"
    },
    "tags": []
   },
   "outputs": [
    {
     "name": "stdout",
     "output_type": "stream",
     "text": [
      "Hello Python interpreter\n",
      "Hello Python World!\n",
      "Hello Python Crash Course world!\n"
     ]
    }
   ],
   "source": [
    "\n",
    "print(\"Hello Python interpreter\")\n",
    "message = \"Hello Python World!\"\n",
    "print(message)\n",
    "message = \"Hello Python Crash Course world!\"\n",
    "print(message)"
   ]
  },
  {
   "cell_type": "markdown",
   "id": "c76c6628",
   "metadata": {
    "papermill": {
     "duration": 0.049685,
     "end_time": "2022-06-11T00:20:51.084286",
     "exception": false,
     "start_time": "2022-06-11T00:20:51.034601",
     "status": "completed"
    },
    "tags": []
   },
   "source": [
    "Basic string commands"
   ]
  },
  {
   "cell_type": "code",
   "execution_count": 2,
   "id": "32a14c67",
   "metadata": {
    "execution": {
     "iopub.execute_input": "2022-06-11T00:20:51.181270Z",
     "iopub.status.busy": "2022-06-11T00:20:51.180558Z",
     "iopub.status.idle": "2022-06-11T00:20:51.186511Z",
     "shell.execute_reply": "2022-06-11T00:20:51.187051Z",
     "shell.execute_reply.started": "2022-03-20T22:53:36.559707Z"
    },
    "papermill": {
     "duration": 0.05604,
     "end_time": "2022-06-11T00:20:51.187222",
     "exception": false,
     "start_time": "2022-06-11T00:20:51.131182",
     "status": "completed"
    },
    "tags": []
   },
   "outputs": [
    {
     "name": "stdout",
     "output_type": "stream",
     "text": [
      "Ada Lovelace\n",
      "ADA LOVELACE\n",
      "ada lovelace\n"
     ]
    }
   ],
   "source": [
    "name = \"ada lovelace\"\n",
    "print(name.title())\n",
    "print(name.upper())\n",
    "print(name.lower())"
   ]
  },
  {
   "cell_type": "markdown",
   "id": "aebc681a",
   "metadata": {
    "papermill": {
     "duration": 0.046779,
     "end_time": "2022-06-11T00:20:51.281680",
     "exception": false,
     "start_time": "2022-06-11T00:20:51.234901",
     "status": "completed"
    },
    "tags": []
   },
   "source": [
    "F-String - Way to concatenate multiple variables"
   ]
  },
  {
   "cell_type": "code",
   "execution_count": 3,
   "id": "98734304",
   "metadata": {
    "execution": {
     "iopub.execute_input": "2022-06-11T00:20:51.404823Z",
     "iopub.status.busy": "2022-06-11T00:20:51.403796Z",
     "iopub.status.idle": "2022-06-11T00:20:51.410343Z",
     "shell.execute_reply": "2022-06-11T00:20:51.411244Z",
     "shell.execute_reply.started": "2022-03-20T22:55:23.691337Z"
    },
    "papermill": {
     "duration": 0.075057,
     "end_time": "2022-06-11T00:20:51.411502",
     "exception": false,
     "start_time": "2022-06-11T00:20:51.336445",
     "status": "completed"
    },
    "tags": []
   },
   "outputs": [
    {
     "name": "stdout",
     "output_type": "stream",
     "text": [
      "ada lovelace\n",
      "Hello, Ada Lovelace!\n"
     ]
    }
   ],
   "source": [
    "first_name = \"ada\"\n",
    "last_name = \"lovelace\"\n",
    "full_name = f\"{first_name} {last_name}\"\n",
    "print(full_name)\n",
    "print(f\"Hello, {full_name.title()}!\")"
   ]
  },
  {
   "cell_type": "code",
   "execution_count": 4,
   "id": "da28a04c",
   "metadata": {
    "execution": {
     "iopub.execute_input": "2022-06-11T00:20:51.518437Z",
     "iopub.status.busy": "2022-06-11T00:20:51.517527Z",
     "iopub.status.idle": "2022-06-11T00:20:51.521105Z",
     "shell.execute_reply": "2022-06-11T00:20:51.521843Z",
     "shell.execute_reply.started": "2022-03-20T22:56:20.978913Z"
    },
    "papermill": {
     "duration": 0.058782,
     "end_time": "2022-06-11T00:20:51.522067",
     "exception": false,
     "start_time": "2022-06-11T00:20:51.463285",
     "status": "completed"
    },
    "tags": []
   },
   "outputs": [
    {
     "name": "stdout",
     "output_type": "stream",
     "text": [
      "ada lovelace\n",
      "Hello, Ada Lovelace!\n"
     ]
    }
   ],
   "source": [
    "first_name = \"ada\"\n",
    "last_name = \"lovelace\"\n",
    "full_name = f\"{first_name} {last_name}\"\n",
    "print(full_name)\n",
    "message = f\"Hello, {full_name.title()}!\"\n",
    "print(message)"
   ]
  },
  {
   "cell_type": "markdown",
   "id": "3264ff0a",
   "metadata": {
    "papermill": {
     "duration": 0.047966,
     "end_time": "2022-06-11T00:20:51.619354",
     "exception": false,
     "start_time": "2022-06-11T00:20:51.571388",
     "status": "completed"
    },
    "tags": []
   },
   "source": [
    "How to add Whitespace to strings with Tabs or Newlines"
   ]
  },
  {
   "cell_type": "code",
   "execution_count": 5,
   "id": "12c4bd15",
   "metadata": {
    "execution": {
     "iopub.execute_input": "2022-06-11T00:20:51.720684Z",
     "iopub.status.busy": "2022-06-11T00:20:51.719920Z",
     "iopub.status.idle": "2022-06-11T00:20:51.723060Z",
     "shell.execute_reply": "2022-06-11T00:20:51.723598Z",
     "shell.execute_reply.started": "2022-03-20T22:58:06.029247Z"
    },
    "papermill": {
     "duration": 0.05619,
     "end_time": "2022-06-11T00:20:51.723781",
     "exception": false,
     "start_time": "2022-06-11T00:20:51.667591",
     "status": "completed"
    },
    "tags": []
   },
   "outputs": [
    {
     "name": "stdout",
     "output_type": "stream",
     "text": [
      "Python\n",
      "\tPython\n"
     ]
    }
   ],
   "source": [
    "print(\"Python\")\n",
    "print(\"\\tPython\")"
   ]
  },
  {
   "cell_type": "code",
   "execution_count": 6,
   "id": "6f08ed22",
   "metadata": {
    "execution": {
     "iopub.execute_input": "2022-06-11T00:20:51.825665Z",
     "iopub.status.busy": "2022-06-11T00:20:51.824971Z",
     "iopub.status.idle": "2022-06-11T00:20:51.828667Z",
     "shell.execute_reply": "2022-06-11T00:20:51.827993Z",
     "shell.execute_reply.started": "2022-03-20T22:58:49.214036Z"
    },
    "papermill": {
     "duration": 0.057077,
     "end_time": "2022-06-11T00:20:51.828826",
     "exception": false,
     "start_time": "2022-06-11T00:20:51.771749",
     "status": "completed"
    },
    "tags": []
   },
   "outputs": [
    {
     "name": "stdout",
     "output_type": "stream",
     "text": [
      "Languages:\n",
      "Python\n",
      "C\n",
      "Javascript\n"
     ]
    }
   ],
   "source": [
    "print(\"Languages:\\nPython\\nC\\nJavascript\")"
   ]
  },
  {
   "cell_type": "code",
   "execution_count": 7,
   "id": "7a652ef0",
   "metadata": {
    "execution": {
     "iopub.execute_input": "2022-06-11T00:20:51.933826Z",
     "iopub.status.busy": "2022-06-11T00:20:51.933079Z",
     "iopub.status.idle": "2022-06-11T00:20:51.936016Z",
     "shell.execute_reply": "2022-06-11T00:20:51.936516Z",
     "shell.execute_reply.started": "2022-03-20T22:59:42.110725Z"
    },
    "papermill": {
     "duration": 0.057834,
     "end_time": "2022-06-11T00:20:51.936701",
     "exception": false,
     "start_time": "2022-06-11T00:20:51.878867",
     "status": "completed"
    },
    "tags": []
   },
   "outputs": [
    {
     "name": "stdout",
     "output_type": "stream",
     "text": [
      "Languages:\n",
      "\tPython\n",
      "\tC\n",
      "\tJavascript\n"
     ]
    }
   ],
   "source": [
    "print(\"Languages:\\n\\tPython\\n\\tC\\n\\tJavascript\")"
   ]
  },
  {
   "cell_type": "markdown",
   "id": "52d9fac2",
   "metadata": {
    "papermill": {
     "duration": 0.049343,
     "end_time": "2022-06-11T00:20:52.035743",
     "exception": false,
     "start_time": "2022-06-11T00:20:51.986400",
     "status": "completed"
    },
    "tags": []
   },
   "source": [
    "Removing Whitespace"
   ]
  },
  {
   "cell_type": "code",
   "execution_count": 8,
   "id": "be0dd857",
   "metadata": {
    "execution": {
     "iopub.execute_input": "2022-06-11T00:20:52.145601Z",
     "iopub.status.busy": "2022-06-11T00:20:52.144910Z",
     "iopub.status.idle": "2022-06-11T00:20:52.149622Z",
     "shell.execute_reply": "2022-06-11T00:20:52.148921Z",
     "shell.execute_reply.started": "2022-03-20T23:01:53.78281Z"
    },
    "papermill": {
     "duration": 0.063024,
     "end_time": "2022-06-11T00:20:52.149794",
     "exception": false,
     "start_time": "2022-06-11T00:20:52.086770",
     "status": "completed"
    },
    "tags": []
   },
   "outputs": [
    {
     "data": {
      "text/plain": [
       "'python'"
      ]
     },
     "execution_count": 8,
     "metadata": {},
     "output_type": "execute_result"
    }
   ],
   "source": [
    "favorite_language = \"python \"\n",
    "favorite_language\n",
    "favorite_language.rstrip()\n",
    "# right strip"
   ]
  },
  {
   "cell_type": "code",
   "execution_count": 9,
   "id": "4e2fdc8e",
   "metadata": {
    "execution": {
     "iopub.execute_input": "2022-06-11T00:20:52.254848Z",
     "iopub.status.busy": "2022-06-11T00:20:52.254040Z",
     "iopub.status.idle": "2022-06-11T00:20:52.258346Z",
     "shell.execute_reply": "2022-06-11T00:20:52.257808Z",
     "shell.execute_reply.started": "2022-03-20T23:02:37.05996Z"
    },
    "papermill": {
     "duration": 0.059101,
     "end_time": "2022-06-11T00:20:52.258509",
     "exception": false,
     "start_time": "2022-06-11T00:20:52.199408",
     "status": "completed"
    },
    "tags": []
   },
   "outputs": [
    {
     "data": {
      "text/plain": [
       "'python'"
      ]
     },
     "execution_count": 9,
     "metadata": {},
     "output_type": "execute_result"
    }
   ],
   "source": [
    "favorite_language = \" python \"\n",
    "favorite_language\n",
    "favorite_language.strip()\n",
    "# strip both sides"
   ]
  },
  {
   "cell_type": "markdown",
   "id": "2f9f2a93",
   "metadata": {
    "papermill": {
     "duration": 0.050035,
     "end_time": "2022-06-11T00:20:52.358703",
     "exception": false,
     "start_time": "2022-06-11T00:20:52.308668",
     "status": "completed"
    },
    "tags": []
   },
   "source": [
    "Integers"
   ]
  },
  {
   "cell_type": "code",
   "execution_count": 10,
   "id": "f1b2f31d",
   "metadata": {
    "execution": {
     "iopub.execute_input": "2022-06-11T00:20:52.464559Z",
     "iopub.status.busy": "2022-06-11T00:20:52.463429Z",
     "iopub.status.idle": "2022-06-11T00:20:52.467278Z",
     "shell.execute_reply": "2022-06-11T00:20:52.467780Z",
     "shell.execute_reply.started": "2022-03-20T23:05:23.54621Z"
    },
    "papermill": {
     "duration": 0.059457,
     "end_time": "2022-06-11T00:20:52.467955",
     "exception": false,
     "start_time": "2022-06-11T00:20:52.408498",
     "status": "completed"
    },
    "tags": []
   },
   "outputs": [
    {
     "data": {
      "text/plain": [
       "5"
      ]
     },
     "execution_count": 10,
     "metadata": {},
     "output_type": "execute_result"
    }
   ],
   "source": [
    "2+3"
   ]
  },
  {
   "cell_type": "code",
   "execution_count": 11,
   "id": "bf51b31d",
   "metadata": {
    "execution": {
     "iopub.execute_input": "2022-06-11T00:20:52.574063Z",
     "iopub.status.busy": "2022-06-11T00:20:52.573371Z",
     "iopub.status.idle": "2022-06-11T00:20:52.575943Z",
     "shell.execute_reply": "2022-06-11T00:20:52.576429Z",
     "shell.execute_reply.started": "2022-03-20T23:05:29.47834Z"
    },
    "papermill": {
     "duration": 0.058243,
     "end_time": "2022-06-11T00:20:52.576598",
     "exception": false,
     "start_time": "2022-06-11T00:20:52.518355",
     "status": "completed"
    },
    "tags": []
   },
   "outputs": [
    {
     "data": {
      "text/plain": [
       "1"
      ]
     },
     "execution_count": 11,
     "metadata": {},
     "output_type": "execute_result"
    }
   ],
   "source": [
    "3 -2"
   ]
  },
  {
   "cell_type": "code",
   "execution_count": 12,
   "id": "1fa0b423",
   "metadata": {
    "execution": {
     "iopub.execute_input": "2022-06-11T00:20:52.689018Z",
     "iopub.status.busy": "2022-06-11T00:20:52.688110Z",
     "iopub.status.idle": "2022-06-11T00:20:52.691514Z",
     "shell.execute_reply": "2022-06-11T00:20:52.692122Z",
     "shell.execute_reply.started": "2022-03-20T23:05:34.437171Z"
    },
    "papermill": {
     "duration": 0.060169,
     "end_time": "2022-06-11T00:20:52.692306",
     "exception": false,
     "start_time": "2022-06-11T00:20:52.632137",
     "status": "completed"
    },
    "tags": []
   },
   "outputs": [
    {
     "data": {
      "text/plain": [
       "6"
      ]
     },
     "execution_count": 12,
     "metadata": {},
     "output_type": "execute_result"
    }
   ],
   "source": [
    "2 * 3"
   ]
  },
  {
   "cell_type": "code",
   "execution_count": 13,
   "id": "35e0e213",
   "metadata": {
    "execution": {
     "iopub.execute_input": "2022-06-11T00:20:52.800018Z",
     "iopub.status.busy": "2022-06-11T00:20:52.798971Z",
     "iopub.status.idle": "2022-06-11T00:20:52.804132Z",
     "shell.execute_reply": "2022-06-11T00:20:52.804740Z",
     "shell.execute_reply.started": "2022-03-20T23:05:38.513282Z"
    },
    "papermill": {
     "duration": 0.06186,
     "end_time": "2022-06-11T00:20:52.805002",
     "exception": false,
     "start_time": "2022-06-11T00:20:52.743142",
     "status": "completed"
    },
    "tags": []
   },
   "outputs": [
    {
     "data": {
      "text/plain": [
       "1.5"
      ]
     },
     "execution_count": 13,
     "metadata": {},
     "output_type": "execute_result"
    }
   ],
   "source": [
    "3/2"
   ]
  },
  {
   "cell_type": "code",
   "execution_count": 14,
   "id": "3b7ecfca",
   "metadata": {
    "execution": {
     "iopub.execute_input": "2022-06-11T00:20:52.915136Z",
     "iopub.status.busy": "2022-06-11T00:20:52.914015Z",
     "iopub.status.idle": "2022-06-11T00:20:52.919655Z",
     "shell.execute_reply": "2022-06-11T00:20:52.920248Z",
     "shell.execute_reply.started": "2022-03-20T23:05:47.367053Z"
    },
    "papermill": {
     "duration": 0.063512,
     "end_time": "2022-06-11T00:20:52.920465",
     "exception": false,
     "start_time": "2022-06-11T00:20:52.856953",
     "status": "completed"
    },
    "tags": []
   },
   "outputs": [
    {
     "data": {
      "text/plain": [
       "9"
      ]
     },
     "execution_count": 14,
     "metadata": {},
     "output_type": "execute_result"
    }
   ],
   "source": [
    "3 **2"
   ]
  },
  {
   "cell_type": "code",
   "execution_count": 15,
   "id": "4787c4ef",
   "metadata": {
    "execution": {
     "iopub.execute_input": "2022-06-11T00:20:53.031127Z",
     "iopub.status.busy": "2022-06-11T00:20:53.030319Z",
     "iopub.status.idle": "2022-06-11T00:20:53.033910Z",
     "shell.execute_reply": "2022-06-11T00:20:53.033382Z",
     "shell.execute_reply.started": "2022-03-20T23:06:02.274379Z"
    },
    "papermill": {
     "duration": 0.061343,
     "end_time": "2022-06-11T00:20:53.034054",
     "exception": false,
     "start_time": "2022-06-11T00:20:52.972711",
     "status": "completed"
    },
    "tags": []
   },
   "outputs": [
    {
     "data": {
      "text/plain": [
       "14"
      ]
     },
     "execution_count": 15,
     "metadata": {},
     "output_type": "execute_result"
    }
   ],
   "source": [
    "2 + 3*4"
   ]
  },
  {
   "cell_type": "code",
   "execution_count": 16,
   "id": "10564947",
   "metadata": {
    "execution": {
     "iopub.execute_input": "2022-06-11T00:20:53.145337Z",
     "iopub.status.busy": "2022-06-11T00:20:53.144532Z",
     "iopub.status.idle": "2022-06-11T00:20:53.147822Z",
     "shell.execute_reply": "2022-06-11T00:20:53.148393Z",
     "shell.execute_reply.started": "2022-03-20T23:06:20.162287Z"
    },
    "papermill": {
     "duration": 0.061987,
     "end_time": "2022-06-11T00:20:53.148612",
     "exception": false,
     "start_time": "2022-06-11T00:20:53.086625",
     "status": "completed"
    },
    "tags": []
   },
   "outputs": [
    {
     "data": {
      "text/plain": [
       "14"
      ]
     },
     "execution_count": 16,
     "metadata": {},
     "output_type": "execute_result"
    }
   ],
   "source": [
    "(2+3 * 4)"
   ]
  },
  {
   "cell_type": "code",
   "execution_count": 17,
   "id": "4d81b3d4",
   "metadata": {
    "execution": {
     "iopub.execute_input": "2022-06-11T00:20:53.258902Z",
     "iopub.status.busy": "2022-06-11T00:20:53.257874Z",
     "iopub.status.idle": "2022-06-11T00:20:53.264743Z",
     "shell.execute_reply": "2022-06-11T00:20:53.264132Z",
     "shell.execute_reply.started": "2022-03-20T23:06:49.606291Z"
    },
    "papermill": {
     "duration": 0.063174,
     "end_time": "2022-06-11T00:20:53.264923",
     "exception": false,
     "start_time": "2022-06-11T00:20:53.201749",
     "status": "completed"
    },
    "tags": []
   },
   "outputs": [
    {
     "data": {
      "text/plain": [
       "0.2"
      ]
     },
     "execution_count": 17,
     "metadata": {},
     "output_type": "execute_result"
    }
   ],
   "source": [
    "0.1 + 0.1"
   ]
  },
  {
   "cell_type": "code",
   "execution_count": 18,
   "id": "9ee0922c",
   "metadata": {
    "execution": {
     "iopub.execute_input": "2022-06-11T00:20:53.379379Z",
     "iopub.status.busy": "2022-06-11T00:20:53.378594Z",
     "iopub.status.idle": "2022-06-11T00:20:53.382604Z",
     "shell.execute_reply": "2022-06-11T00:20:53.382045Z",
     "shell.execute_reply.started": "2022-03-20T23:06:54.586338Z"
    },
    "papermill": {
     "duration": 0.063237,
     "end_time": "2022-06-11T00:20:53.382764",
     "exception": false,
     "start_time": "2022-06-11T00:20:53.319527",
     "status": "completed"
    },
    "tags": []
   },
   "outputs": [
    {
     "data": {
      "text/plain": [
       "0.4"
      ]
     },
     "execution_count": 18,
     "metadata": {},
     "output_type": "execute_result"
    }
   ],
   "source": [
    "0.2 + 0.2"
   ]
  },
  {
   "cell_type": "code",
   "execution_count": 19,
   "id": "d8ba4076",
   "metadata": {
    "execution": {
     "iopub.execute_input": "2022-06-11T00:20:53.498344Z",
     "iopub.status.busy": "2022-06-11T00:20:53.497596Z",
     "iopub.status.idle": "2022-06-11T00:20:53.500202Z",
     "shell.execute_reply": "2022-06-11T00:20:53.500721Z",
     "shell.execute_reply.started": "2022-03-20T23:07:01.256757Z"
    },
    "papermill": {
     "duration": 0.064442,
     "end_time": "2022-06-11T00:20:53.500904",
     "exception": false,
     "start_time": "2022-06-11T00:20:53.436462",
     "status": "completed"
    },
    "tags": []
   },
   "outputs": [
    {
     "data": {
      "text/plain": [
       "0.2"
      ]
     },
     "execution_count": 19,
     "metadata": {},
     "output_type": "execute_result"
    }
   ],
   "source": [
    "2 * 0.1"
   ]
  },
  {
   "cell_type": "code",
   "execution_count": 20,
   "id": "8208754a",
   "metadata": {
    "execution": {
     "iopub.execute_input": "2022-06-11T00:20:53.614948Z",
     "iopub.status.busy": "2022-06-11T00:20:53.614210Z",
     "iopub.status.idle": "2022-06-11T00:20:53.617661Z",
     "shell.execute_reply": "2022-06-11T00:20:53.618215Z",
     "shell.execute_reply.started": "2022-03-20T23:07:10.196255Z"
    },
    "papermill": {
     "duration": 0.062337,
     "end_time": "2022-06-11T00:20:53.618413",
     "exception": false,
     "start_time": "2022-06-11T00:20:53.556076",
     "status": "completed"
    },
    "tags": []
   },
   "outputs": [
    {
     "data": {
      "text/plain": [
       "0.4"
      ]
     },
     "execution_count": 20,
     "metadata": {},
     "output_type": "execute_result"
    }
   ],
   "source": [
    "2* 0.2"
   ]
  },
  {
   "cell_type": "code",
   "execution_count": 21,
   "id": "c3f8d57e",
   "metadata": {
    "execution": {
     "iopub.execute_input": "2022-06-11T00:20:53.732201Z",
     "iopub.status.busy": "2022-06-11T00:20:53.731460Z",
     "iopub.status.idle": "2022-06-11T00:20:53.735765Z",
     "shell.execute_reply": "2022-06-11T00:20:53.736309Z",
     "shell.execute_reply.started": "2022-03-20T23:07:33.034775Z"
    },
    "papermill": {
     "duration": 0.062932,
     "end_time": "2022-06-11T00:20:53.736480",
     "exception": false,
     "start_time": "2022-06-11T00:20:53.673548",
     "status": "completed"
    },
    "tags": []
   },
   "outputs": [
    {
     "data": {
      "text/plain": [
       "2.0"
      ]
     },
     "execution_count": 21,
     "metadata": {},
     "output_type": "execute_result"
    }
   ],
   "source": [
    "4/ 2"
   ]
  },
  {
   "cell_type": "markdown",
   "id": "cd65c8e4",
   "metadata": {
    "papermill": {
     "duration": 0.055193,
     "end_time": "2022-06-11T00:20:53.846861",
     "exception": false,
     "start_time": "2022-06-11T00:20:53.791668",
     "status": "completed"
    },
    "tags": []
   },
   "source": [
    "Mulitple Assignments and others"
   ]
  },
  {
   "cell_type": "code",
   "execution_count": 22,
   "id": "6833665d",
   "metadata": {
    "execution": {
     "iopub.execute_input": "2022-06-11T00:20:53.961270Z",
     "iopub.status.busy": "2022-06-11T00:20:53.960613Z",
     "iopub.status.idle": "2022-06-11T00:20:53.963642Z",
     "shell.execute_reply": "2022-06-11T00:20:53.964304Z",
     "shell.execute_reply.started": "2022-03-20T23:08:31.197649Z"
    },
    "papermill": {
     "duration": 0.062398,
     "end_time": "2022-06-11T00:20:53.964481",
     "exception": false,
     "start_time": "2022-06-11T00:20:53.902083",
     "status": "completed"
    },
    "tags": []
   },
   "outputs": [],
   "source": [
    "x,y,z = 0,0,0"
   ]
  },
  {
   "cell_type": "code",
   "execution_count": 23,
   "id": "d8ee198d",
   "metadata": {
    "execution": {
     "iopub.execute_input": "2022-06-11T00:20:54.077920Z",
     "iopub.status.busy": "2022-06-11T00:20:54.077278Z",
     "iopub.status.idle": "2022-06-11T00:20:54.080243Z",
     "shell.execute_reply": "2022-06-11T00:20:54.080836Z",
     "shell.execute_reply.started": "2022-03-20T23:08:53.704601Z"
    },
    "papermill": {
     "duration": 0.062326,
     "end_time": "2022-06-11T00:20:54.081006",
     "exception": false,
     "start_time": "2022-06-11T00:20:54.018680",
     "status": "completed"
    },
    "tags": []
   },
   "outputs": [],
   "source": [
    "MAX_CONNECTIONS = 5000"
   ]
  },
  {
   "cell_type": "code",
   "execution_count": 24,
   "id": "db9600a8",
   "metadata": {
    "execution": {
     "iopub.execute_input": "2022-06-11T00:20:54.194772Z",
     "iopub.status.busy": "2022-06-11T00:20:54.194082Z",
     "iopub.status.idle": "2022-06-11T00:20:54.197453Z",
     "shell.execute_reply": "2022-06-11T00:20:54.198022Z",
     "shell.execute_reply.started": "2022-03-20T23:09:59.637329Z"
    },
    "papermill": {
     "duration": 0.061724,
     "end_time": "2022-06-11T00:20:54.198201",
     "exception": false,
     "start_time": "2022-06-11T00:20:54.136477",
     "status": "completed"
    },
    "tags": []
   },
   "outputs": [],
   "source": [
    "###This is a comment"
   ]
  },
  {
   "cell_type": "code",
   "execution_count": 25,
   "id": "4f544c4e",
   "metadata": {
    "execution": {
     "iopub.execute_input": "2022-06-11T00:20:54.315878Z",
     "iopub.status.busy": "2022-06-11T00:20:54.315192Z",
     "iopub.status.idle": "2022-06-11T00:20:54.321735Z",
     "shell.execute_reply": "2022-06-11T00:20:54.322286Z",
     "shell.execute_reply.started": "2022-03-20T23:10:03.902779Z"
    },
    "papermill": {
     "duration": 0.067411,
     "end_time": "2022-06-11T00:20:54.322466",
     "exception": false,
     "start_time": "2022-06-11T00:20:54.255055",
     "status": "completed"
    },
    "tags": []
   },
   "outputs": [
    {
     "name": "stdout",
     "output_type": "stream",
     "text": [
      "The Zen of Python, by Tim Peters\n",
      "\n",
      "Beautiful is better than ugly.\n",
      "Explicit is better than implicit.\n",
      "Simple is better than complex.\n",
      "Complex is better than complicated.\n",
      "Flat is better than nested.\n",
      "Sparse is better than dense.\n",
      "Readability counts.\n",
      "Special cases aren't special enough to break the rules.\n",
      "Although practicality beats purity.\n",
      "Errors should never pass silently.\n",
      "Unless explicitly silenced.\n",
      "In the face of ambiguity, refuse the temptation to guess.\n",
      "There should be one-- and preferably only one --obvious way to do it.\n",
      "Although that way may not be obvious at first unless you're Dutch.\n",
      "Now is better than never.\n",
      "Although never is often better than *right* now.\n",
      "If the implementation is hard to explain, it's a bad idea.\n",
      "If the implementation is easy to explain, it may be a good idea.\n",
      "Namespaces are one honking great idea -- let's do more of those!\n"
     ]
    }
   ],
   "source": [
    "import this"
   ]
  },
  {
   "cell_type": "markdown",
   "id": "43d1ec3e",
   "metadata": {
    "papermill": {
     "duration": 0.055038,
     "end_time": "2022-06-11T00:20:54.433668",
     "exception": false,
     "start_time": "2022-06-11T00:20:54.378630",
     "status": "completed"
    },
    "tags": []
   },
   "source": [
    "Chapter 3: Lists"
   ]
  },
  {
   "cell_type": "code",
   "execution_count": 26,
   "id": "7a26a2f0",
   "metadata": {
    "execution": {
     "iopub.execute_input": "2022-06-11T00:20:54.553868Z",
     "iopub.status.busy": "2022-06-11T00:20:54.552961Z",
     "iopub.status.idle": "2022-06-11T00:20:54.556616Z",
     "shell.execute_reply": "2022-06-11T00:20:54.557111Z",
     "shell.execute_reply.started": "2022-03-21T02:20:35.078408Z"
    },
    "papermill": {
     "duration": 0.067254,
     "end_time": "2022-06-11T00:20:54.557311",
     "exception": false,
     "start_time": "2022-06-11T00:20:54.490057",
     "status": "completed"
    },
    "tags": []
   },
   "outputs": [
    {
     "name": "stdout",
     "output_type": "stream",
     "text": [
      "['trek', 'cannondale', 'redline', 'specialized']\n",
      "trek\n",
      "Trek\n",
      "cannondale\n",
      "specialized\n",
      "specialized\n"
     ]
    }
   ],
   "source": [
    "bicycles = ['trek','cannondale','redline','specialized']\n",
    "print(bicycles)\n",
    "print(bicycles[0])\n",
    "print(bicycles[0].title())\n",
    "print(bicycles[1])\n",
    "print(bicycles[3])\n",
    "print(bicycles[-1])\n"
   ]
  },
  {
   "cell_type": "code",
   "execution_count": 27,
   "id": "864c9c8b",
   "metadata": {
    "execution": {
     "iopub.execute_input": "2022-06-11T00:20:54.672296Z",
     "iopub.status.busy": "2022-06-11T00:20:54.671573Z",
     "iopub.status.idle": "2022-06-11T00:20:54.675988Z",
     "shell.execute_reply": "2022-06-11T00:20:54.676590Z",
     "shell.execute_reply.started": "2022-03-21T02:21:51.192743Z"
    },
    "papermill": {
     "duration": 0.063427,
     "end_time": "2022-06-11T00:20:54.676771",
     "exception": false,
     "start_time": "2022-06-11T00:20:54.613344",
     "status": "completed"
    },
    "tags": []
   },
   "outputs": [
    {
     "name": "stdout",
     "output_type": "stream",
     "text": [
      "My first bicycle was a Trek.\n"
     ]
    }
   ],
   "source": [
    "message = f\"My first bicycle was a {bicycles[0].title()}.\"\n",
    "print(message)"
   ]
  },
  {
   "cell_type": "code",
   "execution_count": 28,
   "id": "8d117770",
   "metadata": {
    "execution": {
     "iopub.execute_input": "2022-06-11T00:20:54.792579Z",
     "iopub.status.busy": "2022-06-11T00:20:54.791893Z",
     "iopub.status.idle": "2022-06-11T00:20:54.796371Z",
     "shell.execute_reply": "2022-06-11T00:20:54.796877Z",
     "shell.execute_reply.started": "2022-03-21T02:25:16.287671Z"
    },
    "papermill": {
     "duration": 0.064176,
     "end_time": "2022-06-11T00:20:54.797056",
     "exception": false,
     "start_time": "2022-06-11T00:20:54.732880",
     "status": "completed"
    },
    "tags": []
   },
   "outputs": [
    {
     "name": "stdout",
     "output_type": "stream",
     "text": [
      "['honda', 'yamaha', 'suzuki']\n"
     ]
    }
   ],
   "source": [
    "motorcycles = ['honda','yamaha','suzuki']\n",
    "print(motorcycles)\n"
   ]
  },
  {
   "cell_type": "code",
   "execution_count": 29,
   "id": "d61126bb",
   "metadata": {
    "execution": {
     "iopub.execute_input": "2022-06-11T00:20:54.915237Z",
     "iopub.status.busy": "2022-06-11T00:20:54.914583Z",
     "iopub.status.idle": "2022-06-11T00:20:54.919225Z",
     "shell.execute_reply": "2022-06-11T00:20:54.919767Z",
     "shell.execute_reply.started": "2022-03-21T02:26:08.092314Z"
    },
    "papermill": {
     "duration": 0.065233,
     "end_time": "2022-06-11T00:20:54.919942",
     "exception": false,
     "start_time": "2022-06-11T00:20:54.854709",
     "status": "completed"
    },
    "tags": []
   },
   "outputs": [
    {
     "name": "stdout",
     "output_type": "stream",
     "text": [
      "['ducati', 'yamaha', 'suzuki']\n"
     ]
    }
   ],
   "source": [
    "motorcycles[0] = 'ducati'\n",
    "print(motorcycles)"
   ]
  },
  {
   "cell_type": "code",
   "execution_count": 30,
   "id": "b6e536a0",
   "metadata": {
    "execution": {
     "iopub.execute_input": "2022-06-11T00:20:55.041328Z",
     "iopub.status.busy": "2022-06-11T00:20:55.040303Z",
     "iopub.status.idle": "2022-06-11T00:20:55.046249Z",
     "shell.execute_reply": "2022-06-11T00:20:55.045739Z",
     "shell.execute_reply.started": "2022-03-21T02:27:07.762868Z"
    },
    "papermill": {
     "duration": 0.068764,
     "end_time": "2022-06-11T00:20:55.046431",
     "exception": false,
     "start_time": "2022-06-11T00:20:54.977667",
     "status": "completed"
    },
    "tags": []
   },
   "outputs": [
    {
     "name": "stdout",
     "output_type": "stream",
     "text": [
      "['honda', 'yamaha', 'suzuki']\n",
      "['honda', 'yamaha', 'suzuki', 'ducati']\n"
     ]
    }
   ],
   "source": [
    "motorcycles = ['honda','yamaha','suzuki']\n",
    "print(motorcycles)\n",
    "motorcycles.append('ducati')\n",
    "print(motorcycles)\n"
   ]
  },
  {
   "cell_type": "code",
   "execution_count": 31,
   "id": "62b8c0bd",
   "metadata": {
    "execution": {
     "iopub.execute_input": "2022-06-11T00:20:55.165181Z",
     "iopub.status.busy": "2022-06-11T00:20:55.164211Z",
     "iopub.status.idle": "2022-06-11T00:20:55.167334Z",
     "shell.execute_reply": "2022-06-11T00:20:55.167815Z",
     "shell.execute_reply.started": "2022-03-21T02:28:13.574436Z"
    },
    "papermill": {
     "duration": 0.065152,
     "end_time": "2022-06-11T00:20:55.167981",
     "exception": false,
     "start_time": "2022-06-11T00:20:55.102829",
     "status": "completed"
    },
    "tags": []
   },
   "outputs": [
    {
     "name": "stdout",
     "output_type": "stream",
     "text": [
      "['ducati', 'honda', 'yamaha', 'suzuki']\n"
     ]
    }
   ],
   "source": [
    "motorcycles = ['honda','yamaha','suzuki']\n",
    "motorcycles.insert(0,'ducati')\n",
    "print(motorcycles)"
   ]
  },
  {
   "cell_type": "code",
   "execution_count": 32,
   "id": "a10b54c9",
   "metadata": {
    "execution": {
     "iopub.execute_input": "2022-06-11T00:20:55.288289Z",
     "iopub.status.busy": "2022-06-11T00:20:55.287452Z",
     "iopub.status.idle": "2022-06-11T00:20:55.290494Z",
     "shell.execute_reply": "2022-06-11T00:20:55.290967Z",
     "shell.execute_reply.started": "2022-03-21T02:29:13.669717Z"
    },
    "papermill": {
     "duration": 0.065976,
     "end_time": "2022-06-11T00:20:55.291131",
     "exception": false,
     "start_time": "2022-06-11T00:20:55.225155",
     "status": "completed"
    },
    "tags": []
   },
   "outputs": [
    {
     "name": "stdout",
     "output_type": "stream",
     "text": [
      "['honda', 'yamaha', 'suzuki']\n",
      "['yamaha', 'suzuki']\n"
     ]
    }
   ],
   "source": [
    "motorcycles = ['honda','yamaha','suzuki']\n",
    "print(motorcycles)\n",
    "del motorcycles[0]\n",
    "print(motorcycles)"
   ]
  },
  {
   "cell_type": "code",
   "execution_count": 33,
   "id": "227d5859",
   "metadata": {
    "execution": {
     "iopub.execute_input": "2022-06-11T00:20:55.410139Z",
     "iopub.status.busy": "2022-06-11T00:20:55.409150Z",
     "iopub.status.idle": "2022-06-11T00:20:55.414626Z",
     "shell.execute_reply": "2022-06-11T00:20:55.415121Z",
     "shell.execute_reply.started": "2022-03-21T02:32:01.365505Z"
    },
    "papermill": {
     "duration": 0.067001,
     "end_time": "2022-06-11T00:20:55.415327",
     "exception": false,
     "start_time": "2022-06-11T00:20:55.348326",
     "status": "completed"
    },
    "tags": []
   },
   "outputs": [
    {
     "name": "stdout",
     "output_type": "stream",
     "text": [
      "['honda', 'yamaha', 'suzuki']\n",
      "['honda', 'suzuki']\n",
      "yamaha\n"
     ]
    }
   ],
   "source": [
    "motorcycles = ['honda','yamaha','suzuki']\n",
    "print(motorcycles)\n",
    "popped_motorcycle = motorcycles.pop(1)\n",
    "print(motorcycles)\n",
    "print(popped_motorcycle)"
   ]
  },
  {
   "cell_type": "code",
   "execution_count": 34,
   "id": "50734f25",
   "metadata": {
    "execution": {
     "iopub.execute_input": "2022-06-11T00:20:55.537032Z",
     "iopub.status.busy": "2022-06-11T00:20:55.535946Z",
     "iopub.status.idle": "2022-06-11T00:20:55.539718Z",
     "shell.execute_reply": "2022-06-11T00:20:55.540196Z",
     "shell.execute_reply.started": "2022-03-21T02:33:50.250707Z"
    },
    "papermill": {
     "duration": 0.067427,
     "end_time": "2022-06-11T00:20:55.540411",
     "exception": false,
     "start_time": "2022-06-11T00:20:55.472984",
     "status": "completed"
    },
    "tags": []
   },
   "outputs": [
    {
     "name": "stdout",
     "output_type": "stream",
     "text": [
      "['honda', 'yamaha', 'suzuki', 'ducati']\n",
      "['honda', 'yamaha', 'suzuki']\n"
     ]
    }
   ],
   "source": [
    "motorcycles = ['honda','yamaha','suzuki','ducati']\n",
    "print(motorcycles)\n",
    "motorcycles.remove('ducati')\n",
    "print(motorcycles)"
   ]
  },
  {
   "cell_type": "markdown",
   "id": "e77f1d59",
   "metadata": {
    "papermill": {
     "duration": 0.0581,
     "end_time": "2022-06-11T00:20:55.656560",
     "exception": false,
     "start_time": "2022-06-11T00:20:55.598460",
     "status": "completed"
    },
    "tags": []
   },
   "source": [
    "**Organizing a List**"
   ]
  },
  {
   "cell_type": "code",
   "execution_count": 35,
   "id": "fada7a42",
   "metadata": {
    "execution": {
     "iopub.execute_input": "2022-06-11T00:20:55.777638Z",
     "iopub.status.busy": "2022-06-11T00:20:55.776636Z",
     "iopub.status.idle": "2022-06-11T00:20:55.782895Z",
     "shell.execute_reply": "2022-06-11T00:20:55.783619Z",
     "shell.execute_reply.started": "2022-03-21T02:37:07.935487Z"
    },
    "papermill": {
     "duration": 0.0687,
     "end_time": "2022-06-11T00:20:55.783843",
     "exception": false,
     "start_time": "2022-06-11T00:20:55.715143",
     "status": "completed"
    },
    "tags": []
   },
   "outputs": [
    {
     "name": "stdout",
     "output_type": "stream",
     "text": [
      "['audi', 'bmw', 'subaru', 'toyota']\n",
      "['toyota', 'subaru', 'bmw', 'audi']\n"
     ]
    }
   ],
   "source": [
    "cars = ['bmw','audi','toyota','subaru']\n",
    "cars.sort()\n",
    "print(cars)\n",
    "cars.sort(reverse=True)\n",
    "print(cars)\n"
   ]
  },
  {
   "cell_type": "code",
   "execution_count": 36,
   "id": "fbb38706",
   "metadata": {
    "execution": {
     "iopub.execute_input": "2022-06-11T00:20:55.908542Z",
     "iopub.status.busy": "2022-06-11T00:20:55.907546Z",
     "iopub.status.idle": "2022-06-11T00:20:55.911624Z",
     "shell.execute_reply": "2022-06-11T00:20:55.912177Z",
     "shell.execute_reply.started": "2022-03-21T02:38:07.446176Z"
    },
    "papermill": {
     "duration": 0.068892,
     "end_time": "2022-06-11T00:20:55.912388",
     "exception": false,
     "start_time": "2022-06-11T00:20:55.843496",
     "status": "completed"
    },
    "tags": []
   },
   "outputs": [
    {
     "name": "stdout",
     "output_type": "stream",
     "text": [
      "['bmw', 'audi', 'toyota', 'subaru']\n",
      "['audi', 'bmw', 'subaru', 'toyota']\n",
      "['bmw', 'audi', 'toyota', 'subaru']\n"
     ]
    }
   ],
   "source": [
    "cars = ['bmw','audi','toyota','subaru']\n",
    "print(cars)\n",
    "print(sorted(cars))\n",
    "print(cars)"
   ]
  },
  {
   "cell_type": "code",
   "execution_count": 37,
   "id": "3118edaa",
   "metadata": {
    "execution": {
     "iopub.execute_input": "2022-06-11T00:20:56.036473Z",
     "iopub.status.busy": "2022-06-11T00:20:56.035774Z",
     "iopub.status.idle": "2022-06-11T00:20:56.041595Z",
     "shell.execute_reply": "2022-06-11T00:20:56.042088Z",
     "shell.execute_reply.started": "2022-03-21T02:40:44.985121Z"
    },
    "papermill": {
     "duration": 0.069464,
     "end_time": "2022-06-11T00:20:56.042281",
     "exception": false,
     "start_time": "2022-06-11T00:20:55.972817",
     "status": "completed"
    },
    "tags": []
   },
   "outputs": [
    {
     "name": "stdout",
     "output_type": "stream",
     "text": [
      "['subaru', 'toyota', 'audi', 'bmw']\n"
     ]
    }
   ],
   "source": [
    "cars = ['bmw','audi','toyota','subaru']\n",
    "cars.reverse()\n",
    "print(cars)"
   ]
  },
  {
   "cell_type": "code",
   "execution_count": 38,
   "id": "40e52a4f",
   "metadata": {
    "execution": {
     "iopub.execute_input": "2022-06-11T00:20:56.168034Z",
     "iopub.status.busy": "2022-06-11T00:20:56.167307Z",
     "iopub.status.idle": "2022-06-11T00:20:56.170272Z",
     "shell.execute_reply": "2022-06-11T00:20:56.170856Z",
     "shell.execute_reply.started": "2022-03-21T02:43:48.308575Z"
    },
    "papermill": {
     "duration": 0.069238,
     "end_time": "2022-06-11T00:20:56.171037",
     "exception": false,
     "start_time": "2022-06-11T00:20:56.101799",
     "status": "completed"
    },
    "tags": []
   },
   "outputs": [
    {
     "data": {
      "text/plain": [
       "4"
      ]
     },
     "execution_count": 38,
     "metadata": {},
     "output_type": "execute_result"
    }
   ],
   "source": [
    "cars = ['bmw','audi','toyota','subaru']\n",
    "len(cars)"
   ]
  },
  {
   "cell_type": "code",
   "execution_count": 39,
   "id": "7191c7d6",
   "metadata": {
    "execution": {
     "iopub.execute_input": "2022-06-11T00:20:56.298510Z",
     "iopub.status.busy": "2022-06-11T00:20:56.296703Z",
     "iopub.status.idle": "2022-06-11T00:20:56.301583Z",
     "shell.execute_reply": "2022-06-11T00:20:56.300992Z"
    },
    "papermill": {
     "duration": 0.06895,
     "end_time": "2022-06-11T00:20:56.301744",
     "exception": false,
     "start_time": "2022-06-11T00:20:56.232794",
     "status": "completed"
    },
    "tags": []
   },
   "outputs": [],
   "source": [
    "motorcycles = ['honda']"
   ]
  },
  {
   "cell_type": "markdown",
   "id": "22dc2a63",
   "metadata": {
    "papermill": {
     "duration": 0.061281,
     "end_time": "2022-06-11T00:20:56.423848",
     "exception": false,
     "start_time": "2022-06-11T00:20:56.362567",
     "status": "completed"
    },
    "tags": []
   },
   "source": [
    "Working with lists"
   ]
  },
  {
   "cell_type": "code",
   "execution_count": 40,
   "id": "bb41da6f",
   "metadata": {
    "execution": {
     "iopub.execute_input": "2022-06-11T00:20:56.552371Z",
     "iopub.status.busy": "2022-06-11T00:20:56.551290Z",
     "iopub.status.idle": "2022-06-11T00:20:56.554833Z",
     "shell.execute_reply": "2022-06-11T00:20:56.555335Z",
     "shell.execute_reply.started": "2022-03-22T02:38:32.036312Z"
    },
    "papermill": {
     "duration": 0.070612,
     "end_time": "2022-06-11T00:20:56.555515",
     "exception": false,
     "start_time": "2022-06-11T00:20:56.484903",
     "status": "completed"
    },
    "tags": []
   },
   "outputs": [
    {
     "name": "stdout",
     "output_type": "stream",
     "text": [
      "alice\n",
      "david\n",
      "carolina\n"
     ]
    }
   ],
   "source": [
    "magicians = ['alice','david','carolina']\n",
    "for magician in magicians:\n",
    "    print(magician)"
   ]
  },
  {
   "cell_type": "code",
   "execution_count": null,
   "id": "7f8cd655",
   "metadata": {
    "papermill": {
     "duration": 0.060082,
     "end_time": "2022-06-11T00:20:56.679437",
     "exception": false,
     "start_time": "2022-06-11T00:20:56.619355",
     "status": "completed"
    },
    "tags": []
   },
   "outputs": [],
   "source": []
  }
 ],
 "metadata": {
  "kernelspec": {
   "display_name": "Python 3",
   "language": "python",
   "name": "python3"
  },
  "language_info": {
   "codemirror_mode": {
    "name": "ipython",
    "version": 3
   },
   "file_extension": ".py",
   "mimetype": "text/x-python",
   "name": "python",
   "nbconvert_exporter": "python",
   "pygments_lexer": "ipython3",
   "version": "3.7.12"
  },
  "papermill": {
   "default_parameters": {},
   "duration": 16.461816,
   "end_time": "2022-06-11T00:20:57.350660",
   "environment_variables": {},
   "exception": null,
   "input_path": "__notebook__.ipynb",
   "output_path": "__notebook__.ipynb",
   "parameters": {},
   "start_time": "2022-06-11T00:20:40.888844",
   "version": "2.3.3"
  }
 },
 "nbformat": 4,
 "nbformat_minor": 5
}
