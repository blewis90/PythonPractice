{
 "cells": [
  {
   "cell_type": "code",
   "execution_count": 1,
   "id": "f8cc1184",
   "metadata": {
    "_cell_guid": "b1076dfc-b9ad-4769-8c92-a6c4dae69d19",
    "_uuid": "8f2839f25d086af736a60e9eeb907d3b93b6e0e5",
    "execution": {
     "iopub.execute_input": "2022-03-20T22:45:17.293069Z",
     "iopub.status.busy": "2022-03-20T22:45:17.292546Z",
     "iopub.status.idle": "2022-03-20T22:45:17.298370Z",
     "shell.execute_reply": "2022-03-20T22:45:17.298789Z",
     "shell.execute_reply.started": "2022-03-20T22:42:14.344873Z"
    },
    "papermill": {
     "duration": 0.019446,
     "end_time": "2022-03-20T22:45:17.299066",
     "exception": false,
     "start_time": "2022-03-20T22:45:17.279620",
     "status": "completed"
    },
    "tags": []
   },
   "outputs": [],
   "source": [
    "# This Python 3 environment comes with many helpful analytics libraries installed\n",
    "# It is defined by the kaggle/python Docker image: https://github.com/kaggle/docker-python\n",
    "# For example, here's several helpful packages to load\n",
    "\n",
    "import numpy as np # linear algebra\n",
    "import pandas as pd # data processing, CSV file I/O (e.g. pd.read_csv)\n",
    "\n",
    "# Input data files are available in the read-only \"../input/\" directory\n",
    "# For example, running this (by clicking run or pressing Shift+Enter) will list all files under the input directory\n",
    "\n",
    "import os\n",
    "for dirname, _, filenames in os.walk('/kaggle/input'):\n",
    "    for filename in filenames:\n",
    "        print(os.path.join(dirname, filename))\n",
    "\n",
    "# You can write up to 20GB to the current directory (/kaggle/working/) that gets preserved as output when you create a version using \"Save & Run All\" \n",
    "# You can also write temporary files to /kaggle/temp/, but they won't be saved outside of the current session"
   ]
  },
  {
   "cell_type": "code",
   "execution_count": 2,
   "id": "0bb7785c",
   "metadata": {
    "execution": {
     "iopub.execute_input": "2022-03-20T22:45:17.310522Z",
     "iopub.status.busy": "2022-03-20T22:45:17.309851Z",
     "iopub.status.idle": "2022-03-20T22:45:17.314735Z",
     "shell.execute_reply": "2022-03-20T22:45:17.315304Z",
     "shell.execute_reply.started": "2022-03-20T22:42:54.585765Z"
    },
    "papermill": {
     "duration": 0.011956,
     "end_time": "2022-03-20T22:45:17.315502",
     "exception": false,
     "start_time": "2022-03-20T22:45:17.303546",
     "status": "completed"
    },
    "tags": []
   },
   "outputs": [
    {
     "name": "stdout",
     "output_type": "stream",
     "text": [
      "Hello Python interpreter\n"
     ]
    }
   ],
   "source": [
    "print(\"Hello Python interpreter\")"
   ]
  },
  {
   "cell_type": "code",
   "execution_count": null,
   "id": "a4968fe9",
   "metadata": {
    "papermill": {
     "duration": 0.003575,
     "end_time": "2022-03-20T22:45:17.325582",
     "exception": false,
     "start_time": "2022-03-20T22:45:17.322007",
     "status": "completed"
    },
    "tags": []
   },
   "outputs": [],
   "source": []
  }
 ],
 "metadata": {
  "kernelspec": {
   "display_name": "Python 3",
   "language": "python",
   "name": "python3"
  },
  "language_info": {
   "codemirror_mode": {
    "name": "ipython",
    "version": 3
   },
   "file_extension": ".py",
   "mimetype": "text/x-python",
   "name": "python",
   "nbconvert_exporter": "python",
   "pygments_lexer": "ipython3",
   "version": "3.7.12"
  },
  "papermill": {
   "default_parameters": {},
   "duration": 9.192864,
   "end_time": "2022-03-20T22:45:17.939703",
   "environment_variables": {},
   "exception": null,
   "input_path": "__notebook__.ipynb",
   "output_path": "__notebook__.ipynb",
   "parameters": {},
   "start_time": "2022-03-20T22:45:08.746839",
   "version": "2.3.3"
  }
 },
 "nbformat": 4,
 "nbformat_minor": 5
}
