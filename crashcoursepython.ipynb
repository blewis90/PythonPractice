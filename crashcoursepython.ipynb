{
 "cells": [
  {
   "cell_type": "markdown",
   "id": "8cea5235",
   "metadata": {
    "papermill": {
     "duration": 0.006235,
     "end_time": "2022-03-20T22:55:49.946102",
     "exception": false,
     "start_time": "2022-03-20T22:55:49.939867",
     "status": "completed"
    },
    "tags": []
   },
   "source": [
    "Simple Hello Message/ Getting started"
   ]
  },
  {
   "cell_type": "code",
   "execution_count": 1,
   "id": "89fd8ea1",
   "metadata": {
    "execution": {
     "iopub.execute_input": "2022-03-20T22:55:49.961779Z",
     "iopub.status.busy": "2022-03-20T22:55:49.960711Z",
     "iopub.status.idle": "2022-03-20T22:55:49.969604Z",
     "shell.execute_reply": "2022-03-20T22:55:49.970077Z",
     "shell.execute_reply.started": "2022-03-20T22:42:54.585765Z"
    },
    "papermill": {
     "duration": 0.018292,
     "end_time": "2022-03-20T22:55:49.970338",
     "exception": false,
     "start_time": "2022-03-20T22:55:49.952046",
     "status": "completed"
    },
    "tags": []
   },
   "outputs": [
    {
     "name": "stdout",
     "output_type": "stream",
     "text": [
      "Hello Python interpreter\n",
      "Hello Python World!\n",
      "Hello Python Crash Course world!\n"
     ]
    }
   ],
   "source": [
    "\n",
    "print(\"Hello Python interpreter\")\n",
    "message = \"Hello Python World!\"\n",
    "print(message)\n",
    "message = \"Hello Python Crash Course world!\"\n",
    "print(message)"
   ]
  },
  {
   "cell_type": "markdown",
   "id": "909bb25a",
   "metadata": {
    "papermill": {
     "duration": 0.005203,
     "end_time": "2022-03-20T22:55:49.981535",
     "exception": false,
     "start_time": "2022-03-20T22:55:49.976332",
     "status": "completed"
    },
    "tags": []
   },
   "source": [
    "Basic string commands"
   ]
  },
  {
   "cell_type": "code",
   "execution_count": 2,
   "id": "96ccda8e",
   "metadata": {
    "execution": {
     "iopub.execute_input": "2022-03-20T22:55:49.995125Z",
     "iopub.status.busy": "2022-03-20T22:55:49.994519Z",
     "iopub.status.idle": "2022-03-20T22:55:49.999336Z",
     "shell.execute_reply": "2022-03-20T22:55:49.999751Z",
     "shell.execute_reply.started": "2022-03-20T22:53:36.559707Z"
    },
    "papermill": {
     "duration": 0.012956,
     "end_time": "2022-03-20T22:55:49.999907",
     "exception": false,
     "start_time": "2022-03-20T22:55:49.986951",
     "status": "completed"
    },
    "tags": []
   },
   "outputs": [
    {
     "name": "stdout",
     "output_type": "stream",
     "text": [
      "Ada Lovelace\n",
      "ADA LOVELACE\n",
      "ada lovelace\n"
     ]
    }
   ],
   "source": [
    "name = \"ada lovelace\"\n",
    "print(name.title())\n",
    "print(name.upper())\n",
    "print(name.lower())"
   ]
  },
  {
   "cell_type": "markdown",
   "id": "a50850d9",
   "metadata": {
    "papermill": {
     "duration": 0.005452,
     "end_time": "2022-03-20T22:55:50.011206",
     "exception": false,
     "start_time": "2022-03-20T22:55:50.005754",
     "status": "completed"
    },
    "tags": []
   },
   "source": [
    "F-String - Way to concatenate multiple variables"
   ]
  },
  {
   "cell_type": "code",
   "execution_count": 3,
   "id": "d78ae0eb",
   "metadata": {
    "execution": {
     "iopub.execute_input": "2022-03-20T22:55:50.026007Z",
     "iopub.status.busy": "2022-03-20T22:55:50.025123Z",
     "iopub.status.idle": "2022-03-20T22:55:50.030359Z",
     "shell.execute_reply": "2022-03-20T22:55:50.030878Z",
     "shell.execute_reply.started": "2022-03-20T22:55:23.691337Z"
    },
    "papermill": {
     "duration": 0.014184,
     "end_time": "2022-03-20T22:55:50.031048",
     "exception": false,
     "start_time": "2022-03-20T22:55:50.016864",
     "status": "completed"
    },
    "tags": []
   },
   "outputs": [
    {
     "name": "stdout",
     "output_type": "stream",
     "text": [
      "ada lovelace\n",
      "Hello, Ada Lovelace!\n"
     ]
    }
   ],
   "source": [
    "first_name = \"ada\"\n",
    "last_name = \"lovelace\"\n",
    "full_name = f\"{first_name} {last_name}\"\n",
    "print(full_name)\n",
    "print(f\"Hello, {full_name.title()}!\")"
   ]
  },
  {
   "cell_type": "code",
   "execution_count": null,
   "id": "8b540c73",
   "metadata": {
    "papermill": {
     "duration": 0.005797,
     "end_time": "2022-03-20T22:55:50.042929",
     "exception": false,
     "start_time": "2022-03-20T22:55:50.037132",
     "status": "completed"
    },
    "tags": []
   },
   "outputs": [],
   "source": []
  }
 ],
 "metadata": {
  "kernelspec": {
   "display_name": "Python 3",
   "language": "python",
   "name": "python3"
  },
  "language_info": {
   "codemirror_mode": {
    "name": "ipython",
    "version": 3
   },
   "file_extension": ".py",
   "mimetype": "text/x-python",
   "name": "python",
   "nbconvert_exporter": "python",
   "pygments_lexer": "ipython3",
   "version": "3.7.12"
  },
  "papermill": {
   "default_parameters": {},
   "duration": 8.766879,
   "end_time": "2022-03-20T22:55:50.657871",
   "environment_variables": {},
   "exception": null,
   "input_path": "__notebook__.ipynb",
   "output_path": "__notebook__.ipynb",
   "parameters": {},
   "start_time": "2022-03-20T22:55:41.890992",
   "version": "2.3.3"
  }
 },
 "nbformat": 4,
 "nbformat_minor": 5
}
