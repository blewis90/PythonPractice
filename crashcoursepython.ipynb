{
 "cells": [
  {
   "cell_type": "markdown",
   "id": "b320cf7d",
   "metadata": {
    "papermill": {
     "duration": 0.047525,
     "end_time": "2022-06-11T00:21:43.875173",
     "exception": false,
     "start_time": "2022-06-11T00:21:43.827648",
     "status": "completed"
    },
    "tags": []
   },
   "source": [
    "Simple Hello Message/ Getting started"
   ]
  },
  {
   "cell_type": "code",
   "execution_count": 1,
   "id": "7fefedcc",
   "metadata": {
    "execution": {
     "iopub.execute_input": "2022-06-11T00:21:43.971425Z",
     "iopub.status.busy": "2022-06-11T00:21:43.970264Z",
     "iopub.status.idle": "2022-06-11T00:21:43.980783Z",
     "shell.execute_reply": "2022-06-11T00:21:43.981594Z",
     "shell.execute_reply.started": "2022-03-20T22:42:54.585765Z"
    },
    "papermill": {
     "duration": 0.060689,
     "end_time": "2022-06-11T00:21:43.981978",
     "exception": false,
     "start_time": "2022-06-11T00:21:43.921289",
     "status": "completed"
    },
    "tags": []
   },
   "outputs": [
    {
     "name": "stdout",
     "output_type": "stream",
     "text": [
      "Hello Python interpreter\n",
      "Hello Python World!\n",
      "Hello Python Crash Course world!\n"
     ]
    }
   ],
   "source": [
    "\n",
    "print(\"Hello Python interpreter\")\n",
    "message = \"Hello Python World!\"\n",
    "print(message)\n",
    "message = \"Hello Python Crash Course world!\"\n",
    "print(message)"
   ]
  },
  {
   "cell_type": "markdown",
   "id": "647ae931",
   "metadata": {
    "papermill": {
     "duration": 0.04845,
     "end_time": "2022-06-11T00:21:44.078816",
     "exception": false,
     "start_time": "2022-06-11T00:21:44.030366",
     "status": "completed"
    },
    "tags": []
   },
   "source": [
    "Basic string commands"
   ]
  },
  {
   "cell_type": "code",
   "execution_count": 2,
   "id": "e19aa9c2",
   "metadata": {
    "execution": {
     "iopub.execute_input": "2022-06-11T00:21:44.176009Z",
     "iopub.status.busy": "2022-06-11T00:21:44.175353Z",
     "iopub.status.idle": "2022-06-11T00:21:44.180869Z",
     "shell.execute_reply": "2022-06-11T00:21:44.181467Z",
     "shell.execute_reply.started": "2022-03-20T22:53:36.559707Z"
    },
    "papermill": {
     "duration": 0.055851,
     "end_time": "2022-06-11T00:21:44.181634",
     "exception": false,
     "start_time": "2022-06-11T00:21:44.125783",
     "status": "completed"
    },
    "tags": []
   },
   "outputs": [
    {
     "name": "stdout",
     "output_type": "stream",
     "text": [
      "Ada Lovelace\n",
      "ADA LOVELACE\n",
      "ada lovelace\n"
     ]
    }
   ],
   "source": [
    "name = \"ada lovelace\"\n",
    "print(name.title())\n",
    "print(name.upper())\n",
    "print(name.lower())"
   ]
  },
  {
   "cell_type": "markdown",
   "id": "4271e440",
   "metadata": {
    "papermill": {
     "duration": 0.046812,
     "end_time": "2022-06-11T00:21:44.276612",
     "exception": false,
     "start_time": "2022-06-11T00:21:44.229800",
     "status": "completed"
    },
    "tags": []
   },
   "source": [
    "F-String - Way to concatenate multiple variables"
   ]
  },
  {
   "cell_type": "code",
   "execution_count": 3,
   "id": "03d36b3b",
   "metadata": {
    "execution": {
     "iopub.execute_input": "2022-06-11T00:21:44.375123Z",
     "iopub.status.busy": "2022-06-11T00:21:44.374428Z",
     "iopub.status.idle": "2022-06-11T00:21:44.379715Z",
     "shell.execute_reply": "2022-06-11T00:21:44.380703Z",
     "shell.execute_reply.started": "2022-03-20T22:55:23.691337Z"
    },
    "papermill": {
     "duration": 0.057033,
     "end_time": "2022-06-11T00:21:44.380987",
     "exception": false,
     "start_time": "2022-06-11T00:21:44.323954",
     "status": "completed"
    },
    "tags": []
   },
   "outputs": [
    {
     "name": "stdout",
     "output_type": "stream",
     "text": [
      "ada lovelace\n",
      "Hello, Ada Lovelace!\n"
     ]
    }
   ],
   "source": [
    "first_name = \"ada\"\n",
    "last_name = \"lovelace\"\n",
    "full_name = f\"{first_name} {last_name}\"\n",
    "print(full_name)\n",
    "print(f\"Hello, {full_name.title()}!\")"
   ]
  },
  {
   "cell_type": "code",
   "execution_count": 4,
   "id": "b797b74f",
   "metadata": {
    "execution": {
     "iopub.execute_input": "2022-06-11T00:21:44.481381Z",
     "iopub.status.busy": "2022-06-11T00:21:44.480707Z",
     "iopub.status.idle": "2022-06-11T00:21:44.485952Z",
     "shell.execute_reply": "2022-06-11T00:21:44.486546Z",
     "shell.execute_reply.started": "2022-03-20T22:56:20.978913Z"
    },
    "papermill": {
     "duration": 0.056529,
     "end_time": "2022-06-11T00:21:44.486719",
     "exception": false,
     "start_time": "2022-06-11T00:21:44.430190",
     "status": "completed"
    },
    "tags": []
   },
   "outputs": [
    {
     "name": "stdout",
     "output_type": "stream",
     "text": [
      "ada lovelace\n",
      "Hello, Ada Lovelace!\n"
     ]
    }
   ],
   "source": [
    "first_name = \"ada\"\n",
    "last_name = \"lovelace\"\n",
    "full_name = f\"{first_name} {last_name}\"\n",
    "print(full_name)\n",
    "message = f\"Hello, {full_name.title()}!\"\n",
    "print(message)"
   ]
  },
  {
   "cell_type": "markdown",
   "id": "30da0cf7",
   "metadata": {
    "papermill": {
     "duration": 0.048297,
     "end_time": "2022-06-11T00:21:44.583472",
     "exception": false,
     "start_time": "2022-06-11T00:21:44.535175",
     "status": "completed"
    },
    "tags": []
   },
   "source": [
    "How to add Whitespace to strings with Tabs or Newlines"
   ]
  },
  {
   "cell_type": "code",
   "execution_count": 5,
   "id": "f7aecef6",
   "metadata": {
    "execution": {
     "iopub.execute_input": "2022-06-11T00:21:44.683392Z",
     "iopub.status.busy": "2022-06-11T00:21:44.682736Z",
     "iopub.status.idle": "2022-06-11T00:21:44.687127Z",
     "shell.execute_reply": "2022-06-11T00:21:44.687659Z",
     "shell.execute_reply.started": "2022-03-20T22:58:06.029247Z"
    },
    "papermill": {
     "duration": 0.056124,
     "end_time": "2022-06-11T00:21:44.687828",
     "exception": false,
     "start_time": "2022-06-11T00:21:44.631704",
     "status": "completed"
    },
    "tags": []
   },
   "outputs": [
    {
     "name": "stdout",
     "output_type": "stream",
     "text": [
      "Python\n",
      "\tPython\n"
     ]
    }
   ],
   "source": [
    "print(\"Python\")\n",
    "print(\"\\tPython\")"
   ]
  },
  {
   "cell_type": "code",
   "execution_count": 6,
   "id": "8acb8468",
   "metadata": {
    "execution": {
     "iopub.execute_input": "2022-06-11T00:21:44.797785Z",
     "iopub.status.busy": "2022-06-11T00:21:44.796857Z",
     "iopub.status.idle": "2022-06-11T00:21:44.802777Z",
     "shell.execute_reply": "2022-06-11T00:21:44.803577Z",
     "shell.execute_reply.started": "2022-03-20T22:58:49.214036Z"
    },
    "papermill": {
     "duration": 0.067305,
     "end_time": "2022-06-11T00:21:44.803804",
     "exception": false,
     "start_time": "2022-06-11T00:21:44.736499",
     "status": "completed"
    },
    "tags": []
   },
   "outputs": [
    {
     "name": "stdout",
     "output_type": "stream",
     "text": [
      "Languages:\n",
      "Python\n",
      "C\n",
      "Javascript\n"
     ]
    }
   ],
   "source": [
    "print(\"Languages:\\nPython\\nC\\nJavascript\")"
   ]
  },
  {
   "cell_type": "code",
   "execution_count": 7,
   "id": "0b9a0cba",
   "metadata": {
    "execution": {
     "iopub.execute_input": "2022-06-11T00:21:44.920764Z",
     "iopub.status.busy": "2022-06-11T00:21:44.920081Z",
     "iopub.status.idle": "2022-06-11T00:21:44.923484Z",
     "shell.execute_reply": "2022-06-11T00:21:44.924040Z",
     "shell.execute_reply.started": "2022-03-20T22:59:42.110725Z"
    },
    "papermill": {
     "duration": 0.06011,
     "end_time": "2022-06-11T00:21:44.924211",
     "exception": false,
     "start_time": "2022-06-11T00:21:44.864101",
     "status": "completed"
    },
    "tags": []
   },
   "outputs": [
    {
     "name": "stdout",
     "output_type": "stream",
     "text": [
      "Languages:\n",
      "\tPython\n",
      "\tC\n",
      "\tJavascript\n"
     ]
    }
   ],
   "source": [
    "print(\"Languages:\\n\\tPython\\n\\tC\\n\\tJavascript\")"
   ]
  },
  {
   "cell_type": "markdown",
   "id": "b1b3421a",
   "metadata": {
    "papermill": {
     "duration": 0.05003,
     "end_time": "2022-06-11T00:21:45.023290",
     "exception": false,
     "start_time": "2022-06-11T00:21:44.973260",
     "status": "completed"
    },
    "tags": []
   },
   "source": [
    "Removing Whitespace"
   ]
  },
  {
   "cell_type": "code",
   "execution_count": 8,
   "id": "a8e852ef",
   "metadata": {
    "execution": {
     "iopub.execute_input": "2022-06-11T00:21:45.127099Z",
     "iopub.status.busy": "2022-06-11T00:21:45.126419Z",
     "iopub.status.idle": "2022-06-11T00:21:45.132976Z",
     "shell.execute_reply": "2022-06-11T00:21:45.133519Z",
     "shell.execute_reply.started": "2022-03-20T23:01:53.78281Z"
    },
    "papermill": {
     "duration": 0.059979,
     "end_time": "2022-06-11T00:21:45.133686",
     "exception": false,
     "start_time": "2022-06-11T00:21:45.073707",
     "status": "completed"
    },
    "tags": []
   },
   "outputs": [
    {
     "data": {
      "text/plain": [
       "'python'"
      ]
     },
     "execution_count": 8,
     "metadata": {},
     "output_type": "execute_result"
    }
   ],
   "source": [
    "favorite_language = \"python \"\n",
    "favorite_language\n",
    "favorite_language.rstrip()\n",
    "# right strip"
   ]
  },
  {
   "cell_type": "code",
   "execution_count": 9,
   "id": "0bb72345",
   "metadata": {
    "execution": {
     "iopub.execute_input": "2022-06-11T00:21:45.236113Z",
     "iopub.status.busy": "2022-06-11T00:21:45.235444Z",
     "iopub.status.idle": "2022-06-11T00:21:45.240178Z",
     "shell.execute_reply": "2022-06-11T00:21:45.240673Z",
     "shell.execute_reply.started": "2022-03-20T23:02:37.05996Z"
    },
    "papermill": {
     "duration": 0.057255,
     "end_time": "2022-06-11T00:21:45.240841",
     "exception": false,
     "start_time": "2022-06-11T00:21:45.183586",
     "status": "completed"
    },
    "tags": []
   },
   "outputs": [
    {
     "data": {
      "text/plain": [
       "'python'"
      ]
     },
     "execution_count": 9,
     "metadata": {},
     "output_type": "execute_result"
    }
   ],
   "source": [
    "favorite_language = \" python \"\n",
    "favorite_language\n",
    "favorite_language.strip()\n",
    "# strip both sides"
   ]
  },
  {
   "cell_type": "markdown",
   "id": "61c40e71",
   "metadata": {
    "papermill": {
     "duration": 0.050325,
     "end_time": "2022-06-11T00:21:45.340581",
     "exception": false,
     "start_time": "2022-06-11T00:21:45.290256",
     "status": "completed"
    },
    "tags": []
   },
   "source": [
    "Integers"
   ]
  },
  {
   "cell_type": "code",
   "execution_count": 10,
   "id": "a5932d51",
   "metadata": {
    "execution": {
     "iopub.execute_input": "2022-06-11T00:21:45.443370Z",
     "iopub.status.busy": "2022-06-11T00:21:45.442681Z",
     "iopub.status.idle": "2022-06-11T00:21:45.447353Z",
     "shell.execute_reply": "2022-06-11T00:21:45.447841Z",
     "shell.execute_reply.started": "2022-03-20T23:05:23.54621Z"
    },
    "papermill": {
     "duration": 0.057629,
     "end_time": "2022-06-11T00:21:45.448032",
     "exception": false,
     "start_time": "2022-06-11T00:21:45.390403",
     "status": "completed"
    },
    "tags": []
   },
   "outputs": [
    {
     "data": {
      "text/plain": [
       "5"
      ]
     },
     "execution_count": 10,
     "metadata": {},
     "output_type": "execute_result"
    }
   ],
   "source": [
    "2+3"
   ]
  },
  {
   "cell_type": "code",
   "execution_count": 11,
   "id": "0bad3428",
   "metadata": {
    "execution": {
     "iopub.execute_input": "2022-06-11T00:21:45.553133Z",
     "iopub.status.busy": "2022-06-11T00:21:45.552434Z",
     "iopub.status.idle": "2022-06-11T00:21:45.555070Z",
     "shell.execute_reply": "2022-06-11T00:21:45.555575Z",
     "shell.execute_reply.started": "2022-03-20T23:05:29.47834Z"
    },
    "papermill": {
     "duration": 0.057789,
     "end_time": "2022-06-11T00:21:45.555748",
     "exception": false,
     "start_time": "2022-06-11T00:21:45.497959",
     "status": "completed"
    },
    "tags": []
   },
   "outputs": [
    {
     "data": {
      "text/plain": [
       "1"
      ]
     },
     "execution_count": 11,
     "metadata": {},
     "output_type": "execute_result"
    }
   ],
   "source": [
    "3 -2"
   ]
  },
  {
   "cell_type": "code",
   "execution_count": 12,
   "id": "cedb8a2a",
   "metadata": {
    "execution": {
     "iopub.execute_input": "2022-06-11T00:21:45.663287Z",
     "iopub.status.busy": "2022-06-11T00:21:45.662551Z",
     "iopub.status.idle": "2022-06-11T00:21:45.665255Z",
     "shell.execute_reply": "2022-06-11T00:21:45.665746Z",
     "shell.execute_reply.started": "2022-03-20T23:05:34.437171Z"
    },
    "papermill": {
     "duration": 0.058312,
     "end_time": "2022-06-11T00:21:45.665911",
     "exception": false,
     "start_time": "2022-06-11T00:21:45.607599",
     "status": "completed"
    },
    "tags": []
   },
   "outputs": [
    {
     "data": {
      "text/plain": [
       "6"
      ]
     },
     "execution_count": 12,
     "metadata": {},
     "output_type": "execute_result"
    }
   ],
   "source": [
    "2 * 3"
   ]
  },
  {
   "cell_type": "code",
   "execution_count": 13,
   "id": "03953309",
   "metadata": {
    "execution": {
     "iopub.execute_input": "2022-06-11T00:21:45.774914Z",
     "iopub.status.busy": "2022-06-11T00:21:45.772100Z",
     "iopub.status.idle": "2022-06-11T00:21:45.779162Z",
     "shell.execute_reply": "2022-06-11T00:21:45.779815Z",
     "shell.execute_reply.started": "2022-03-20T23:05:38.513282Z"
    },
    "papermill": {
     "duration": 0.061573,
     "end_time": "2022-06-11T00:21:45.780015",
     "exception": false,
     "start_time": "2022-06-11T00:21:45.718442",
     "status": "completed"
    },
    "tags": []
   },
   "outputs": [
    {
     "data": {
      "text/plain": [
       "1.5"
      ]
     },
     "execution_count": 13,
     "metadata": {},
     "output_type": "execute_result"
    }
   ],
   "source": [
    "3/2"
   ]
  },
  {
   "cell_type": "code",
   "execution_count": 14,
   "id": "6196f534",
   "metadata": {
    "execution": {
     "iopub.execute_input": "2022-06-11T00:21:45.890125Z",
     "iopub.status.busy": "2022-06-11T00:21:45.889434Z",
     "iopub.status.idle": "2022-06-11T00:21:45.894219Z",
     "shell.execute_reply": "2022-06-11T00:21:45.894734Z",
     "shell.execute_reply.started": "2022-03-20T23:05:47.367053Z"
    },
    "papermill": {
     "duration": 0.059537,
     "end_time": "2022-06-11T00:21:45.894905",
     "exception": false,
     "start_time": "2022-06-11T00:21:45.835368",
     "status": "completed"
    },
    "tags": []
   },
   "outputs": [
    {
     "data": {
      "text/plain": [
       "9"
      ]
     },
     "execution_count": 14,
     "metadata": {},
     "output_type": "execute_result"
    }
   ],
   "source": [
    "3 **2"
   ]
  },
  {
   "cell_type": "code",
   "execution_count": 15,
   "id": "360171d0",
   "metadata": {
    "execution": {
     "iopub.execute_input": "2022-06-11T00:21:46.005354Z",
     "iopub.status.busy": "2022-06-11T00:21:46.004508Z",
     "iopub.status.idle": "2022-06-11T00:21:46.007638Z",
     "shell.execute_reply": "2022-06-11T00:21:46.008165Z",
     "shell.execute_reply.started": "2022-03-20T23:06:02.274379Z"
    },
    "papermill": {
     "duration": 0.060289,
     "end_time": "2022-06-11T00:21:46.008350",
     "exception": false,
     "start_time": "2022-06-11T00:21:45.948061",
     "status": "completed"
    },
    "tags": []
   },
   "outputs": [
    {
     "data": {
      "text/plain": [
       "14"
      ]
     },
     "execution_count": 15,
     "metadata": {},
     "output_type": "execute_result"
    }
   ],
   "source": [
    "2 + 3*4"
   ]
  },
  {
   "cell_type": "code",
   "execution_count": 16,
   "id": "893bf62d",
   "metadata": {
    "execution": {
     "iopub.execute_input": "2022-06-11T00:21:46.119613Z",
     "iopub.status.busy": "2022-06-11T00:21:46.118792Z",
     "iopub.status.idle": "2022-06-11T00:21:46.121960Z",
     "shell.execute_reply": "2022-06-11T00:21:46.122477Z",
     "shell.execute_reply.started": "2022-03-20T23:06:20.162287Z"
    },
    "papermill": {
     "duration": 0.061457,
     "end_time": "2022-06-11T00:21:46.122642",
     "exception": false,
     "start_time": "2022-06-11T00:21:46.061185",
     "status": "completed"
    },
    "tags": []
   },
   "outputs": [
    {
     "data": {
      "text/plain": [
       "14"
      ]
     },
     "execution_count": 16,
     "metadata": {},
     "output_type": "execute_result"
    }
   ],
   "source": [
    "(2+3 * 4)"
   ]
  },
  {
   "cell_type": "code",
   "execution_count": 17,
   "id": "262344b3",
   "metadata": {
    "execution": {
     "iopub.execute_input": "2022-06-11T00:21:46.232077Z",
     "iopub.status.busy": "2022-06-11T00:21:46.229987Z",
     "iopub.status.idle": "2022-06-11T00:21:46.235111Z",
     "shell.execute_reply": "2022-06-11T00:21:46.235574Z",
     "shell.execute_reply.started": "2022-03-20T23:06:49.606291Z"
    },
    "papermill": {
     "duration": 0.060841,
     "end_time": "2022-06-11T00:21:46.235751",
     "exception": false,
     "start_time": "2022-06-11T00:21:46.174910",
     "status": "completed"
    },
    "tags": []
   },
   "outputs": [
    {
     "data": {
      "text/plain": [
       "0.2"
      ]
     },
     "execution_count": 17,
     "metadata": {},
     "output_type": "execute_result"
    }
   ],
   "source": [
    "0.1 + 0.1"
   ]
  },
  {
   "cell_type": "code",
   "execution_count": 18,
   "id": "b9b7a8de",
   "metadata": {
    "execution": {
     "iopub.execute_input": "2022-06-11T00:21:46.346901Z",
     "iopub.status.busy": "2022-06-11T00:21:46.346271Z",
     "iopub.status.idle": "2022-06-11T00:21:46.349679Z",
     "shell.execute_reply": "2022-06-11T00:21:46.350143Z",
     "shell.execute_reply.started": "2022-03-20T23:06:54.586338Z"
    },
    "papermill": {
     "duration": 0.061646,
     "end_time": "2022-06-11T00:21:46.350316",
     "exception": false,
     "start_time": "2022-06-11T00:21:46.288670",
     "status": "completed"
    },
    "tags": []
   },
   "outputs": [
    {
     "data": {
      "text/plain": [
       "0.4"
      ]
     },
     "execution_count": 18,
     "metadata": {},
     "output_type": "execute_result"
    }
   ],
   "source": [
    "0.2 + 0.2"
   ]
  },
  {
   "cell_type": "code",
   "execution_count": 19,
   "id": "8f8661ca",
   "metadata": {
    "execution": {
     "iopub.execute_input": "2022-06-11T00:21:46.461381Z",
     "iopub.status.busy": "2022-06-11T00:21:46.460636Z",
     "iopub.status.idle": "2022-06-11T00:21:46.464226Z",
     "shell.execute_reply": "2022-06-11T00:21:46.463585Z",
     "shell.execute_reply.started": "2022-03-20T23:07:01.256757Z"
    },
    "papermill": {
     "duration": 0.060905,
     "end_time": "2022-06-11T00:21:46.464374",
     "exception": false,
     "start_time": "2022-06-11T00:21:46.403469",
     "status": "completed"
    },
    "tags": []
   },
   "outputs": [
    {
     "data": {
      "text/plain": [
       "0.2"
      ]
     },
     "execution_count": 19,
     "metadata": {},
     "output_type": "execute_result"
    }
   ],
   "source": [
    "2 * 0.1"
   ]
  },
  {
   "cell_type": "code",
   "execution_count": 20,
   "id": "406c873e",
   "metadata": {
    "execution": {
     "iopub.execute_input": "2022-06-11T00:21:46.577422Z",
     "iopub.status.busy": "2022-06-11T00:21:46.575110Z",
     "iopub.status.idle": "2022-06-11T00:21:46.579770Z",
     "shell.execute_reply": "2022-06-11T00:21:46.580356Z",
     "shell.execute_reply.started": "2022-03-20T23:07:10.196255Z"
    },
    "papermill": {
     "duration": 0.062199,
     "end_time": "2022-06-11T00:21:46.580538",
     "exception": false,
     "start_time": "2022-06-11T00:21:46.518339",
     "status": "completed"
    },
    "tags": []
   },
   "outputs": [
    {
     "data": {
      "text/plain": [
       "0.4"
      ]
     },
     "execution_count": 20,
     "metadata": {},
     "output_type": "execute_result"
    }
   ],
   "source": [
    "2* 0.2"
   ]
  },
  {
   "cell_type": "code",
   "execution_count": 21,
   "id": "1b7aec20",
   "metadata": {
    "execution": {
     "iopub.execute_input": "2022-06-11T00:21:46.694757Z",
     "iopub.status.busy": "2022-06-11T00:21:46.692694Z",
     "iopub.status.idle": "2022-06-11T00:21:46.698569Z",
     "shell.execute_reply": "2022-06-11T00:21:46.699306Z",
     "shell.execute_reply.started": "2022-03-20T23:07:33.034775Z"
    },
    "papermill": {
     "duration": 0.063967,
     "end_time": "2022-06-11T00:21:46.699503",
     "exception": false,
     "start_time": "2022-06-11T00:21:46.635536",
     "status": "completed"
    },
    "tags": []
   },
   "outputs": [
    {
     "data": {
      "text/plain": [
       "2.0"
      ]
     },
     "execution_count": 21,
     "metadata": {},
     "output_type": "execute_result"
    }
   ],
   "source": [
    "4/ 2"
   ]
  },
  {
   "cell_type": "markdown",
   "id": "03e82a05",
   "metadata": {
    "papermill": {
     "duration": 0.053834,
     "end_time": "2022-06-11T00:21:46.808563",
     "exception": false,
     "start_time": "2022-06-11T00:21:46.754729",
     "status": "completed"
    },
    "tags": []
   },
   "source": [
    "Mulitple Assignments and others"
   ]
  },
  {
   "cell_type": "code",
   "execution_count": 22,
   "id": "0933cc07",
   "metadata": {
    "execution": {
     "iopub.execute_input": "2022-06-11T00:21:46.921749Z",
     "iopub.status.busy": "2022-06-11T00:21:46.921034Z",
     "iopub.status.idle": "2022-06-11T00:21:46.924756Z",
     "shell.execute_reply": "2022-06-11T00:21:46.925321Z",
     "shell.execute_reply.started": "2022-03-20T23:08:31.197649Z"
    },
    "papermill": {
     "duration": 0.062511,
     "end_time": "2022-06-11T00:21:46.925496",
     "exception": false,
     "start_time": "2022-06-11T00:21:46.862985",
     "status": "completed"
    },
    "tags": []
   },
   "outputs": [],
   "source": [
    "x,y,z = 0,0,0"
   ]
  },
  {
   "cell_type": "code",
   "execution_count": 23,
   "id": "42e7c041",
   "metadata": {
    "execution": {
     "iopub.execute_input": "2022-06-11T00:21:47.038887Z",
     "iopub.status.busy": "2022-06-11T00:21:47.038223Z",
     "iopub.status.idle": "2022-06-11T00:21:47.041330Z",
     "shell.execute_reply": "2022-06-11T00:21:47.041912Z",
     "shell.execute_reply.started": "2022-03-20T23:08:53.704601Z"
    },
    "papermill": {
     "duration": 0.061713,
     "end_time": "2022-06-11T00:21:47.042107",
     "exception": false,
     "start_time": "2022-06-11T00:21:46.980394",
     "status": "completed"
    },
    "tags": []
   },
   "outputs": [],
   "source": [
    "MAX_CONNECTIONS = 5000"
   ]
  },
  {
   "cell_type": "code",
   "execution_count": 24,
   "id": "5a32d254",
   "metadata": {
    "execution": {
     "iopub.execute_input": "2022-06-11T00:21:47.154152Z",
     "iopub.status.busy": "2022-06-11T00:21:47.153462Z",
     "iopub.status.idle": "2022-06-11T00:21:47.156294Z",
     "shell.execute_reply": "2022-06-11T00:21:47.156864Z",
     "shell.execute_reply.started": "2022-03-20T23:09:59.637329Z"
    },
    "papermill": {
     "duration": 0.060376,
     "end_time": "2022-06-11T00:21:47.157058",
     "exception": false,
     "start_time": "2022-06-11T00:21:47.096682",
     "status": "completed"
    },
    "tags": []
   },
   "outputs": [],
   "source": [
    "###This is a comment"
   ]
  },
  {
   "cell_type": "code",
   "execution_count": 25,
   "id": "dc84d033",
   "metadata": {
    "execution": {
     "iopub.execute_input": "2022-06-11T00:21:47.268491Z",
     "iopub.status.busy": "2022-06-11T00:21:47.267831Z",
     "iopub.status.idle": "2022-06-11T00:21:47.274489Z",
     "shell.execute_reply": "2022-06-11T00:21:47.275007Z",
     "shell.execute_reply.started": "2022-03-20T23:10:03.902779Z"
    },
    "papermill": {
     "duration": 0.063955,
     "end_time": "2022-06-11T00:21:47.275176",
     "exception": false,
     "start_time": "2022-06-11T00:21:47.211221",
     "status": "completed"
    },
    "tags": []
   },
   "outputs": [
    {
     "name": "stdout",
     "output_type": "stream",
     "text": [
      "The Zen of Python, by Tim Peters\n",
      "\n",
      "Beautiful is better than ugly.\n",
      "Explicit is better than implicit.\n",
      "Simple is better than complex.\n",
      "Complex is better than complicated.\n",
      "Flat is better than nested.\n",
      "Sparse is better than dense.\n",
      "Readability counts.\n",
      "Special cases aren't special enough to break the rules.\n",
      "Although practicality beats purity.\n",
      "Errors should never pass silently.\n",
      "Unless explicitly silenced.\n",
      "In the face of ambiguity, refuse the temptation to guess.\n",
      "There should be one-- and preferably only one --obvious way to do it.\n",
      "Although that way may not be obvious at first unless you're Dutch.\n",
      "Now is better than never.\n",
      "Although never is often better than *right* now.\n",
      "If the implementation is hard to explain, it's a bad idea.\n",
      "If the implementation is easy to explain, it may be a good idea.\n",
      "Namespaces are one honking great idea -- let's do more of those!\n"
     ]
    }
   ],
   "source": [
    "import this"
   ]
  },
  {
   "cell_type": "markdown",
   "id": "efd71169",
   "metadata": {
    "papermill": {
     "duration": 0.054194,
     "end_time": "2022-06-11T00:21:47.383799",
     "exception": false,
     "start_time": "2022-06-11T00:21:47.329605",
     "status": "completed"
    },
    "tags": []
   },
   "source": [
    "Chapter 3: Lists"
   ]
  },
  {
   "cell_type": "code",
   "execution_count": 26,
   "id": "517509ba",
   "metadata": {
    "execution": {
     "iopub.execute_input": "2022-06-11T00:21:47.496962Z",
     "iopub.status.busy": "2022-06-11T00:21:47.495980Z",
     "iopub.status.idle": "2022-06-11T00:21:47.503629Z",
     "shell.execute_reply": "2022-06-11T00:21:47.502825Z",
     "shell.execute_reply.started": "2022-03-21T02:20:35.078408Z"
    },
    "papermill": {
     "duration": 0.065251,
     "end_time": "2022-06-11T00:21:47.503816",
     "exception": false,
     "start_time": "2022-06-11T00:21:47.438565",
     "status": "completed"
    },
    "tags": []
   },
   "outputs": [
    {
     "name": "stdout",
     "output_type": "stream",
     "text": [
      "['trek', 'cannondale', 'redline', 'specialized']\n",
      "trek\n",
      "Trek\n",
      "cannondale\n",
      "specialized\n",
      "specialized\n"
     ]
    }
   ],
   "source": [
    "bicycles = ['trek','cannondale','redline','specialized']\n",
    "print(bicycles)\n",
    "print(bicycles[0])\n",
    "print(bicycles[0].title())\n",
    "print(bicycles[1])\n",
    "print(bicycles[3])\n",
    "print(bicycles[-1])\n"
   ]
  },
  {
   "cell_type": "code",
   "execution_count": 27,
   "id": "af1f5298",
   "metadata": {
    "execution": {
     "iopub.execute_input": "2022-06-11T00:21:47.620146Z",
     "iopub.status.busy": "2022-06-11T00:21:47.619513Z",
     "iopub.status.idle": "2022-06-11T00:21:47.624376Z",
     "shell.execute_reply": "2022-06-11T00:21:47.625047Z",
     "shell.execute_reply.started": "2022-03-21T02:21:51.192743Z"
    },
    "papermill": {
     "duration": 0.063977,
     "end_time": "2022-06-11T00:21:47.625279",
     "exception": false,
     "start_time": "2022-06-11T00:21:47.561302",
     "status": "completed"
    },
    "tags": []
   },
   "outputs": [
    {
     "name": "stdout",
     "output_type": "stream",
     "text": [
      "My first bicycle was a Trek.\n"
     ]
    }
   ],
   "source": [
    "message = f\"My first bicycle was a {bicycles[0].title()}.\"\n",
    "print(message)"
   ]
  },
  {
   "cell_type": "code",
   "execution_count": 28,
   "id": "d559d1c4",
   "metadata": {
    "execution": {
     "iopub.execute_input": "2022-06-11T00:21:47.742094Z",
     "iopub.status.busy": "2022-06-11T00:21:47.741413Z",
     "iopub.status.idle": "2022-06-11T00:21:47.747359Z",
     "shell.execute_reply": "2022-06-11T00:21:47.746769Z",
     "shell.execute_reply.started": "2022-03-21T02:25:16.287671Z"
    },
    "papermill": {
     "duration": 0.065899,
     "end_time": "2022-06-11T00:21:47.747507",
     "exception": false,
     "start_time": "2022-06-11T00:21:47.681608",
     "status": "completed"
    },
    "tags": []
   },
   "outputs": [
    {
     "name": "stdout",
     "output_type": "stream",
     "text": [
      "['honda', 'yamaha', 'suzuki']\n"
     ]
    }
   ],
   "source": [
    "motorcycles = ['honda','yamaha','suzuki']\n",
    "print(motorcycles)\n"
   ]
  },
  {
   "cell_type": "code",
   "execution_count": 29,
   "id": "91899b44",
   "metadata": {
    "execution": {
     "iopub.execute_input": "2022-06-11T00:21:47.865814Z",
     "iopub.status.busy": "2022-06-11T00:21:47.864973Z",
     "iopub.status.idle": "2022-06-11T00:21:47.867903Z",
     "shell.execute_reply": "2022-06-11T00:21:47.868408Z",
     "shell.execute_reply.started": "2022-03-21T02:26:08.092314Z"
    },
    "papermill": {
     "duration": 0.06509,
     "end_time": "2022-06-11T00:21:47.868590",
     "exception": false,
     "start_time": "2022-06-11T00:21:47.803500",
     "status": "completed"
    },
    "tags": []
   },
   "outputs": [
    {
     "name": "stdout",
     "output_type": "stream",
     "text": [
      "['ducati', 'yamaha', 'suzuki']\n"
     ]
    }
   ],
   "source": [
    "motorcycles[0] = 'ducati'\n",
    "print(motorcycles)"
   ]
  },
  {
   "cell_type": "code",
   "execution_count": 30,
   "id": "9df8e69d",
   "metadata": {
    "execution": {
     "iopub.execute_input": "2022-06-11T00:21:47.987358Z",
     "iopub.status.busy": "2022-06-11T00:21:47.986588Z",
     "iopub.status.idle": "2022-06-11T00:21:47.989541Z",
     "shell.execute_reply": "2022-06-11T00:21:47.990081Z",
     "shell.execute_reply.started": "2022-03-21T02:27:07.762868Z"
    },
    "papermill": {
     "duration": 0.065078,
     "end_time": "2022-06-11T00:21:47.990255",
     "exception": false,
     "start_time": "2022-06-11T00:21:47.925177",
     "status": "completed"
    },
    "tags": []
   },
   "outputs": [
    {
     "name": "stdout",
     "output_type": "stream",
     "text": [
      "['honda', 'yamaha', 'suzuki']\n",
      "['honda', 'yamaha', 'suzuki', 'ducati']\n"
     ]
    }
   ],
   "source": [
    "motorcycles = ['honda','yamaha','suzuki']\n",
    "print(motorcycles)\n",
    "motorcycles.append('ducati')\n",
    "print(motorcycles)\n"
   ]
  },
  {
   "cell_type": "code",
   "execution_count": 31,
   "id": "6c27ffe4",
   "metadata": {
    "execution": {
     "iopub.execute_input": "2022-06-11T00:21:48.111264Z",
     "iopub.status.busy": "2022-06-11T00:21:48.110500Z",
     "iopub.status.idle": "2022-06-11T00:21:48.113486Z",
     "shell.execute_reply": "2022-06-11T00:21:48.113962Z",
     "shell.execute_reply.started": "2022-03-21T02:28:13.574436Z"
    },
    "papermill": {
     "duration": 0.065969,
     "end_time": "2022-06-11T00:21:48.114164",
     "exception": false,
     "start_time": "2022-06-11T00:21:48.048195",
     "status": "completed"
    },
    "tags": []
   },
   "outputs": [
    {
     "name": "stdout",
     "output_type": "stream",
     "text": [
      "['ducati', 'honda', 'yamaha', 'suzuki']\n"
     ]
    }
   ],
   "source": [
    "motorcycles = ['honda','yamaha','suzuki']\n",
    "motorcycles.insert(0,'ducati')\n",
    "print(motorcycles)"
   ]
  },
  {
   "cell_type": "code",
   "execution_count": 32,
   "id": "43939a20",
   "metadata": {
    "execution": {
     "iopub.execute_input": "2022-06-11T00:21:48.237235Z",
     "iopub.status.busy": "2022-06-11T00:21:48.236531Z",
     "iopub.status.idle": "2022-06-11T00:21:48.239092Z",
     "shell.execute_reply": "2022-06-11T00:21:48.239576Z",
     "shell.execute_reply.started": "2022-03-21T02:29:13.669717Z"
    },
    "papermill": {
     "duration": 0.066286,
     "end_time": "2022-06-11T00:21:48.239739",
     "exception": false,
     "start_time": "2022-06-11T00:21:48.173453",
     "status": "completed"
    },
    "tags": []
   },
   "outputs": [
    {
     "name": "stdout",
     "output_type": "stream",
     "text": [
      "['honda', 'yamaha', 'suzuki']\n",
      "['yamaha', 'suzuki']\n"
     ]
    }
   ],
   "source": [
    "motorcycles = ['honda','yamaha','suzuki']\n",
    "print(motorcycles)\n",
    "del motorcycles[0]\n",
    "print(motorcycles)"
   ]
  },
  {
   "cell_type": "code",
   "execution_count": 33,
   "id": "0eed4740",
   "metadata": {
    "execution": {
     "iopub.execute_input": "2022-06-11T00:21:48.361513Z",
     "iopub.status.busy": "2022-06-11T00:21:48.360673Z",
     "iopub.status.idle": "2022-06-11T00:21:48.364309Z",
     "shell.execute_reply": "2022-06-11T00:21:48.363676Z",
     "shell.execute_reply.started": "2022-03-21T02:32:01.365505Z"
    },
    "papermill": {
     "duration": 0.066507,
     "end_time": "2022-06-11T00:21:48.364464",
     "exception": false,
     "start_time": "2022-06-11T00:21:48.297957",
     "status": "completed"
    },
    "tags": []
   },
   "outputs": [
    {
     "name": "stdout",
     "output_type": "stream",
     "text": [
      "['honda', 'yamaha', 'suzuki']\n",
      "['honda', 'suzuki']\n",
      "yamaha\n"
     ]
    }
   ],
   "source": [
    "motorcycles = ['honda','yamaha','suzuki']\n",
    "print(motorcycles)\n",
    "popped_motorcycle = motorcycles.pop(1)\n",
    "print(motorcycles)\n",
    "print(popped_motorcycle)"
   ]
  },
  {
   "cell_type": "code",
   "execution_count": 34,
   "id": "5ce11ce0",
   "metadata": {
    "execution": {
     "iopub.execute_input": "2022-06-11T00:21:48.486182Z",
     "iopub.status.busy": "2022-06-11T00:21:48.485469Z",
     "iopub.status.idle": "2022-06-11T00:21:48.487948Z",
     "shell.execute_reply": "2022-06-11T00:21:48.488453Z",
     "shell.execute_reply.started": "2022-03-21T02:33:50.250707Z"
    },
    "papermill": {
     "duration": 0.065663,
     "end_time": "2022-06-11T00:21:48.488630",
     "exception": false,
     "start_time": "2022-06-11T00:21:48.422967",
     "status": "completed"
    },
    "tags": []
   },
   "outputs": [
    {
     "name": "stdout",
     "output_type": "stream",
     "text": [
      "['honda', 'yamaha', 'suzuki', 'ducati']\n",
      "['honda', 'yamaha', 'suzuki']\n"
     ]
    }
   ],
   "source": [
    "motorcycles = ['honda','yamaha','suzuki','ducati']\n",
    "print(motorcycles)\n",
    "motorcycles.remove('ducati')\n",
    "print(motorcycles)"
   ]
  },
  {
   "cell_type": "markdown",
   "id": "e42888c5",
   "metadata": {
    "papermill": {
     "duration": 0.059186,
     "end_time": "2022-06-11T00:21:48.607137",
     "exception": false,
     "start_time": "2022-06-11T00:21:48.547951",
     "status": "completed"
    },
    "tags": []
   },
   "source": [
    "**Organizing a List**"
   ]
  },
  {
   "cell_type": "code",
   "execution_count": 35,
   "id": "ef6baf6a",
   "metadata": {
    "execution": {
     "iopub.execute_input": "2022-06-11T00:21:48.730870Z",
     "iopub.status.busy": "2022-06-11T00:21:48.730221Z",
     "iopub.status.idle": "2022-06-11T00:21:48.734730Z",
     "shell.execute_reply": "2022-06-11T00:21:48.735277Z",
     "shell.execute_reply.started": "2022-03-21T02:37:07.935487Z"
    },
    "papermill": {
     "duration": 0.068031,
     "end_time": "2022-06-11T00:21:48.735451",
     "exception": false,
     "start_time": "2022-06-11T00:21:48.667420",
     "status": "completed"
    },
    "tags": []
   },
   "outputs": [
    {
     "name": "stdout",
     "output_type": "stream",
     "text": [
      "['audi', 'bmw', 'subaru', 'toyota']\n",
      "['toyota', 'subaru', 'bmw', 'audi']\n"
     ]
    }
   ],
   "source": [
    "cars = ['bmw','audi','toyota','subaru']\n",
    "cars.sort()\n",
    "print(cars)\n",
    "cars.sort(reverse=True)\n",
    "print(cars)\n"
   ]
  },
  {
   "cell_type": "code",
   "execution_count": 36,
   "id": "37990b83",
   "metadata": {
    "execution": {
     "iopub.execute_input": "2022-06-11T00:21:48.859224Z",
     "iopub.status.busy": "2022-06-11T00:21:48.858191Z",
     "iopub.status.idle": "2022-06-11T00:21:48.862710Z",
     "shell.execute_reply": "2022-06-11T00:21:48.862207Z",
     "shell.execute_reply.started": "2022-03-21T02:38:07.446176Z"
    },
    "papermill": {
     "duration": 0.068642,
     "end_time": "2022-06-11T00:21:48.862857",
     "exception": false,
     "start_time": "2022-06-11T00:21:48.794215",
     "status": "completed"
    },
    "tags": []
   },
   "outputs": [
    {
     "name": "stdout",
     "output_type": "stream",
     "text": [
      "['bmw', 'audi', 'toyota', 'subaru']\n",
      "['audi', 'bmw', 'subaru', 'toyota']\n",
      "['bmw', 'audi', 'toyota', 'subaru']\n"
     ]
    }
   ],
   "source": [
    "cars = ['bmw','audi','toyota','subaru']\n",
    "print(cars)\n",
    "print(sorted(cars))\n",
    "print(cars)"
   ]
  },
  {
   "cell_type": "code",
   "execution_count": 37,
   "id": "ca01d487",
   "metadata": {
    "execution": {
     "iopub.execute_input": "2022-06-11T00:21:48.989379Z",
     "iopub.status.busy": "2022-06-11T00:21:48.988680Z",
     "iopub.status.idle": "2022-06-11T00:21:48.991736Z",
     "shell.execute_reply": "2022-06-11T00:21:48.991124Z",
     "shell.execute_reply.started": "2022-03-21T02:40:44.985121Z"
    },
    "papermill": {
     "duration": 0.068257,
     "end_time": "2022-06-11T00:21:48.991876",
     "exception": false,
     "start_time": "2022-06-11T00:21:48.923619",
     "status": "completed"
    },
    "tags": []
   },
   "outputs": [
    {
     "name": "stdout",
     "output_type": "stream",
     "text": [
      "['subaru', 'toyota', 'audi', 'bmw']\n"
     ]
    }
   ],
   "source": [
    "cars = ['bmw','audi','toyota','subaru']\n",
    "cars.reverse()\n",
    "print(cars)"
   ]
  },
  {
   "cell_type": "code",
   "execution_count": 38,
   "id": "0c4593a4",
   "metadata": {
    "execution": {
     "iopub.execute_input": "2022-06-11T00:21:49.118307Z",
     "iopub.status.busy": "2022-06-11T00:21:49.117569Z",
     "iopub.status.idle": "2022-06-11T00:21:49.121138Z",
     "shell.execute_reply": "2022-06-11T00:21:49.120472Z",
     "shell.execute_reply.started": "2022-03-21T02:43:48.308575Z"
    },
    "papermill": {
     "duration": 0.069769,
     "end_time": "2022-06-11T00:21:49.121286",
     "exception": false,
     "start_time": "2022-06-11T00:21:49.051517",
     "status": "completed"
    },
    "tags": []
   },
   "outputs": [
    {
     "data": {
      "text/plain": [
       "4"
      ]
     },
     "execution_count": 38,
     "metadata": {},
     "output_type": "execute_result"
    }
   ],
   "source": [
    "cars = ['bmw','audi','toyota','subaru']\n",
    "len(cars)"
   ]
  },
  {
   "cell_type": "code",
   "execution_count": 39,
   "id": "b23a91a1",
   "metadata": {
    "execution": {
     "iopub.execute_input": "2022-06-11T00:21:49.249293Z",
     "iopub.status.busy": "2022-06-11T00:21:49.248229Z",
     "iopub.status.idle": "2022-06-11T00:21:49.250943Z",
     "shell.execute_reply": "2022-06-11T00:21:49.250327Z"
    },
    "papermill": {
     "duration": 0.068602,
     "end_time": "2022-06-11T00:21:49.251103",
     "exception": false,
     "start_time": "2022-06-11T00:21:49.182501",
     "status": "completed"
    },
    "tags": []
   },
   "outputs": [],
   "source": [
    "motorcycles = ['honda']"
   ]
  },
  {
   "cell_type": "markdown",
   "id": "703f9f53",
   "metadata": {
    "papermill": {
     "duration": 0.059896,
     "end_time": "2022-06-11T00:21:49.371269",
     "exception": false,
     "start_time": "2022-06-11T00:21:49.311373",
     "status": "completed"
    },
    "tags": []
   },
   "source": [
    "Working with lists"
   ]
  },
  {
   "cell_type": "code",
   "execution_count": 40,
   "id": "118eab8a",
   "metadata": {
    "execution": {
     "iopub.execute_input": "2022-06-11T00:21:49.496300Z",
     "iopub.status.busy": "2022-06-11T00:21:49.495316Z",
     "iopub.status.idle": "2022-06-11T00:21:49.501390Z",
     "shell.execute_reply": "2022-06-11T00:21:49.502248Z",
     "shell.execute_reply.started": "2022-03-22T02:38:32.036312Z"
    },
    "papermill": {
     "duration": 0.070292,
     "end_time": "2022-06-11T00:21:49.502474",
     "exception": false,
     "start_time": "2022-06-11T00:21:49.432182",
     "status": "completed"
    },
    "tags": []
   },
   "outputs": [
    {
     "name": "stdout",
     "output_type": "stream",
     "text": [
      "alice\n",
      "david\n",
      "carolina\n"
     ]
    }
   ],
   "source": [
    "magicians = ['alice','david','carolina']\n",
    "for magician in magicians:\n",
    "    print(magician)"
   ]
  },
  {
   "cell_type": "code",
   "execution_count": null,
   "id": "e869c2c8",
   "metadata": {
    "papermill": {
     "duration": 0.060799,
     "end_time": "2022-06-11T00:21:49.623940",
     "exception": false,
     "start_time": "2022-06-11T00:21:49.563141",
     "status": "completed"
    },
    "tags": []
   },
   "outputs": [],
   "source": []
  }
 ],
 "metadata": {
  "kernelspec": {
   "display_name": "Python 3",
   "language": "python",
   "name": "python3"
  },
  "language_info": {
   "codemirror_mode": {
    "name": "ipython",
    "version": 3
   },
   "file_extension": ".py",
   "mimetype": "text/x-python",
   "name": "python",
   "nbconvert_exporter": "python",
   "pygments_lexer": "ipython3",
   "version": "3.7.12"
  },
  "papermill": {
   "default_parameters": {},
   "duration": 16.264472,
   "end_time": "2022-06-11T00:21:50.295930",
   "environment_variables": {},
   "exception": null,
   "input_path": "__notebook__.ipynb",
   "output_path": "__notebook__.ipynb",
   "parameters": {},
   "start_time": "2022-06-11T00:21:34.031458",
   "version": "2.3.3"
  }
 },
 "nbformat": 4,
 "nbformat_minor": 5
}
